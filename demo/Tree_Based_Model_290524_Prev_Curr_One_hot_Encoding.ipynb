{
 "cells": [
  {
   "cell_type": "code",
   "execution_count": null,
   "id": "95c0aa3c-e1de-46d4-ade3-202409a17f1f",
   "metadata": {},
   "outputs": [],
   "source": [
    "## Random Forest"
   ]
  },
  {
   "cell_type": "code",
   "execution_count": 1,
   "id": "d6d98f49",
   "metadata": {
    "ExecuteTime": {
     "end_time": "2024-05-03T12:02:49.375191Z",
     "start_time": "2024-05-03T12:02:44.725195Z"
    },
    "execution": {
     "iopub.execute_input": "2024-05-28T10:55:49.363538Z",
     "iopub.status.busy": "2024-05-28T10:55:49.363290Z",
     "iopub.status.idle": "2024-05-28T10:55:50.036465Z",
     "shell.execute_reply": "2024-05-28T10:55:50.035932Z",
     "shell.execute_reply.started": "2024-05-28T10:55:49.363520Z"
    },
    "tags": []
   },
   "outputs": [],
   "source": [
    "import pandas as pd\n",
    "import numpy as np\n",
    "import matplotlib.pyplot as plt\n",
    "import connectorx as cx\n",
    "import math\n",
    "import time\n",
    "import shap\n",
    "import seaborn as sns\n",
    "import os\n",
    "import pandas as pd\n",
    "from sqlalchemy import create_engine\n",
    "import urllib.parse\n",
    "import mlflow\n",
    "from mlflow.models import infer_signature\n",
    "from sklearn.model_selection import train_test_split\n",
    "from sklearn.metrics import mean_squared_error, r2_score, explained_variance_score, mean_absolute_error\n",
    "from sklearn.ensemble import RandomForestRegressor\n",
    "from sklearn.preprocessing import LabelEncoder\n",
    "from sklearn.model_selection import cross_val_score, train_test_split\n",
    "import statistics\n",
    "import xgboost as xgb\n",
    "import plotly.express as px\n"
   ]
  },
  {
   "cell_type": "code",
   "execution_count": 4,
   "id": "f668daa8",
   "metadata": {
    "ExecuteTime": {
     "end_time": "2024-05-03T12:03:29.361807Z",
     "start_time": "2024-05-03T12:03:17.150574Z"
    },
    "execution": {
     "iopub.execute_input": "2024-05-28T10:55:55.123786Z",
     "iopub.status.busy": "2024-05-28T10:55:55.123335Z",
     "iopub.status.idle": "2024-05-28T10:56:07.603548Z",
     "shell.execute_reply": "2024-05-28T10:56:07.603030Z",
     "shell.execute_reply.started": "2024-05-28T10:55:55.123767Z"
    }
   },
   "outputs": [],
   "source": [
    "database = 'isgpostgres'\n",
    "user = 'postgres'\n",
    "password = '123@NjMpTs'\n",
    "host = '20.62.75.39'\n",
    "port = '9030'\n",
    "encoded_password = urllib.parse.quote(password)\n",
    "connection_string = \"postgresql+psycopg2://\" + user + \":\" + encoded_password + \"@\" + host + \":\" + port + \"/\" + database\n",
    "engine = create_engine(connection_string)\n",
    "\n",
    "sql_command = \"\"\" select * from tm_new_data.prev_cur_model_data_240529 \"\"\"\n",
    "\n",
    "# Execute the query and fetch the data\n",
    "data = pd.read_sql_query(sql_command, engine)"
   ]
  },
  {
   "cell_type": "code",
   "execution_count": 5,
   "id": "07879932",
   "metadata": {},
   "outputs": [],
   "source": [
    "data['extract'] = list(map(lambda x : x[0] , data['prev_ncc_arr']))"
   ]
  },
  {
   "cell_type": "code",
   "execution_count": 58,
   "id": "d7c2e589",
   "metadata": {},
   "outputs": [
    {
     "data": {
      "text/plain": [
       "(275598, 30)"
      ]
     },
     "execution_count": 58,
     "metadata": {},
     "output_type": "execute_result"
    }
   ],
   "source": [
    "data.shape"
   ]
  },
  {
   "cell_type": "code",
   "execution_count": 59,
   "id": "75587b57-8691-4302-b927-daabf343c2d9",
   "metadata": {
    "execution": {
     "iopub.execute_input": "2024-05-28T10:56:07.604662Z",
     "iopub.status.busy": "2024-05-28T10:56:07.604474Z",
     "iopub.status.idle": "2024-05-28T10:56:07.704132Z",
     "shell.execute_reply": "2024-05-28T10:56:07.703647Z",
     "shell.execute_reply.started": "2024-05-28T10:56:07.604647Z"
    }
   },
   "outputs": [],
   "source": [
    "new_data = data.copy()"
   ]
  },
  {
   "cell_type": "code",
   "execution_count": 60,
   "id": "bc92c34f-012d-4e39-ba5a-cb6b0f0f1786",
   "metadata": {
    "execution": {
     "iopub.execute_input": "2024-05-28T10:56:07.704836Z",
     "iopub.status.busy": "2024-05-28T10:56:07.704683Z",
     "iopub.status.idle": "2024-05-28T10:56:07.708001Z",
     "shell.execute_reply": "2024-05-28T10:56:07.707618Z",
     "shell.execute_reply.started": "2024-05-28T10:56:07.704821Z"
    }
   },
   "outputs": [
    {
     "data": {
      "text/plain": [
       "(275598, 30)"
      ]
     },
     "execution_count": 60,
     "metadata": {},
     "output_type": "execute_result"
    }
   ],
   "source": [
    "new_data.shape"
   ]
  },
  {
   "cell_type": "code",
   "execution_count": 61,
   "id": "9c628a18-7dc2-45a2-9c47-dc50406474b1",
   "metadata": {},
   "outputs": [
    {
     "data": {
      "text/plain": [
       "Index(['isg_osm_id', 'highway_id', 'region', 'roadwaytype_id', 'cur_lanes',\n",
       "       'cur_lanes_cat', 'cur_maxspeed', 'cur_spd_cat', 'cur_final_place',\n",
       "       'cur_areatype', 'cur_capacity', 'cur_cap_cat', 'prev_connected_count',\n",
       "       'volume', 'prev_isg_osm_id_arr', 'prev_highway_id_arr',\n",
       "       'prev_region_arr', 'prev_roadwaytype_id_arr', 'prev_lanes_arr',\n",
       "       'prev_lanes_cat_arr', 'prev_maxspeed_arr', 'prev_spd_cat_arr',\n",
       "       'prev_final_place_arr', 'prev_areatype_arr', 'prev_capacity_arr',\n",
       "       'prev_cap_cat_arr', 'prev_volume_arr', 'prev_volume', 'prev_ncc_arr',\n",
       "       'extract'],\n",
       "      dtype='object')"
      ]
     },
     "execution_count": 61,
     "metadata": {},
     "output_type": "execute_result"
    }
   ],
   "source": [
    "new_data.columns"
   ]
  },
  {
   "cell_type": "code",
   "execution_count": 66,
   "id": "c6beeb84-a7fa-40a5-9e95-cd61b8292f3a",
   "metadata": {
    "execution": {
     "iopub.execute_input": "2024-05-28T10:56:17.024838Z",
     "iopub.status.busy": "2024-05-28T10:56:17.024699Z",
     "iopub.status.idle": "2024-05-28T10:56:17.027434Z",
     "shell.execute_reply": "2024-05-28T10:56:17.027059Z",
     "shell.execute_reply.started": "2024-05-28T10:56:17.024825Z"
    }
   },
   "outputs": [],
   "source": [
    "selective_features_lst = [ 'highway_id', 'region', 'roadwaytype_id',\n",
    "                          'cur_lanes_cat','cur_spd_cat','cur_cap_cat','prev_connected_count',\n",
    "                           'prev_highway_id_arr', 'prev_region_arr',\n",
    "                           'prev_roadwaytype_id_arr', 'prev_ncc_arr',\n",
    "                           'prev_lanes_cat_arr', 'prev_spd_cat_arr',\n",
    "                           'prev_cap_cat_arr', 'prev_final_place_arr',\n",
    "                           'prev_areatype_arr',\n",
    "                           'prev_volume','volume']"
   ]
  },
  {
   "cell_type": "code",
   "execution_count": 67,
   "id": "901613f8-d4ef-4bb5-a158-970cde6bfc1a",
   "metadata": {
    "execution": {
     "iopub.execute_input": "2024-05-28T10:56:17.028341Z",
     "iopub.status.busy": "2024-05-28T10:56:17.027944Z",
     "iopub.status.idle": "2024-05-28T10:56:17.118051Z",
     "shell.execute_reply": "2024-05-28T10:56:17.117540Z",
     "shell.execute_reply.started": "2024-05-28T10:56:17.028327Z"
    }
   },
   "outputs": [],
   "source": [
    "new_data_2 = data[selective_features_lst].copy()"
   ]
  },
  {
   "cell_type": "code",
   "execution_count": 68,
   "id": "3eeccf6c-ea2d-4d2b-976b-263be716aa63",
   "metadata": {
    "execution": {
     "iopub.execute_input": "2024-05-28T10:56:17.118866Z",
     "iopub.status.busy": "2024-05-28T10:56:17.118674Z",
     "iopub.status.idle": "2024-05-28T10:56:17.186603Z",
     "shell.execute_reply": "2024-05-28T10:56:17.186154Z",
     "shell.execute_reply.started": "2024-05-28T10:56:17.118851Z"
    }
   },
   "outputs": [
    {
     "data": {
      "text/plain": [
       "highway_id                      0\n",
       "region                          0\n",
       "roadwaytype_id                  0\n",
       "cur_lanes_cat                   0\n",
       "cur_spd_cat                     0\n",
       "cur_cap_cat                     0\n",
       "prev_connected_count            0\n",
       "prev_highway_id_arr             0\n",
       "prev_region_arr                 0\n",
       "prev_roadwaytype_id_arr         0\n",
       "prev_ncc_arr                    0\n",
       "prev_lanes_cat_arr              0\n",
       "prev_spd_cat_arr                0\n",
       "prev_cap_cat_arr                0\n",
       "prev_final_place_arr            0\n",
       "prev_areatype_arr               0\n",
       "prev_volume                223651\n",
       "volume                          0\n",
       "dtype: int64"
      ]
     },
     "execution_count": 68,
     "metadata": {},
     "output_type": "execute_result"
    }
   ],
   "source": [
    "new_data_2.isnull().sum()"
   ]
  },
  {
   "cell_type": "code",
   "execution_count": 69,
   "id": "a23ec4de-ecc7-42a9-89a9-756454930732",
   "metadata": {
    "execution": {
     "iopub.execute_input": "2024-05-28T10:56:17.188336Z",
     "iopub.status.busy": "2024-05-28T10:56:17.188183Z",
     "iopub.status.idle": "2024-05-28T10:56:17.213344Z",
     "shell.execute_reply": "2024-05-28T10:56:17.212856Z",
     "shell.execute_reply.started": "2024-05-28T10:56:17.188323Z"
    }
   },
   "outputs": [],
   "source": [
    "seen_df = new_data_2[(new_data_2['volume']>0 ) & (new_data_2['prev_volume']>0 ) ]\n",
    "unseen_df = new_data_2[(new_data_2['volume'] < 0 ) & (new_data_2['prev_volume']>0 )]"
   ]
  },
  {
   "cell_type": "code",
   "execution_count": 134,
   "id": "05efc438-126d-46ee-9ca5-800630f6a2d7",
   "metadata": {
    "execution": {
     "iopub.execute_input": "2024-05-28T10:56:17.214367Z",
     "iopub.status.busy": "2024-05-28T10:56:17.214161Z",
     "iopub.status.idle": "2024-05-28T10:56:17.217247Z",
     "shell.execute_reply": "2024-05-28T10:56:17.216865Z",
     "shell.execute_reply.started": "2024-05-28T10:56:17.214354Z"
    }
   },
   "outputs": [
    {
     "data": {
      "text/plain": [
       "((37301, 18), (14646, 18))"
      ]
     },
     "execution_count": 134,
     "metadata": {},
     "output_type": "execute_result"
    }
   ],
   "source": [
    "seen_df.shape,unseen_df.shape"
   ]
  },
  {
   "cell_type": "code",
   "execution_count": 135,
   "id": "05df2d32-591b-43d0-8886-fa7f27c0d9fd",
   "metadata": {
    "execution": {
     "iopub.execute_input": "2024-05-28T10:56:17.218077Z",
     "iopub.status.busy": "2024-05-28T10:56:17.217816Z",
     "iopub.status.idle": "2024-05-28T10:56:17.263459Z",
     "shell.execute_reply": "2024-05-28T10:56:17.263018Z",
     "shell.execute_reply.started": "2024-05-28T10:56:17.218064Z"
    }
   },
   "outputs": [
    {
     "data": {
      "text/plain": [
       "highway_id                 0\n",
       "region                     0\n",
       "roadwaytype_id             0\n",
       "cur_lanes_cat              0\n",
       "cur_spd_cat                0\n",
       "cur_cap_cat                0\n",
       "prev_connected_count       0\n",
       "prev_highway_id_arr        0\n",
       "prev_region_arr            0\n",
       "prev_roadwaytype_id_arr    0\n",
       "prev_ncc_arr               0\n",
       "prev_lanes_cat_arr         0\n",
       "prev_spd_cat_arr           0\n",
       "prev_cap_cat_arr           0\n",
       "prev_final_place_arr       0\n",
       "prev_areatype_arr          0\n",
       "prev_volume                0\n",
       "volume                     0\n",
       "dtype: int64"
      ]
     },
     "execution_count": 135,
     "metadata": {},
     "output_type": "execute_result"
    }
   ],
   "source": [
    "seen_df.isnull().sum()"
   ]
  },
  {
   "cell_type": "code",
   "execution_count": 136,
   "id": "f948166e",
   "metadata": {},
   "outputs": [
    {
     "data": {
      "text/plain": [
       "highway_id                 0\n",
       "region                     0\n",
       "roadwaytype_id             0\n",
       "cur_lanes_cat              0\n",
       "cur_spd_cat                0\n",
       "cur_cap_cat                0\n",
       "prev_connected_count       0\n",
       "prev_highway_id_arr        0\n",
       "prev_region_arr            0\n",
       "prev_roadwaytype_id_arr    0\n",
       "prev_ncc_arr               0\n",
       "prev_lanes_cat_arr         0\n",
       "prev_spd_cat_arr           0\n",
       "prev_cap_cat_arr           0\n",
       "prev_final_place_arr       0\n",
       "prev_areatype_arr          0\n",
       "prev_volume                0\n",
       "volume                     0\n",
       "dtype: int64"
      ]
     },
     "execution_count": 136,
     "metadata": {},
     "output_type": "execute_result"
    }
   ],
   "source": [
    "unseen_df.isnull().sum()"
   ]
  },
  {
   "cell_type": "code",
   "execution_count": 186,
   "id": "5cf5d217",
   "metadata": {},
   "outputs": [],
   "source": [
    "encoded_feature_lst = ['prev_highway_id_arr', 'prev_region_arr',\n",
    "                           'prev_roadwaytype_id_arr', 'prev_ncc_arr',\n",
    "                           'prev_lanes_cat_arr', 'prev_spd_cat_arr',\n",
    "                           'prev_cap_cat_arr', 'prev_final_place_arr',\n",
    "                           'prev_areatype_arr']\n",
    "\n",
    "unencoded_feature_lst =  ['highway_id', 'region', 'roadwaytype_id','cur_lanes_cat',\n",
    "                          'cur_spd_cat','cur_cap_cat','prev_connected_count','prev_volume']\n",
    "\n",
    "target_feature_lst= ['volume']"
   ]
  },
  {
   "cell_type": "code",
   "execution_count": 187,
   "id": "c908b14d",
   "metadata": {},
   "outputs": [
    {
     "data": {
      "text/plain": [
       "(37301, 8)"
      ]
     },
     "execution_count": 187,
     "metadata": {},
     "output_type": "execute_result"
    }
   ],
   "source": [
    "features_unencoded_df = seen_df[unencoded_feature_lst].reset_index(drop=True)\n",
    "\n",
    "features_unencoded_df.shape"
   ]
  },
  {
   "cell_type": "code",
   "execution_count": 188,
   "id": "ce344998",
   "metadata": {},
   "outputs": [
    {
     "data": {
      "text/html": [
       "<div>\n",
       "<style scoped>\n",
       "    .dataframe tbody tr th:only-of-type {\n",
       "        vertical-align: middle;\n",
       "    }\n",
       "\n",
       "    .dataframe tbody tr th {\n",
       "        vertical-align: top;\n",
       "    }\n",
       "\n",
       "    .dataframe thead th {\n",
       "        text-align: right;\n",
       "    }\n",
       "</style>\n",
       "<table border=\"1\" class=\"dataframe\">\n",
       "  <thead>\n",
       "    <tr style=\"text-align: right;\">\n",
       "      <th></th>\n",
       "      <th>highway_id</th>\n",
       "      <th>region</th>\n",
       "      <th>roadwaytype_id</th>\n",
       "      <th>cur_lanes_cat</th>\n",
       "      <th>cur_spd_cat</th>\n",
       "      <th>cur_cap_cat</th>\n",
       "      <th>prev_connected_count</th>\n",
       "      <th>prev_volume</th>\n",
       "    </tr>\n",
       "  </thead>\n",
       "  <tbody>\n",
       "    <tr>\n",
       "      <th>0</th>\n",
       "      <td>2</td>\n",
       "      <td>5</td>\n",
       "      <td>16</td>\n",
       "      <td>2</td>\n",
       "      <td>1</td>\n",
       "      <td>2</td>\n",
       "      <td>1</td>\n",
       "      <td>2948.0</td>\n",
       "    </tr>\n",
       "    <tr>\n",
       "      <th>1</th>\n",
       "      <td>1</td>\n",
       "      <td>5</td>\n",
       "      <td>10</td>\n",
       "      <td>2</td>\n",
       "      <td>3</td>\n",
       "      <td>3</td>\n",
       "      <td>2</td>\n",
       "      <td>2579.0</td>\n",
       "    </tr>\n",
       "    <tr>\n",
       "      <th>2</th>\n",
       "      <td>1</td>\n",
       "      <td>5</td>\n",
       "      <td>10</td>\n",
       "      <td>2</td>\n",
       "      <td>3</td>\n",
       "      <td>3</td>\n",
       "      <td>1</td>\n",
       "      <td>2579.0</td>\n",
       "    </tr>\n",
       "    <tr>\n",
       "      <th>3</th>\n",
       "      <td>1</td>\n",
       "      <td>5</td>\n",
       "      <td>10</td>\n",
       "      <td>2</td>\n",
       "      <td>3</td>\n",
       "      <td>3</td>\n",
       "      <td>1</td>\n",
       "      <td>2877.0</td>\n",
       "    </tr>\n",
       "    <tr>\n",
       "      <th>4</th>\n",
       "      <td>1</td>\n",
       "      <td>5</td>\n",
       "      <td>10</td>\n",
       "      <td>2</td>\n",
       "      <td>3</td>\n",
       "      <td>2</td>\n",
       "      <td>2</td>\n",
       "      <td>1139.0</td>\n",
       "    </tr>\n",
       "  </tbody>\n",
       "</table>\n",
       "</div>"
      ],
      "text/plain": [
       "   highway_id  region  roadwaytype_id  cur_lanes_cat  cur_spd_cat  \\\n",
       "0           2       5              16              2            1   \n",
       "1           1       5              10              2            3   \n",
       "2           1       5              10              2            3   \n",
       "3           1       5              10              2            3   \n",
       "4           1       5              10              2            3   \n",
       "\n",
       "   cur_cap_cat  prev_connected_count  prev_volume  \n",
       "0            2                     1       2948.0  \n",
       "1            3                     2       2579.0  \n",
       "2            3                     1       2579.0  \n",
       "3            3                     1       2877.0  \n",
       "4            2                     2       1139.0  "
      ]
     },
     "execution_count": 188,
     "metadata": {},
     "output_type": "execute_result"
    }
   ],
   "source": [
    "features_unencoded_df.head()"
   ]
  },
  {
   "cell_type": "code",
   "execution_count": 191,
   "id": "f2b1d0ae",
   "metadata": {},
   "outputs": [
    {
     "data": {
      "text/plain": [
       "((37301, 59), (14646, 59))"
      ]
     },
     "execution_count": 191,
     "metadata": {},
     "output_type": "execute_result"
    }
   ],
   "source": [
    "mlb = MultiLabelBinarizer()\n",
    "\n",
    "features_encoded_df = pd.DataFrame()\n",
    "unseen_features_encoded_df = pd.DataFrame()\n",
    "\n",
    "for col in encoded_feature_lst:\n",
    "    #one_hot_encoded = mlb.fit_transform(seen_df[col])\n",
    "    mlb.fit(seen_df[col])  # Fit the encoder\n",
    "    \n",
    "    seen_one_hot_encoded = mlb.transform(seen_df[col]) \n",
    "    seen_temp_df = pd.DataFrame(seen_one_hot_encoded, columns=[f'{col}_{i}' for i in range(1, seen_one_hot_encoded.shape[1] + 1)])\n",
    "    features_encoded_df = pd.concat([features_encoded_df,seen_temp_df],axis=1)\n",
    "    \n",
    "    ## Unseen\n",
    "    unseen_one_hot_encoded = mlb.transform(unseen_df[col])\n",
    "    unsee_temp_df = pd.DataFrame(unseen_one_hot_encoded, columns=[f'{col}_{i}' for i in range(1, unseen_one_hot_encoded.shape[1] + 1)])\n",
    "    unseen_features_encoded_df = pd.concat([unseen_features_encoded_df,unsee_temp_df],axis=1)\n",
    "    \n",
    "    \n",
    "features_encoded_df.shape,unseen_features_encoded_df.shape"
   ]
  },
  {
   "cell_type": "code",
   "execution_count": 192,
   "id": "de09fa97",
   "metadata": {},
   "outputs": [
    {
     "data": {
      "text/html": [
       "<div>\n",
       "<style scoped>\n",
       "    .dataframe tbody tr th:only-of-type {\n",
       "        vertical-align: middle;\n",
       "    }\n",
       "\n",
       "    .dataframe tbody tr th {\n",
       "        vertical-align: top;\n",
       "    }\n",
       "\n",
       "    .dataframe thead th {\n",
       "        text-align: right;\n",
       "    }\n",
       "</style>\n",
       "<table border=\"1\" class=\"dataframe\">\n",
       "  <thead>\n",
       "    <tr style=\"text-align: right;\">\n",
       "      <th></th>\n",
       "      <th>prev_highway_id_arr_1</th>\n",
       "      <th>prev_highway_id_arr_2</th>\n",
       "      <th>prev_highway_id_arr_3</th>\n",
       "      <th>prev_highway_id_arr_4</th>\n",
       "      <th>prev_highway_id_arr_5</th>\n",
       "      <th>prev_highway_id_arr_6</th>\n",
       "      <th>prev_region_arr_1</th>\n",
       "      <th>prev_region_arr_2</th>\n",
       "      <th>prev_region_arr_3</th>\n",
       "      <th>prev_region_arr_4</th>\n",
       "      <th>...</th>\n",
       "      <th>prev_cap_cat_arr_4</th>\n",
       "      <th>prev_final_place_arr_1</th>\n",
       "      <th>prev_final_place_arr_2</th>\n",
       "      <th>prev_final_place_arr_3</th>\n",
       "      <th>prev_final_place_arr_4</th>\n",
       "      <th>prev_final_place_arr_5</th>\n",
       "      <th>prev_final_place_arr_6</th>\n",
       "      <th>prev_final_place_arr_7</th>\n",
       "      <th>prev_areatype_arr_1</th>\n",
       "      <th>prev_areatype_arr_2</th>\n",
       "    </tr>\n",
       "  </thead>\n",
       "  <tbody>\n",
       "    <tr>\n",
       "      <th>0</th>\n",
       "      <td>1</td>\n",
       "      <td>0</td>\n",
       "      <td>0</td>\n",
       "      <td>0</td>\n",
       "      <td>0</td>\n",
       "      <td>0</td>\n",
       "      <td>0</td>\n",
       "      <td>0</td>\n",
       "      <td>0</td>\n",
       "      <td>0</td>\n",
       "      <td>...</td>\n",
       "      <td>0</td>\n",
       "      <td>0</td>\n",
       "      <td>0</td>\n",
       "      <td>1</td>\n",
       "      <td>0</td>\n",
       "      <td>0</td>\n",
       "      <td>0</td>\n",
       "      <td>0</td>\n",
       "      <td>0</td>\n",
       "      <td>1</td>\n",
       "    </tr>\n",
       "    <tr>\n",
       "      <th>1</th>\n",
       "      <td>0</td>\n",
       "      <td>1</td>\n",
       "      <td>0</td>\n",
       "      <td>0</td>\n",
       "      <td>0</td>\n",
       "      <td>0</td>\n",
       "      <td>0</td>\n",
       "      <td>0</td>\n",
       "      <td>0</td>\n",
       "      <td>0</td>\n",
       "      <td>...</td>\n",
       "      <td>0</td>\n",
       "      <td>0</td>\n",
       "      <td>0</td>\n",
       "      <td>1</td>\n",
       "      <td>0</td>\n",
       "      <td>0</td>\n",
       "      <td>0</td>\n",
       "      <td>0</td>\n",
       "      <td>0</td>\n",
       "      <td>1</td>\n",
       "    </tr>\n",
       "    <tr>\n",
       "      <th>2</th>\n",
       "      <td>1</td>\n",
       "      <td>0</td>\n",
       "      <td>0</td>\n",
       "      <td>0</td>\n",
       "      <td>0</td>\n",
       "      <td>0</td>\n",
       "      <td>0</td>\n",
       "      <td>0</td>\n",
       "      <td>0</td>\n",
       "      <td>0</td>\n",
       "      <td>...</td>\n",
       "      <td>1</td>\n",
       "      <td>0</td>\n",
       "      <td>0</td>\n",
       "      <td>1</td>\n",
       "      <td>0</td>\n",
       "      <td>0</td>\n",
       "      <td>0</td>\n",
       "      <td>0</td>\n",
       "      <td>0</td>\n",
       "      <td>1</td>\n",
       "    </tr>\n",
       "    <tr>\n",
       "      <th>3</th>\n",
       "      <td>1</td>\n",
       "      <td>0</td>\n",
       "      <td>0</td>\n",
       "      <td>0</td>\n",
       "      <td>0</td>\n",
       "      <td>0</td>\n",
       "      <td>0</td>\n",
       "      <td>0</td>\n",
       "      <td>0</td>\n",
       "      <td>0</td>\n",
       "      <td>...</td>\n",
       "      <td>1</td>\n",
       "      <td>0</td>\n",
       "      <td>0</td>\n",
       "      <td>1</td>\n",
       "      <td>0</td>\n",
       "      <td>0</td>\n",
       "      <td>0</td>\n",
       "      <td>0</td>\n",
       "      <td>0</td>\n",
       "      <td>1</td>\n",
       "    </tr>\n",
       "    <tr>\n",
       "      <th>4</th>\n",
       "      <td>1</td>\n",
       "      <td>1</td>\n",
       "      <td>0</td>\n",
       "      <td>0</td>\n",
       "      <td>0</td>\n",
       "      <td>0</td>\n",
       "      <td>0</td>\n",
       "      <td>0</td>\n",
       "      <td>0</td>\n",
       "      <td>0</td>\n",
       "      <td>...</td>\n",
       "      <td>0</td>\n",
       "      <td>1</td>\n",
       "      <td>0</td>\n",
       "      <td>0</td>\n",
       "      <td>0</td>\n",
       "      <td>0</td>\n",
       "      <td>0</td>\n",
       "      <td>0</td>\n",
       "      <td>0</td>\n",
       "      <td>1</td>\n",
       "    </tr>\n",
       "  </tbody>\n",
       "</table>\n",
       "<p>5 rows × 59 columns</p>\n",
       "</div>"
      ],
      "text/plain": [
       "   prev_highway_id_arr_1  prev_highway_id_arr_2  prev_highway_id_arr_3  \\\n",
       "0                      1                      0                      0   \n",
       "1                      0                      1                      0   \n",
       "2                      1                      0                      0   \n",
       "3                      1                      0                      0   \n",
       "4                      1                      1                      0   \n",
       "\n",
       "   prev_highway_id_arr_4  prev_highway_id_arr_5  prev_highway_id_arr_6  \\\n",
       "0                      0                      0                      0   \n",
       "1                      0                      0                      0   \n",
       "2                      0                      0                      0   \n",
       "3                      0                      0                      0   \n",
       "4                      0                      0                      0   \n",
       "\n",
       "   prev_region_arr_1  prev_region_arr_2  prev_region_arr_3  prev_region_arr_4  \\\n",
       "0                  0                  0                  0                  0   \n",
       "1                  0                  0                  0                  0   \n",
       "2                  0                  0                  0                  0   \n",
       "3                  0                  0                  0                  0   \n",
       "4                  0                  0                  0                  0   \n",
       "\n",
       "   ...  prev_cap_cat_arr_4  prev_final_place_arr_1  prev_final_place_arr_2  \\\n",
       "0  ...                   0                       0                       0   \n",
       "1  ...                   0                       0                       0   \n",
       "2  ...                   1                       0                       0   \n",
       "3  ...                   1                       0                       0   \n",
       "4  ...                   0                       1                       0   \n",
       "\n",
       "   prev_final_place_arr_3  prev_final_place_arr_4  prev_final_place_arr_5  \\\n",
       "0                       1                       0                       0   \n",
       "1                       1                       0                       0   \n",
       "2                       1                       0                       0   \n",
       "3                       1                       0                       0   \n",
       "4                       0                       0                       0   \n",
       "\n",
       "   prev_final_place_arr_6  prev_final_place_arr_7  prev_areatype_arr_1  \\\n",
       "0                       0                       0                    0   \n",
       "1                       0                       0                    0   \n",
       "2                       0                       0                    0   \n",
       "3                       0                       0                    0   \n",
       "4                       0                       0                    0   \n",
       "\n",
       "   prev_areatype_arr_2  \n",
       "0                    1  \n",
       "1                    1  \n",
       "2                    1  \n",
       "3                    1  \n",
       "4                    1  \n",
       "\n",
       "[5 rows x 59 columns]"
      ]
     },
     "execution_count": 192,
     "metadata": {},
     "output_type": "execute_result"
    }
   ],
   "source": [
    "features_encoded_df.head()"
   ]
  },
  {
   "cell_type": "code",
   "execution_count": 193,
   "id": "d386668d",
   "metadata": {},
   "outputs": [
    {
     "data": {
      "text/plain": [
       "(37301, 67)"
      ]
     },
     "execution_count": 193,
     "metadata": {},
     "output_type": "execute_result"
    }
   ],
   "source": [
    "final_seen_df = pd.concat([features_unencoded_df,features_encoded_df],axis=1)\n",
    "final_seen_df.shape"
   ]
  },
  {
   "cell_type": "code",
   "execution_count": 194,
   "id": "ba75d801",
   "metadata": {
    "ExecuteTime": {
     "end_time": "2024-05-03T12:08:42.270346Z",
     "start_time": "2024-05-03T12:08:42.244732Z"
    },
    "execution": {
     "iopub.execute_input": "2024-05-28T10:56:17.344182Z",
     "iopub.status.busy": "2024-05-28T10:56:17.343927Z",
     "iopub.status.idle": "2024-05-28T10:56:17.365731Z",
     "shell.execute_reply": "2024-05-28T10:56:17.365346Z",
     "shell.execute_reply.started": "2024-05-28T10:56:17.344170Z"
    }
   },
   "outputs": [
    {
     "data": {
      "text/plain": [
       "((29840, 67), (7461, 67), (29840, 1), (7461, 1))"
      ]
     },
     "execution_count": 194,
     "metadata": {},
     "output_type": "execute_result"
    }
   ],
   "source": [
    "X,y = final_seen_df,seen_df[target_feature_lst]\n",
    "X_train, X_test, y_train, y_test = train_test_split(X, y, test_size=0.2, random_state=42)\n",
    "X_train.shape,X_test.shape, y_train.shape, y_test.shape"
   ]
  },
  {
   "cell_type": "code",
   "execution_count": 203,
   "id": "e7aa668c",
   "metadata": {
    "execution": {
     "iopub.execute_input": "2024-05-28T10:56:17.366563Z",
     "iopub.status.busy": "2024-05-28T10:56:17.366280Z",
     "iopub.status.idle": "2024-05-28T10:56:17.371568Z",
     "shell.execute_reply": "2024-05-28T10:56:17.371165Z",
     "shell.execute_reply.started": "2024-05-28T10:56:17.366549Z"
    }
   },
   "outputs": [],
   "source": [
    "def geh_check(row):\n",
    "    current_vol = row['prev_volume']\n",
    "    next_vol = row['predicted_volume']\n",
    "    metric_value = float(np.sqrt(2 * np.sum((current_vol - next_vol) ** 2) / np.sum(current_vol + next_vol)))\n",
    "    return metric_value"
   ]
  },
  {
   "cell_type": "code",
   "execution_count": 204,
   "id": "dca67cb1",
   "metadata": {
    "ExecuteTime": {
     "end_time": "2024-05-03T12:08:52.045553Z",
     "start_time": "2024-05-03T12:08:52.040040Z"
    },
    "execution": {
     "iopub.execute_input": "2024-05-28T10:56:17.372359Z",
     "iopub.status.busy": "2024-05-28T10:56:17.372102Z",
     "iopub.status.idle": "2024-05-28T10:56:17.384825Z",
     "shell.execute_reply": "2024-05-28T10:56:17.384436Z",
     "shell.execute_reply.started": "2024-05-28T10:56:17.372346Z"
    }
   },
   "outputs": [],
   "source": [
    "def mean_geh(y_test, y_pred):\n",
    "    geh_lst = []\n",
    "    for i,j in zip(y_test, y_pred):\n",
    "        row = {'volume':i,'predicted_volume':j}\n",
    "        geh_lst.append(geh_check(row))\n",
    "    return statistics.mean(geh_lst)"
   ]
  },
  {
   "cell_type": "code",
   "execution_count": 205,
   "id": "680a3af4",
   "metadata": {
    "ExecuteTime": {
     "end_time": "2024-05-03T12:11:40.027429Z",
     "start_time": "2024-05-03T12:11:40.011916Z"
    },
    "execution": {
     "iopub.execute_input": "2024-05-28T10:56:17.385579Z",
     "iopub.status.busy": "2024-05-28T10:56:17.385328Z",
     "iopub.status.idle": "2024-05-28T10:56:17.400639Z",
     "shell.execute_reply": "2024-05-28T10:56:17.400225Z",
     "shell.execute_reply.started": "2024-05-28T10:56:17.385567Z"
    }
   },
   "outputs": [],
   "source": [
    "def log_model_summary(xg_reg,X_train,X_test,y_train,y_test,y_pred):\n",
    "    \n",
    "    # Log Parameter\n",
    "    xgb_params = xg_reg.get_params()\n",
    "    mlflow.log_params(xgb_params)\n",
    "    \n",
    "    Test_Data_Df = X_test.copy()\n",
    "    Test_Data_Df['volume'] = y_test['volume']\n",
    "    Test_Data_Df['predicted_volume']=y_pred\n",
    "    Test_Data_Df['predicted_volume']=Test_Data_Df['predicted_volume'].round().astype(int)\n",
    "    Test_Data_Df['diff']=Test_Data_Df['volume']-Test_Data_Df['predicted_volume']\n",
    "    Test_Data_Df['geh'] = Test_Data_Df.apply(lambda row: geh_check(row), axis=1)\n",
    "    Test_Data_Df['geh'] = Test_Data_Df['geh'].round(2)\n",
    "    \n",
    "    # Log Metrics\n",
    "    mse = round(mean_squared_error(y_test, y_pred),3)\n",
    "    rmse = round(np.sqrt(mse),3)\n",
    "    r2 = round(r2_score(y_test, y_pred),3)\n",
    "    n = X_test.shape[0]\n",
    "    p = X_test.shape[1]\n",
    "    adjusted_r2score =  round((1 - (1 - r2) * (n - 1) / (n - p - 1)),3)\n",
    "    mae = round(mean_absolute_error(y_test, y_pred),3)\n",
    "    \n",
    "    m_geh = round(mean_geh(y_test.values, y_pred),3)\n",
    "    geh_grt_5 = Test_Data_Df[Test_Data_Df['geh']>5].shape[0]\n",
    "    geh_error_per = round(((geh_grt_5/n)*100),3)\n",
    "    \n",
    "    metrics = {'mse':mse,'rmse':rmse,'r2score':r2,'mae':mae,'adjusted_r2score' : adjusted_r2score,\n",
    "               'mean_geh':m_geh,'test_data_size':n,'geh_grt_5':geh_grt_5,'geh_error_per':geh_error_per}\n",
    "    \n",
    "    mlflow.log_metrics(metrics)\n",
    "    \n",
    "    \n",
    "    # log tags\n",
    "    tags = {'Model_Name' : 'RF',\n",
    "            'Train Size' : X_train.shape[0],\n",
    "            'Test Size' : X_test.shape[0],\n",
    "            'No. Of Input Feature' : len(input_feature_lst),\n",
    "            'No. Of Target Feature ': len(target_feature_lst),\n",
    "            'input_feature_lst':input_feature_lst,\n",
    "            'target_feature_lst': target_feature_lst}\n",
    "    \n",
    "    mlflow.set_tags(tags)\n",
    "\n",
    "    return  Test_Data_Df"
   ]
  },
  {
   "cell_type": "code",
   "execution_count": 206,
   "id": "8cb54d83",
   "metadata": {
    "ExecuteTime": {
     "end_time": "2024-05-03T12:11:42.564064Z",
     "start_time": "2024-05-03T12:11:42.555771Z"
    },
    "execution": {
     "iopub.execute_input": "2024-05-28T10:56:17.401316Z",
     "iopub.status.busy": "2024-05-28T10:56:17.401182Z",
     "iopub.status.idle": "2024-05-28T10:56:17.428979Z",
     "shell.execute_reply": "2024-05-28T10:56:17.428545Z",
     "shell.execute_reply.started": "2024-05-28T10:56:17.401304Z"
    }
   },
   "outputs": [
    {
     "name": "stdout",
     "output_type": "stream",
     "text": [
      "Tracking URI: https://ptt2-mlflow.isgsuite.com/\n"
     ]
    }
   ],
   "source": [
    "os.environ['MLFLOW_TRACKING_USERNAME'] = 'isgadmin'\n",
    "os.environ['MLFLOW_TRACKING_PASSWORD'] = 'infosense12@'\n",
    "tracking_server_uri = \"https://ptt2-mlflow.isgsuite.com/\"\n",
    "mlflow.set_tracking_uri(tracking_server_uri)\n",
    "tracking_uri = mlflow.get_tracking_uri()\n",
    "print(\"Tracking URI:\", tracking_uri)"
   ]
  },
  {
   "cell_type": "code",
   "execution_count": 207,
   "id": "947eb68c",
   "metadata": {
    "ExecuteTime": {
     "end_time": "2024-05-03T12:11:43.671204Z",
     "start_time": "2024-05-03T12:11:43.662379Z"
    },
    "execution": {
     "iopub.execute_input": "2024-05-28T10:56:17.429684Z",
     "iopub.status.busy": "2024-05-28T10:56:17.429524Z",
     "iopub.status.idle": "2024-05-28T10:56:17.441217Z",
     "shell.execute_reply": "2024-05-28T10:56:17.440820Z",
     "shell.execute_reply.started": "2024-05-28T10:56:17.429665Z"
    }
   },
   "outputs": [
    {
     "name": "stdout",
     "output_type": "stream",
     "text": [
      "Run Name: RF_FC_1_2_3_Encoded\n",
      "Description: previous as input values and current is target\n"
     ]
    }
   ],
   "source": [
    "# experiment_name = \"TM_New_Approach\"\n",
    "# experiment = mlflow.set_experiment(experiment_name)\n",
    "# experiment_id = experiment.experiment_id\n",
    "run_name = 'RF_FC_1_2_3_Encoded'\n",
    "description = 'previous as input values and current is target'\n",
    "# Get Experiment Details\n",
    "# print(f\"Experiment_id: {experiment.experiment_id}\")\n",
    "print(f\"Run Name: {run_name}\")\n",
    "print(f\"Description: {description}\")\n",
    "# print(f\"Artifact Location: {experiment.artifact_location}\")"
   ]
  },
  {
   "cell_type": "code",
   "execution_count": 208,
   "id": "95306392",
   "metadata": {
    "ExecuteTime": {
     "end_time": "2024-05-03T12:12:13.859137Z",
     "start_time": "2024-05-03T12:12:07.236229Z"
    },
    "execution": {
     "iopub.execute_input": "2024-05-28T10:56:17.797980Z",
     "iopub.status.busy": "2024-05-28T10:56:17.797823Z",
     "iopub.status.idle": "2024-05-28T10:56:50.667554Z",
     "shell.execute_reply": "2024-05-28T10:56:50.667140Z",
     "shell.execute_reply.started": "2024-05-28T10:56:17.797961Z"
    },
    "scrolled": true
   },
   "outputs": [
    {
     "name": "stderr",
     "output_type": "stream",
     "text": [
      "C:\\Users\\VipulPrajapati\\anaconda3\\lib\\site-packages\\sklearn\\base.py:1152: DataConversionWarning:\n",
      "\n",
      "A column-vector y was passed when a 1d array was expected. Please change the shape of y to (n_samples,), for example using ravel().\n",
      "\n"
     ]
    },
    {
     "ename": "KeyError",
     "evalue": "'prev_volume'",
     "output_type": "error",
     "traceback": [
      "\u001b[1;31m---------------------------------------------------------------------------\u001b[0m",
      "\u001b[1;31mKeyError\u001b[0m                                  Traceback (most recent call last)",
      "\u001b[1;32m~\\AppData\\Local\\Temp\\ipykernel_17680\\2122433340.py\u001b[0m in \u001b[0;36m<module>\u001b[1;34m\u001b[0m\n\u001b[0;32m     23\u001b[0m \u001b[1;33m\u001b[0m\u001b[0m\n\u001b[0;32m     24\u001b[0m     \u001b[1;31m# Log Model Summary\u001b[0m\u001b[1;33m\u001b[0m\u001b[1;33m\u001b[0m\u001b[0m\n\u001b[1;32m---> 25\u001b[1;33m     \u001b[0mTest_Data_Df\u001b[0m \u001b[1;33m=\u001b[0m \u001b[0mlog_model_summary\u001b[0m\u001b[1;33m(\u001b[0m\u001b[0mxg_reg\u001b[0m\u001b[1;33m,\u001b[0m\u001b[0mX_train\u001b[0m\u001b[1;33m,\u001b[0m\u001b[0mX_test\u001b[0m\u001b[1;33m,\u001b[0m\u001b[0my_train\u001b[0m\u001b[1;33m,\u001b[0m\u001b[0my_test\u001b[0m\u001b[1;33m,\u001b[0m\u001b[0my_pred\u001b[0m\u001b[1;33m)\u001b[0m\u001b[1;33m\u001b[0m\u001b[1;33m\u001b[0m\u001b[0m\n\u001b[0m\u001b[0;32m     26\u001b[0m \u001b[1;33m\u001b[0m\u001b[0m\n\u001b[0;32m     27\u001b[0m     \u001b[1;31m# Store Indexes\u001b[0m\u001b[1;33m\u001b[0m\u001b[1;33m\u001b[0m\u001b[0m\n",
      "\u001b[1;32m~\\AppData\\Local\\Temp\\ipykernel_17680\\2942908266.py\u001b[0m in \u001b[0;36mlog_model_summary\u001b[1;34m(xg_reg, X_train, X_test, y_train, y_test, y_pred)\u001b[0m\n\u001b[0;32m     22\u001b[0m     \u001b[0mmae\u001b[0m \u001b[1;33m=\u001b[0m \u001b[0mround\u001b[0m\u001b[1;33m(\u001b[0m\u001b[0mmean_absolute_error\u001b[0m\u001b[1;33m(\u001b[0m\u001b[0my_test\u001b[0m\u001b[1;33m,\u001b[0m \u001b[0my_pred\u001b[0m\u001b[1;33m)\u001b[0m\u001b[1;33m,\u001b[0m\u001b[1;36m3\u001b[0m\u001b[1;33m)\u001b[0m\u001b[1;33m\u001b[0m\u001b[1;33m\u001b[0m\u001b[0m\n\u001b[0;32m     23\u001b[0m \u001b[1;33m\u001b[0m\u001b[0m\n\u001b[1;32m---> 24\u001b[1;33m     \u001b[0mm_geh\u001b[0m \u001b[1;33m=\u001b[0m \u001b[0mround\u001b[0m\u001b[1;33m(\u001b[0m\u001b[0mmean_geh\u001b[0m\u001b[1;33m(\u001b[0m\u001b[0my_test\u001b[0m\u001b[1;33m.\u001b[0m\u001b[0mvalues\u001b[0m\u001b[1;33m,\u001b[0m \u001b[0my_pred\u001b[0m\u001b[1;33m)\u001b[0m\u001b[1;33m,\u001b[0m\u001b[1;36m3\u001b[0m\u001b[1;33m)\u001b[0m\u001b[1;33m\u001b[0m\u001b[1;33m\u001b[0m\u001b[0m\n\u001b[0m\u001b[0;32m     25\u001b[0m     \u001b[0mgeh_grt_5\u001b[0m \u001b[1;33m=\u001b[0m \u001b[0mTest_Data_Df\u001b[0m\u001b[1;33m[\u001b[0m\u001b[0mTest_Data_Df\u001b[0m\u001b[1;33m[\u001b[0m\u001b[1;34m'geh'\u001b[0m\u001b[1;33m]\u001b[0m\u001b[1;33m>\u001b[0m\u001b[1;36m5\u001b[0m\u001b[1;33m]\u001b[0m\u001b[1;33m.\u001b[0m\u001b[0mshape\u001b[0m\u001b[1;33m[\u001b[0m\u001b[1;36m0\u001b[0m\u001b[1;33m]\u001b[0m\u001b[1;33m\u001b[0m\u001b[1;33m\u001b[0m\u001b[0m\n\u001b[0;32m     26\u001b[0m     \u001b[0mgeh_error_per\u001b[0m \u001b[1;33m=\u001b[0m \u001b[0mround\u001b[0m\u001b[1;33m(\u001b[0m\u001b[1;33m(\u001b[0m\u001b[1;33m(\u001b[0m\u001b[0mgeh_grt_5\u001b[0m\u001b[1;33m/\u001b[0m\u001b[0mn\u001b[0m\u001b[1;33m)\u001b[0m\u001b[1;33m*\u001b[0m\u001b[1;36m100\u001b[0m\u001b[1;33m)\u001b[0m\u001b[1;33m,\u001b[0m\u001b[1;36m3\u001b[0m\u001b[1;33m)\u001b[0m\u001b[1;33m\u001b[0m\u001b[1;33m\u001b[0m\u001b[0m\n",
      "\u001b[1;32m~\\AppData\\Local\\Temp\\ipykernel_17680\\3356941197.py\u001b[0m in \u001b[0;36mmean_geh\u001b[1;34m(y_test, y_pred)\u001b[0m\n\u001b[0;32m      3\u001b[0m     \u001b[1;32mfor\u001b[0m \u001b[0mi\u001b[0m\u001b[1;33m,\u001b[0m\u001b[0mj\u001b[0m \u001b[1;32min\u001b[0m \u001b[0mzip\u001b[0m\u001b[1;33m(\u001b[0m\u001b[0my_test\u001b[0m\u001b[1;33m,\u001b[0m \u001b[0my_pred\u001b[0m\u001b[1;33m)\u001b[0m\u001b[1;33m:\u001b[0m\u001b[1;33m\u001b[0m\u001b[1;33m\u001b[0m\u001b[0m\n\u001b[0;32m      4\u001b[0m         \u001b[0mrow\u001b[0m \u001b[1;33m=\u001b[0m \u001b[1;33m{\u001b[0m\u001b[1;34m'volume'\u001b[0m\u001b[1;33m:\u001b[0m\u001b[0mi\u001b[0m\u001b[1;33m,\u001b[0m\u001b[1;34m'predicted_volume'\u001b[0m\u001b[1;33m:\u001b[0m\u001b[0mj\u001b[0m\u001b[1;33m}\u001b[0m\u001b[1;33m\u001b[0m\u001b[1;33m\u001b[0m\u001b[0m\n\u001b[1;32m----> 5\u001b[1;33m         \u001b[0mgeh_lst\u001b[0m\u001b[1;33m.\u001b[0m\u001b[0mappend\u001b[0m\u001b[1;33m(\u001b[0m\u001b[0mgeh_check\u001b[0m\u001b[1;33m(\u001b[0m\u001b[0mrow\u001b[0m\u001b[1;33m)\u001b[0m\u001b[1;33m)\u001b[0m\u001b[1;33m\u001b[0m\u001b[1;33m\u001b[0m\u001b[0m\n\u001b[0m\u001b[0;32m      6\u001b[0m     \u001b[1;32mreturn\u001b[0m \u001b[0mstatistics\u001b[0m\u001b[1;33m.\u001b[0m\u001b[0mmean\u001b[0m\u001b[1;33m(\u001b[0m\u001b[0mgeh_lst\u001b[0m\u001b[1;33m)\u001b[0m\u001b[1;33m\u001b[0m\u001b[1;33m\u001b[0m\u001b[0m\n",
      "\u001b[1;32m~\\AppData\\Local\\Temp\\ipykernel_17680\\2406311202.py\u001b[0m in \u001b[0;36mgeh_check\u001b[1;34m(row)\u001b[0m\n\u001b[0;32m      1\u001b[0m \u001b[1;32mdef\u001b[0m \u001b[0mgeh_check\u001b[0m\u001b[1;33m(\u001b[0m\u001b[0mrow\u001b[0m\u001b[1;33m)\u001b[0m\u001b[1;33m:\u001b[0m\u001b[1;33m\u001b[0m\u001b[1;33m\u001b[0m\u001b[0m\n\u001b[1;32m----> 2\u001b[1;33m     \u001b[0mcurrent_vol\u001b[0m \u001b[1;33m=\u001b[0m \u001b[0mrow\u001b[0m\u001b[1;33m[\u001b[0m\u001b[1;34m'prev_volume'\u001b[0m\u001b[1;33m]\u001b[0m\u001b[1;33m\u001b[0m\u001b[1;33m\u001b[0m\u001b[0m\n\u001b[0m\u001b[0;32m      3\u001b[0m     \u001b[0mnext_vol\u001b[0m \u001b[1;33m=\u001b[0m \u001b[0mrow\u001b[0m\u001b[1;33m[\u001b[0m\u001b[1;34m'predicted_volume'\u001b[0m\u001b[1;33m]\u001b[0m\u001b[1;33m\u001b[0m\u001b[1;33m\u001b[0m\u001b[0m\n\u001b[0;32m      4\u001b[0m     \u001b[0mmetric_value\u001b[0m \u001b[1;33m=\u001b[0m \u001b[0mfloat\u001b[0m\u001b[1;33m(\u001b[0m\u001b[0mnp\u001b[0m\u001b[1;33m.\u001b[0m\u001b[0msqrt\u001b[0m\u001b[1;33m(\u001b[0m\u001b[1;36m2\u001b[0m \u001b[1;33m*\u001b[0m \u001b[0mnp\u001b[0m\u001b[1;33m.\u001b[0m\u001b[0msum\u001b[0m\u001b[1;33m(\u001b[0m\u001b[1;33m(\u001b[0m\u001b[0mcurrent_vol\u001b[0m \u001b[1;33m-\u001b[0m \u001b[0mnext_vol\u001b[0m\u001b[1;33m)\u001b[0m \u001b[1;33m**\u001b[0m \u001b[1;36m2\u001b[0m\u001b[1;33m)\u001b[0m \u001b[1;33m/\u001b[0m \u001b[0mnp\u001b[0m\u001b[1;33m.\u001b[0m\u001b[0msum\u001b[0m\u001b[1;33m(\u001b[0m\u001b[0mcurrent_vol\u001b[0m \u001b[1;33m+\u001b[0m \u001b[0mnext_vol\u001b[0m\u001b[1;33m)\u001b[0m\u001b[1;33m)\u001b[0m\u001b[1;33m)\u001b[0m\u001b[1;33m\u001b[0m\u001b[1;33m\u001b[0m\u001b[0m\n\u001b[0;32m      5\u001b[0m     \u001b[1;32mreturn\u001b[0m \u001b[0mmetric_value\u001b[0m\u001b[1;33m\u001b[0m\u001b[1;33m\u001b[0m\u001b[0m\n",
      "\u001b[1;31mKeyError\u001b[0m: 'prev_volume'"
     ]
    }
   ],
   "source": [
    "with mlflow.start_run(experiment_id=\"59\",run_name = run_name,description=description) as run:\n",
    "\n",
    "    # Define the XGBoost regressor with the specified parameters\n",
    "    params = {\n",
    "    'n_estimators' : 500,\n",
    "    'max_depth' : 8,\n",
    "    'max_leaf_nodes' : 2000,\n",
    "    'min_samples_split' : 2,\n",
    "    'min_samples_leaf' : 15,\n",
    "    'bootstrap' : False,\n",
    "    'random_state' : 1234,\n",
    "    'criterion' : 'poisson',\n",
    "    'max_features' : 0.6\n",
    "    }\n",
    "    \n",
    "    # Train the model\n",
    "    xg_reg = RandomForestRegressor(**params)\n",
    "    xg_reg.fit(X_train, y_train)\n",
    "    # Make predictions on the test set\n",
    "    y_pred = xg_reg.predict(X_test)\n",
    "    y_test['volume'] = round(y_test['volume'],0).astype(int)\n",
    "    y_pred = np.rint(y_pred).astype(int)\n",
    "    \n",
    "    # Log Model Summary\n",
    "    Test_Data_Df = log_model_summary(xg_reg,X_train,X_test,y_train,y_test,y_pred)\n",
    "    \n",
    "    # Store Indexes\n",
    "    # X_train_index = seen_df_1[seen_df_1.index.isin(X_train.index)].row_num.tolist()\n",
    "    # X_test_index = seen_df_1[seen_df_1.index.isin(X_test.index)].row_num.tolist()\n",
    "    # data_json = {'X_train_index': X_train_index,'X_test_index': X_test_index}\n",
    "    \n",
    "    # mlflow.log_dict(data_json, \"Data_Index.json\")\n",
    "   \n",
    "    \n",
    "    # Log Feature Importance\n",
    "\n",
    "    explainer = shap.TreeExplainer(xg_reg)\n",
    "    shap_values = explainer.shap_values(X_train[:500])\n",
    "    fig = shap.summary_plot(shap_values, X_train[:500], plot_type=\"bar\",show=False)\n",
    "    # Save the Image\n",
    "    image_path = \"Feature_Importance.png\"\n",
    "    plt.savefig(image_path)\n",
    "    mlflow.log_artifact(image_path, \"images\")\n",
    "    \n",
    "#     Actual Vs Prediction Plot\n",
    "    fig = px.scatter(Test_Data_Df, x='volume', y='predicted_volume')\n",
    "    fig.add_trace(px.line(Test_Data_Df, x='volume', y='volume').data[0])\n",
    "    fig.update_layout(xaxis_title='Actual Values', yaxis_title='Predicted Values')\n",
    "    html_str = fig.to_html(full_html=False)\n",
    "    with open(\"Actual_Vs_Prediction_Plot.html\", \"w\") as f:\n",
    "        f.write(html_str)\n",
    "    mlflow.log_artifact(\"Actual_Vs_Prediction_Plot.html\", \"html\")\n",
    "        \n",
    "# #     Actual And Prediction Distribution\n",
    "    \n",
    "#     fig, axs = plt.subplots(1, 2, figsize=(14, 6))\n",
    "#     sns.histplot(Test_Data_Df['volume'], color='blue', kde=True, ax=axs[0])\n",
    "#     axs[0].set_title('Actual Distribution')\n",
    "#     axs[0].set_xlabel('Values')\n",
    "#     axs[0].set_ylabel('Frequency')\n",
    "#     sns.histplot(Test_Data_Df['predicted_volume'], color='orange', kde=True, ax=axs[1])\n",
    "#     axs[1].set_title('Predicted Distribution')\n",
    "#     axs[1].set_xlabel('Values')\n",
    "#     axs[1].set_ylabel('Frequency')\n",
    "#     plt.tight_layout()\n",
    "\n",
    "#     image_path = \"Actual_And_Prediction_Distribution.png\"\n",
    "#     plt.savefig(image_path)\n",
    "#     mlflow.log_artifact(image_path, \"images\")\n",
    "    \n",
    "#     pd.options.mode.use_inf_as_null = True\n",
    "# #     Residuals Plot\n",
    "#     plt.figure(figsize=(8, 6))\n",
    "#     sns.histplot(Test_Data_Df['diff'], bins=100, kde=False, color='skyblue')\n",
    "#     plt.xlabel('Values')\n",
    "#     plt.ylabel('Frequency')\n",
    "#     plt.title('Histogram with KDE')\n",
    "#     plt.xlim(-500, 500)\n",
    "#     plt.grid(True)\n",
    "    \n",
    "#     image_path = \"Residuals_Plot.png\"\n",
    "#     plt.savefig(image_path)\n",
    "#     mlflow.log_artifact(image_path, \"images\")\n",
    "    \n",
    "#     Log Model\n",
    "    signature = infer_signature(X_test, xg_reg.predict(X_test))\n",
    "    mlflow.sklearn.log_model(xg_reg, \"model\", signature=signature)\n",
    "    \n",
    "    mlflow.end_run()  "
   ]
  },
  {
   "cell_type": "code",
   "execution_count": null,
   "id": "d57804be",
   "metadata": {
    "execution": {
     "iopub.execute_input": "2024-05-28T10:56:50.668608Z",
     "iopub.status.busy": "2024-05-28T10:56:50.668440Z",
     "iopub.status.idle": "2024-05-28T10:56:50.672633Z",
     "shell.execute_reply": "2024-05-28T10:56:50.672244Z",
     "shell.execute_reply.started": "2024-05-28T10:56:50.668595Z"
    }
   },
   "outputs": [],
   "source": [
    "Test_Data_Df[Test_Data_Df['geh']>5].shape,Test_Data_Df[Test_Data_Df['geh']>25].shape"
   ]
  },
  {
   "cell_type": "code",
   "execution_count": null,
   "id": "55382fc8",
   "metadata": {},
   "outputs": [],
   "source": []
  },
  {
   "cell_type": "markdown",
   "id": "b7dc8d5e-1c09-4eb6-af4f-f64b36598d66",
   "metadata": {},
   "source": [
    "### Prepare Data For unseen data"
   ]
  },
  {
   "cell_type": "code",
   "execution_count": 195,
   "id": "53671b06",
   "metadata": {},
   "outputs": [
    {
     "data": {
      "text/plain": [
       "(14646, 67)"
      ]
     },
     "execution_count": 195,
     "metadata": {},
     "output_type": "execute_result"
    }
   ],
   "source": [
    "final_unseen_df = pd.concat([unseen_features_encoded_df,unseen_features_unencoded_df],axis=1)\n",
    "final_unseen_df.shape"
   ]
  },
  {
   "cell_type": "code",
   "execution_count": null,
   "id": "3fd22f08",
   "metadata": {},
   "outputs": [],
   "source": []
  },
  {
   "cell_type": "code",
   "execution_count": 198,
   "id": "4ef56c4f",
   "metadata": {},
   "outputs": [
    {
     "data": {
      "text/plain": [
       "Index(['prev_highway_id_arr_1', 'prev_highway_id_arr_2',\n",
       "       'prev_highway_id_arr_3', 'prev_highway_id_arr_4',\n",
       "       'prev_highway_id_arr_5', 'prev_highway_id_arr_6', 'prev_region_arr_1',\n",
       "       'prev_region_arr_2', 'prev_region_arr_3', 'prev_region_arr_4',\n",
       "       'prev_region_arr_5', 'prev_region_arr_6', 'prev_region_arr_7',\n",
       "       'prev_region_arr_8', 'prev_region_arr_9', 'prev_region_arr_10',\n",
       "       'prev_region_arr_11', 'prev_roadwaytype_id_arr_1',\n",
       "       'prev_roadwaytype_id_arr_2', 'prev_roadwaytype_id_arr_3',\n",
       "       'prev_roadwaytype_id_arr_4', 'prev_roadwaytype_id_arr_5',\n",
       "       'prev_roadwaytype_id_arr_6', 'prev_roadwaytype_id_arr_7',\n",
       "       'prev_roadwaytype_id_arr_8', 'prev_roadwaytype_id_arr_9',\n",
       "       'prev_roadwaytype_id_arr_10', 'prev_roadwaytype_id_arr_11',\n",
       "       'prev_roadwaytype_id_arr_12', 'prev_roadwaytype_id_arr_13',\n",
       "       'prev_roadwaytype_id_arr_14', 'prev_roadwaytype_id_arr_15',\n",
       "       'prev_roadwaytype_id_arr_16', 'prev_roadwaytype_id_arr_17',\n",
       "       'prev_roadwaytype_id_arr_18', 'prev_roadwaytype_id_arr_19',\n",
       "       'prev_ncc_arr_1', 'prev_ncc_arr_2', 'prev_ncc_arr_3', 'prev_ncc_arr_4',\n",
       "       'prev_ncc_arr_5', 'prev_lanes_cat_arr_1', 'prev_lanes_cat_arr_2',\n",
       "       'prev_spd_cat_arr_1', 'prev_spd_cat_arr_2', 'prev_spd_cat_arr_3',\n",
       "       'prev_cap_cat_arr_1', 'prev_cap_cat_arr_2', 'prev_cap_cat_arr_3',\n",
       "       'prev_cap_cat_arr_4', 'prev_final_place_arr_1',\n",
       "       'prev_final_place_arr_2', 'prev_final_place_arr_3',\n",
       "       'prev_final_place_arr_4', 'prev_final_place_arr_5',\n",
       "       'prev_final_place_arr_6', 'prev_final_place_arr_7',\n",
       "       'prev_areatype_arr_1', 'prev_areatype_arr_2', 'highway_id', 'region',\n",
       "       'roadwaytype_id', 'cur_lanes_cat', 'cur_spd_cat', 'cur_cap_cat',\n",
       "       'prev_connected_count', 'prev_volume'],\n",
       "      dtype='object')"
      ]
     },
     "execution_count": 198,
     "metadata": {},
     "output_type": "execute_result"
    }
   ],
   "source": [
    "final_unseen_df.columns"
   ]
  },
  {
   "cell_type": "code",
   "execution_count": 196,
   "id": "3940cecc",
   "metadata": {},
   "outputs": [],
   "source": [
    "unseen_df_1 = final_unseen_df.copy()"
   ]
  },
  {
   "cell_type": "code",
   "execution_count": 201,
   "id": "3f2200bc",
   "metadata": {},
   "outputs": [],
   "source": [
    "unseen_pred = xg_reg.predict(final_unseen_df[final_seen_df.columns.tolist()])\n",
    "\n",
    "unseen_df_1['predicted_volume'] = unseen_pred\n",
    "unseen_df_1['predicted_volume'] = unseen_df_1['predicted_volume'].round().astype(int)"
   ]
  },
  {
   "cell_type": "code",
   "execution_count": 202,
   "id": "4ae22b8b",
   "metadata": {},
   "outputs": [
    {
     "ename": "KeyError",
     "evalue": "'volume'",
     "output_type": "error",
     "traceback": [
      "\u001b[1;31m---------------------------------------------------------------------------\u001b[0m",
      "\u001b[1;31mKeyError\u001b[0m                                  Traceback (most recent call last)",
      "\u001b[1;32m~\\AppData\\Roaming\\Python\\Python39\\site-packages\\pandas\\core\\indexes\\base.py\u001b[0m in \u001b[0;36mget_loc\u001b[1;34m(self, key)\u001b[0m\n\u001b[0;32m   3652\u001b[0m         \u001b[1;32mtry\u001b[0m\u001b[1;33m:\u001b[0m\u001b[1;33m\u001b[0m\u001b[1;33m\u001b[0m\u001b[0m\n\u001b[1;32m-> 3653\u001b[1;33m             \u001b[1;32mreturn\u001b[0m \u001b[0mself\u001b[0m\u001b[1;33m.\u001b[0m\u001b[0m_engine\u001b[0m\u001b[1;33m.\u001b[0m\u001b[0mget_loc\u001b[0m\u001b[1;33m(\u001b[0m\u001b[0mcasted_key\u001b[0m\u001b[1;33m)\u001b[0m\u001b[1;33m\u001b[0m\u001b[1;33m\u001b[0m\u001b[0m\n\u001b[0m\u001b[0;32m   3654\u001b[0m         \u001b[1;32mexcept\u001b[0m \u001b[0mKeyError\u001b[0m \u001b[1;32mas\u001b[0m \u001b[0merr\u001b[0m\u001b[1;33m:\u001b[0m\u001b[1;33m\u001b[0m\u001b[1;33m\u001b[0m\u001b[0m\n",
      "\u001b[1;32m~\\AppData\\Roaming\\Python\\Python39\\site-packages\\pandas\\_libs\\index.pyx\u001b[0m in \u001b[0;36mpandas._libs.index.IndexEngine.get_loc\u001b[1;34m()\u001b[0m\n",
      "\u001b[1;32m~\\AppData\\Roaming\\Python\\Python39\\site-packages\\pandas\\_libs\\index.pyx\u001b[0m in \u001b[0;36mpandas._libs.index.IndexEngine.get_loc\u001b[1;34m()\u001b[0m\n",
      "\u001b[1;32mpandas\\_libs\\hashtable_class_helper.pxi\u001b[0m in \u001b[0;36mpandas._libs.hashtable.PyObjectHashTable.get_item\u001b[1;34m()\u001b[0m\n",
      "\u001b[1;32mpandas\\_libs\\hashtable_class_helper.pxi\u001b[0m in \u001b[0;36mpandas._libs.hashtable.PyObjectHashTable.get_item\u001b[1;34m()\u001b[0m\n",
      "\u001b[1;31mKeyError\u001b[0m: 'volume'",
      "\nThe above exception was the direct cause of the following exception:\n",
      "\u001b[1;31mKeyError\u001b[0m                                  Traceback (most recent call last)",
      "\u001b[1;32m~\\AppData\\Local\\Temp\\ipykernel_17680\\2209635388.py\u001b[0m in \u001b[0;36m<module>\u001b[1;34m\u001b[0m\n\u001b[1;32m----> 1\u001b[1;33m \u001b[0munseen_df_1\u001b[0m\u001b[1;33m[\u001b[0m\u001b[1;34m'GEH'\u001b[0m\u001b[1;33m]\u001b[0m \u001b[1;33m=\u001b[0m \u001b[0munseen_df_1\u001b[0m\u001b[1;33m.\u001b[0m\u001b[0mapply\u001b[0m\u001b[1;33m(\u001b[0m\u001b[0mgeh_check\u001b[0m\u001b[1;33m,\u001b[0m \u001b[0maxis\u001b[0m\u001b[1;33m=\u001b[0m\u001b[1;36m1\u001b[0m\u001b[1;33m)\u001b[0m\u001b[1;33m\u001b[0m\u001b[1;33m\u001b[0m\u001b[0m\n\u001b[0m\u001b[0;32m      2\u001b[0m \u001b[0munseen_df_1\u001b[0m\u001b[1;33m.\u001b[0m\u001b[0mshape\u001b[0m\u001b[1;33m\u001b[0m\u001b[1;33m\u001b[0m\u001b[0m\n",
      "\u001b[1;32m~\\AppData\\Roaming\\Python\\Python39\\site-packages\\pandas\\core\\frame.py\u001b[0m in \u001b[0;36mapply\u001b[1;34m(self, func, axis, raw, result_type, args, **kwargs)\u001b[0m\n\u001b[0;32m   9421\u001b[0m             \u001b[0mkwargs\u001b[0m\u001b[1;33m=\u001b[0m\u001b[0mkwargs\u001b[0m\u001b[1;33m,\u001b[0m\u001b[1;33m\u001b[0m\u001b[1;33m\u001b[0m\u001b[0m\n\u001b[0;32m   9422\u001b[0m         )\n\u001b[1;32m-> 9423\u001b[1;33m         \u001b[1;32mreturn\u001b[0m \u001b[0mop\u001b[0m\u001b[1;33m.\u001b[0m\u001b[0mapply\u001b[0m\u001b[1;33m(\u001b[0m\u001b[1;33m)\u001b[0m\u001b[1;33m.\u001b[0m\u001b[0m__finalize__\u001b[0m\u001b[1;33m(\u001b[0m\u001b[0mself\u001b[0m\u001b[1;33m,\u001b[0m \u001b[0mmethod\u001b[0m\u001b[1;33m=\u001b[0m\u001b[1;34m\"apply\"\u001b[0m\u001b[1;33m)\u001b[0m\u001b[1;33m\u001b[0m\u001b[1;33m\u001b[0m\u001b[0m\n\u001b[0m\u001b[0;32m   9424\u001b[0m \u001b[1;33m\u001b[0m\u001b[0m\n\u001b[0;32m   9425\u001b[0m     def applymap(\n",
      "\u001b[1;32m~\\AppData\\Roaming\\Python\\Python39\\site-packages\\pandas\\core\\apply.py\u001b[0m in \u001b[0;36mapply\u001b[1;34m(self)\u001b[0m\n\u001b[0;32m    676\u001b[0m             \u001b[1;32mreturn\u001b[0m \u001b[0mself\u001b[0m\u001b[1;33m.\u001b[0m\u001b[0mapply_raw\u001b[0m\u001b[1;33m(\u001b[0m\u001b[1;33m)\u001b[0m\u001b[1;33m\u001b[0m\u001b[1;33m\u001b[0m\u001b[0m\n\u001b[0;32m    677\u001b[0m \u001b[1;33m\u001b[0m\u001b[0m\n\u001b[1;32m--> 678\u001b[1;33m         \u001b[1;32mreturn\u001b[0m \u001b[0mself\u001b[0m\u001b[1;33m.\u001b[0m\u001b[0mapply_standard\u001b[0m\u001b[1;33m(\u001b[0m\u001b[1;33m)\u001b[0m\u001b[1;33m\u001b[0m\u001b[1;33m\u001b[0m\u001b[0m\n\u001b[0m\u001b[0;32m    679\u001b[0m \u001b[1;33m\u001b[0m\u001b[0m\n\u001b[0;32m    680\u001b[0m     \u001b[1;32mdef\u001b[0m \u001b[0magg\u001b[0m\u001b[1;33m(\u001b[0m\u001b[0mself\u001b[0m\u001b[1;33m)\u001b[0m\u001b[1;33m:\u001b[0m\u001b[1;33m\u001b[0m\u001b[1;33m\u001b[0m\u001b[0m\n",
      "\u001b[1;32m~\\AppData\\Roaming\\Python\\Python39\\site-packages\\pandas\\core\\apply.py\u001b[0m in \u001b[0;36mapply_standard\u001b[1;34m(self)\u001b[0m\n\u001b[0;32m    796\u001b[0m \u001b[1;33m\u001b[0m\u001b[0m\n\u001b[0;32m    797\u001b[0m     \u001b[1;32mdef\u001b[0m \u001b[0mapply_standard\u001b[0m\u001b[1;33m(\u001b[0m\u001b[0mself\u001b[0m\u001b[1;33m)\u001b[0m\u001b[1;33m:\u001b[0m\u001b[1;33m\u001b[0m\u001b[1;33m\u001b[0m\u001b[0m\n\u001b[1;32m--> 798\u001b[1;33m         \u001b[0mresults\u001b[0m\u001b[1;33m,\u001b[0m \u001b[0mres_index\u001b[0m \u001b[1;33m=\u001b[0m \u001b[0mself\u001b[0m\u001b[1;33m.\u001b[0m\u001b[0mapply_series_generator\u001b[0m\u001b[1;33m(\u001b[0m\u001b[1;33m)\u001b[0m\u001b[1;33m\u001b[0m\u001b[1;33m\u001b[0m\u001b[0m\n\u001b[0m\u001b[0;32m    799\u001b[0m \u001b[1;33m\u001b[0m\u001b[0m\n\u001b[0;32m    800\u001b[0m         \u001b[1;31m# wrap results\u001b[0m\u001b[1;33m\u001b[0m\u001b[1;33m\u001b[0m\u001b[0m\n",
      "\u001b[1;32m~\\AppData\\Roaming\\Python\\Python39\\site-packages\\pandas\\core\\apply.py\u001b[0m in \u001b[0;36mapply_series_generator\u001b[1;34m(self)\u001b[0m\n\u001b[0;32m    812\u001b[0m             \u001b[1;32mfor\u001b[0m \u001b[0mi\u001b[0m\u001b[1;33m,\u001b[0m \u001b[0mv\u001b[0m \u001b[1;32min\u001b[0m \u001b[0menumerate\u001b[0m\u001b[1;33m(\u001b[0m\u001b[0mseries_gen\u001b[0m\u001b[1;33m)\u001b[0m\u001b[1;33m:\u001b[0m\u001b[1;33m\u001b[0m\u001b[1;33m\u001b[0m\u001b[0m\n\u001b[0;32m    813\u001b[0m                 \u001b[1;31m# ignore SettingWithCopy here in case the user mutates\u001b[0m\u001b[1;33m\u001b[0m\u001b[1;33m\u001b[0m\u001b[0m\n\u001b[1;32m--> 814\u001b[1;33m                 \u001b[0mresults\u001b[0m\u001b[1;33m[\u001b[0m\u001b[0mi\u001b[0m\u001b[1;33m]\u001b[0m \u001b[1;33m=\u001b[0m \u001b[0mself\u001b[0m\u001b[1;33m.\u001b[0m\u001b[0mf\u001b[0m\u001b[1;33m(\u001b[0m\u001b[0mv\u001b[0m\u001b[1;33m)\u001b[0m\u001b[1;33m\u001b[0m\u001b[1;33m\u001b[0m\u001b[0m\n\u001b[0m\u001b[0;32m    815\u001b[0m                 \u001b[1;32mif\u001b[0m \u001b[0misinstance\u001b[0m\u001b[1;33m(\u001b[0m\u001b[0mresults\u001b[0m\u001b[1;33m[\u001b[0m\u001b[0mi\u001b[0m\u001b[1;33m]\u001b[0m\u001b[1;33m,\u001b[0m \u001b[0mABCSeries\u001b[0m\u001b[1;33m)\u001b[0m\u001b[1;33m:\u001b[0m\u001b[1;33m\u001b[0m\u001b[1;33m\u001b[0m\u001b[0m\n\u001b[0;32m    816\u001b[0m                     \u001b[1;31m# If we have a view on v, we need to make a copy because\u001b[0m\u001b[1;33m\u001b[0m\u001b[1;33m\u001b[0m\u001b[0m\n",
      "\u001b[1;32m~\\AppData\\Local\\Temp\\ipykernel_17680\\2933605203.py\u001b[0m in \u001b[0;36mgeh_check\u001b[1;34m(row)\u001b[0m\n\u001b[0;32m      1\u001b[0m \u001b[1;32mdef\u001b[0m \u001b[0mgeh_check\u001b[0m\u001b[1;33m(\u001b[0m\u001b[0mrow\u001b[0m\u001b[1;33m)\u001b[0m\u001b[1;33m:\u001b[0m\u001b[1;33m\u001b[0m\u001b[1;33m\u001b[0m\u001b[0m\n\u001b[1;32m----> 2\u001b[1;33m     \u001b[0mcurrent_vol\u001b[0m \u001b[1;33m=\u001b[0m \u001b[0mrow\u001b[0m\u001b[1;33m[\u001b[0m\u001b[1;34m'volume'\u001b[0m\u001b[1;33m]\u001b[0m\u001b[1;33m\u001b[0m\u001b[1;33m\u001b[0m\u001b[0m\n\u001b[0m\u001b[0;32m      3\u001b[0m     \u001b[0mnext_vol\u001b[0m \u001b[1;33m=\u001b[0m \u001b[0mrow\u001b[0m\u001b[1;33m[\u001b[0m\u001b[1;34m'predicted_volume'\u001b[0m\u001b[1;33m]\u001b[0m\u001b[1;33m\u001b[0m\u001b[1;33m\u001b[0m\u001b[0m\n\u001b[0;32m      4\u001b[0m     \u001b[0mmetric_value\u001b[0m \u001b[1;33m=\u001b[0m \u001b[0mfloat\u001b[0m\u001b[1;33m(\u001b[0m\u001b[0mnp\u001b[0m\u001b[1;33m.\u001b[0m\u001b[0msqrt\u001b[0m\u001b[1;33m(\u001b[0m\u001b[1;36m2\u001b[0m \u001b[1;33m*\u001b[0m \u001b[0mnp\u001b[0m\u001b[1;33m.\u001b[0m\u001b[0msum\u001b[0m\u001b[1;33m(\u001b[0m\u001b[1;33m(\u001b[0m\u001b[0mcurrent_vol\u001b[0m \u001b[1;33m-\u001b[0m \u001b[0mnext_vol\u001b[0m\u001b[1;33m)\u001b[0m \u001b[1;33m**\u001b[0m \u001b[1;36m2\u001b[0m\u001b[1;33m)\u001b[0m \u001b[1;33m/\u001b[0m \u001b[0mnp\u001b[0m\u001b[1;33m.\u001b[0m\u001b[0msum\u001b[0m\u001b[1;33m(\u001b[0m\u001b[0mcurrent_vol\u001b[0m \u001b[1;33m+\u001b[0m \u001b[0mnext_vol\u001b[0m\u001b[1;33m)\u001b[0m\u001b[1;33m)\u001b[0m\u001b[1;33m)\u001b[0m\u001b[1;33m\u001b[0m\u001b[1;33m\u001b[0m\u001b[0m\n\u001b[0;32m      5\u001b[0m     \u001b[1;32mreturn\u001b[0m \u001b[0mmetric_value\u001b[0m\u001b[1;33m\u001b[0m\u001b[1;33m\u001b[0m\u001b[0m\n",
      "\u001b[1;32m~\\AppData\\Roaming\\Python\\Python39\\site-packages\\pandas\\core\\series.py\u001b[0m in \u001b[0;36m__getitem__\u001b[1;34m(self, key)\u001b[0m\n\u001b[0;32m   1005\u001b[0m \u001b[1;33m\u001b[0m\u001b[0m\n\u001b[0;32m   1006\u001b[0m         \u001b[1;32melif\u001b[0m \u001b[0mkey_is_scalar\u001b[0m\u001b[1;33m:\u001b[0m\u001b[1;33m\u001b[0m\u001b[1;33m\u001b[0m\u001b[0m\n\u001b[1;32m-> 1007\u001b[1;33m             \u001b[1;32mreturn\u001b[0m \u001b[0mself\u001b[0m\u001b[1;33m.\u001b[0m\u001b[0m_get_value\u001b[0m\u001b[1;33m(\u001b[0m\u001b[0mkey\u001b[0m\u001b[1;33m)\u001b[0m\u001b[1;33m\u001b[0m\u001b[1;33m\u001b[0m\u001b[0m\n\u001b[0m\u001b[0;32m   1008\u001b[0m \u001b[1;33m\u001b[0m\u001b[0m\n\u001b[0;32m   1009\u001b[0m         \u001b[1;32mif\u001b[0m \u001b[0mis_hashable\u001b[0m\u001b[1;33m(\u001b[0m\u001b[0mkey\u001b[0m\u001b[1;33m)\u001b[0m\u001b[1;33m:\u001b[0m\u001b[1;33m\u001b[0m\u001b[1;33m\u001b[0m\u001b[0m\n",
      "\u001b[1;32m~\\AppData\\Roaming\\Python\\Python39\\site-packages\\pandas\\core\\series.py\u001b[0m in \u001b[0;36m_get_value\u001b[1;34m(self, label, takeable)\u001b[0m\n\u001b[0;32m   1114\u001b[0m \u001b[1;33m\u001b[0m\u001b[0m\n\u001b[0;32m   1115\u001b[0m         \u001b[1;31m# Similar to Index.get_value, but we do not fall back to positional\u001b[0m\u001b[1;33m\u001b[0m\u001b[1;33m\u001b[0m\u001b[0m\n\u001b[1;32m-> 1116\u001b[1;33m         \u001b[0mloc\u001b[0m \u001b[1;33m=\u001b[0m \u001b[0mself\u001b[0m\u001b[1;33m.\u001b[0m\u001b[0mindex\u001b[0m\u001b[1;33m.\u001b[0m\u001b[0mget_loc\u001b[0m\u001b[1;33m(\u001b[0m\u001b[0mlabel\u001b[0m\u001b[1;33m)\u001b[0m\u001b[1;33m\u001b[0m\u001b[1;33m\u001b[0m\u001b[0m\n\u001b[0m\u001b[0;32m   1117\u001b[0m \u001b[1;33m\u001b[0m\u001b[0m\n\u001b[0;32m   1118\u001b[0m         \u001b[1;32mif\u001b[0m \u001b[0mis_integer\u001b[0m\u001b[1;33m(\u001b[0m\u001b[0mloc\u001b[0m\u001b[1;33m)\u001b[0m\u001b[1;33m:\u001b[0m\u001b[1;33m\u001b[0m\u001b[1;33m\u001b[0m\u001b[0m\n",
      "\u001b[1;32m~\\AppData\\Roaming\\Python\\Python39\\site-packages\\pandas\\core\\indexes\\base.py\u001b[0m in \u001b[0;36mget_loc\u001b[1;34m(self, key)\u001b[0m\n\u001b[0;32m   3653\u001b[0m             \u001b[1;32mreturn\u001b[0m \u001b[0mself\u001b[0m\u001b[1;33m.\u001b[0m\u001b[0m_engine\u001b[0m\u001b[1;33m.\u001b[0m\u001b[0mget_loc\u001b[0m\u001b[1;33m(\u001b[0m\u001b[0mcasted_key\u001b[0m\u001b[1;33m)\u001b[0m\u001b[1;33m\u001b[0m\u001b[1;33m\u001b[0m\u001b[0m\n\u001b[0;32m   3654\u001b[0m         \u001b[1;32mexcept\u001b[0m \u001b[0mKeyError\u001b[0m \u001b[1;32mas\u001b[0m \u001b[0merr\u001b[0m\u001b[1;33m:\u001b[0m\u001b[1;33m\u001b[0m\u001b[1;33m\u001b[0m\u001b[0m\n\u001b[1;32m-> 3655\u001b[1;33m             \u001b[1;32mraise\u001b[0m \u001b[0mKeyError\u001b[0m\u001b[1;33m(\u001b[0m\u001b[0mkey\u001b[0m\u001b[1;33m)\u001b[0m \u001b[1;32mfrom\u001b[0m \u001b[0merr\u001b[0m\u001b[1;33m\u001b[0m\u001b[1;33m\u001b[0m\u001b[0m\n\u001b[0m\u001b[0;32m   3656\u001b[0m         \u001b[1;32mexcept\u001b[0m \u001b[0mTypeError\u001b[0m\u001b[1;33m:\u001b[0m\u001b[1;33m\u001b[0m\u001b[1;33m\u001b[0m\u001b[0m\n\u001b[0;32m   3657\u001b[0m             \u001b[1;31m# If we have a listlike key, _check_indexing_error will raise\u001b[0m\u001b[1;33m\u001b[0m\u001b[1;33m\u001b[0m\u001b[0m\n",
      "\u001b[1;31mKeyError\u001b[0m: 'volume'"
     ]
    }
   ],
   "source": [
    "\n",
    "unseen_df_1['GEH'] = unseen_df_1.apply(geh_check, axis=1)\n",
    "unseen_df_1.shape"
   ]
  },
  {
   "cell_type": "code",
   "execution_count": null,
   "id": "7cba5d79",
   "metadata": {},
   "outputs": [],
   "source": []
  },
  {
   "cell_type": "code",
   "execution_count": null,
   "id": "88625de4",
   "metadata": {},
   "outputs": [],
   "source": []
  }
 ],
 "metadata": {
  "kernelspec": {
   "display_name": "Python 3 (ipykernel)",
   "language": "python",
   "name": "python3"
  },
  "language_info": {
   "codemirror_mode": {
    "name": "ipython",
    "version": 3
   },
   "file_extension": ".py",
   "mimetype": "text/x-python",
   "name": "python",
   "nbconvert_exporter": "python",
   "pygments_lexer": "ipython3",
   "version": "3.9.13"
  },
  "varInspector": {
   "cols": {
    "lenName": 16,
    "lenType": 16,
    "lenVar": 40
   },
   "kernels_config": {
    "python": {
     "delete_cmd_postfix": "",
     "delete_cmd_prefix": "del ",
     "library": "var_list.py",
     "varRefreshCmd": "print(var_dic_list())"
    },
    "r": {
     "delete_cmd_postfix": ") ",
     "delete_cmd_prefix": "rm(",
     "library": "var_list.r",
     "varRefreshCmd": "cat(var_dic_list()) "
    }
   },
   "types_to_exclude": [
    "module",
    "function",
    "builtin_function_or_method",
    "instance",
    "_Feature"
   ],
   "window_display": false
  },
  "widgets": {
   "application/vnd.jupyter.widget-state+json": {
    "state": {},
    "version_major": 2,
    "version_minor": 0
   }
  }
 },
 "nbformat": 4,
 "nbformat_minor": 5
}
