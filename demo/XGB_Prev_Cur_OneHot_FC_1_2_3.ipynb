{
 "cells": [
  {
   "cell_type": "code",
   "execution_count": 1,
   "id": "95c0aa3c-e1de-46d4-ade3-202409a17f1f",
   "metadata": {
    "execution": {
     "iopub.execute_input": "2024-06-18T15:59:17.927156Z",
     "iopub.status.busy": "2024-06-18T15:59:17.927156Z",
     "iopub.status.idle": "2024-06-18T15:59:17.936214Z",
     "shell.execute_reply": "2024-06-18T15:59:17.934129Z",
     "shell.execute_reply.started": "2024-06-18T15:59:17.927156Z"
    }
   },
   "outputs": [],
   "source": [
    "##XGB"
   ]
  },
  {
   "cell_type": "code",
   "execution_count": 1,
   "id": "d6d98f49",
   "metadata": {
    "ExecuteTime": {
     "end_time": "2024-05-03T12:02:49.375191Z",
     "start_time": "2024-05-03T12:02:44.725195Z"
    },
    "execution": {
     "iopub.execute_input": "2024-06-18T15:59:17.938345Z",
     "iopub.status.busy": "2024-06-18T15:59:17.937291Z",
     "iopub.status.idle": "2024-06-18T15:59:23.845411Z",
     "shell.execute_reply": "2024-06-18T15:59:23.842872Z",
     "shell.execute_reply.started": "2024-06-18T15:59:17.938345Z"
    },
    "tags": []
   },
   "outputs": [],
   "source": [
    "import pandas as pd\n",
    "import numpy as np\n",
    "import matplotlib.pyplot as plt\n",
    "import connectorx as cx\n",
    "import math\n",
    "import time\n",
    "import shap\n",
    "import pickle\n",
    "import seaborn as sns\n",
    "import os\n",
    "import pandas as pd\n",
    "from sqlalchemy import create_engine\n",
    "import urllib.parse\n",
    "import mlflow\n",
    "from mlflow.models import infer_signature\n",
    "from sklearn.model_selection import train_test_split\n",
    "from sklearn.metrics import mean_squared_error, r2_score, explained_variance_score, mean_absolute_error\n",
    "from sklearn.preprocessing import LabelEncoder\n",
    "from sklearn.model_selection import cross_val_score, train_test_split\n",
    "import statistics\n",
    "import xgboost as xgb\n",
    "import plotly.express as px\n",
    "from sklearn.preprocessing import MultiLabelBinarizer"
   ]
  },
  {
   "cell_type": "markdown",
   "id": "9c4a54ec",
   "metadata": {},
   "source": [
    "## Data Preparation"
   ]
  },
  {
   "cell_type": "code",
   "execution_count": 23,
   "id": "f668daa8",
   "metadata": {
    "ExecuteTime": {
     "end_time": "2024-05-03T12:03:29.361807Z",
     "start_time": "2024-05-03T12:03:17.150574Z"
    },
    "execution": {
     "iopub.execute_input": "2024-06-18T15:59:23.849408Z",
     "iopub.status.busy": "2024-06-18T15:59:23.848411Z",
     "iopub.status.idle": "2024-06-18T15:59:49.077320Z",
     "shell.execute_reply": "2024-06-18T15:59:49.074306Z",
     "shell.execute_reply.started": "2024-06-18T15:59:23.849408Z"
    }
   },
   "outputs": [
    {
     "data": {
      "text/plain": [
       "((37301, 36),\n",
       " Index(['isg_osm_id', 'highway_id', 'region', 'roadwaytype_id', 'cur_lanes',\n",
       "        'cur_lanes_cat', 'cur_maxspeed', 'cur_spd_cat', 'cur_final_place',\n",
       "        'cur_areatype', 'cur_final_place_encoded', 'cur_areatype_encoded',\n",
       "        'cur_capacity', 'cur_cap_cat', 'prev_connected_count', 'volume',\n",
       "        'prev_isg_osm_id_arr', 'prev_highway_id_arr', 'prev_region_arr',\n",
       "        'prev_roadwaytype_id_arr', 'prev_cur_lanes_arr', 'prev_lanes_cat_arr',\n",
       "        'prev_maxspeed_arr', 'prev_spd_cat_arr', 'prev_final_place_arr',\n",
       "        'prev_areatype_arr', 'prev_capacity_arr', 'prev_cap_cat_arr',\n",
       "        'prev_volume_arr', 'prev_ncc_arr', 'max_prev_ncc', 'availble_prev_vol',\n",
       "        'availble_ramp_vol', 'availble_main_road_vol', 'prev_vol_filter_arr',\n",
       "        'prev_volume'],\n",
       "       dtype='object'))"
      ]
     },
     "execution_count": 23,
     "metadata": {},
     "output_type": "execute_result"
    }
   ],
   "source": [
    "database = 'isgpostgres'\n",
    "user = 'postgres'\n",
    "password = '123@NjMpTs'\n",
    "host = '20.62.75.39'\n",
    "port = '9030'\n",
    "encoded_password = urllib.parse.quote(password)\n",
    "connection_string = \"postgresql+psycopg2://\" + user + \":\" + encoded_password + \"@\" + host + \":\" + port + \"/\" + database\n",
    "engine = create_engine(connection_string)\n",
    "\n",
    "sql_command = \"\"\" select * from tm_new_data.prev_cur_model_data_240614_AP where volume>0 and prev_volume > 0  \"\"\"\n",
    "\n",
    "# Execute the query and fetch the data\n",
    "seen_df = pd.read_sql_query(sql_command, engine)\n",
    "seen_df.shape,seen_df.columns"
   ]
  },
  {
   "cell_type": "code",
   "execution_count": 24,
   "id": "5cf5d217",
   "metadata": {
    "execution": {
     "iopub.execute_input": "2024-06-18T15:59:49.080319Z",
     "iopub.status.busy": "2024-06-18T15:59:49.079321Z",
     "iopub.status.idle": "2024-06-18T15:59:49.093030Z",
     "shell.execute_reply": "2024-06-18T15:59:49.090995Z",
     "shell.execute_reply.started": "2024-06-18T15:59:49.080319Z"
    }
   },
   "outputs": [],
   "source": [
    "encoded_feature_lst = ['prev_highway_id_arr', 'prev_region_arr',\n",
    "                           'prev_roadwaytype_id_arr', 'prev_ncc_arr',\n",
    "                           'prev_lanes_cat_arr', 'prev_spd_cat_arr',\n",
    "                           'prev_cap_cat_arr', 'prev_final_place_arr',\n",
    "                           'prev_areatype_arr']\n",
    "\n",
    "unencoded_feature_lst =  [\n",
    "                            'highway_id', 'region', 'roadwaytype_id',\n",
    "                            'cur_lanes_cat','cur_spd_cat','cur_cap_cat','prev_connected_count',\n",
    "                            'cur_final_place_encoded', 'cur_areatype_encoded' ,\n",
    "                            'availble_prev_vol','availble_ramp_vol', 'availble_main_road_vol',\n",
    "                            'prev_volume'\n",
    "                         ]\n",
    "\n",
    "target_feature_lst= ['volume']"
   ]
  },
  {
   "cell_type": "code",
   "execution_count": 25,
   "id": "c908b14d",
   "metadata": {
    "execution": {
     "iopub.execute_input": "2024-06-18T15:59:49.095191Z",
     "iopub.status.busy": "2024-06-18T15:59:49.094074Z",
     "iopub.status.idle": "2024-06-18T15:59:49.122596Z",
     "shell.execute_reply": "2024-06-18T15:59:49.121583Z",
     "shell.execute_reply.started": "2024-06-18T15:59:49.095191Z"
    }
   },
   "outputs": [
    {
     "data": {
      "text/plain": [
       "(37301, 13)"
      ]
     },
     "execution_count": 25,
     "metadata": {},
     "output_type": "execute_result"
    }
   ],
   "source": [
    "features_unencoded_df = seen_df[unencoded_feature_lst]\n",
    "\n",
    "features_unencoded_df.shape"
   ]
  },
  {
   "cell_type": "code",
   "execution_count": 26,
   "id": "f2b1d0ae",
   "metadata": {
    "execution": {
     "iopub.execute_input": "2024-06-18T15:59:49.124810Z",
     "iopub.status.busy": "2024-06-18T15:59:49.123790Z",
     "iopub.status.idle": "2024-06-18T15:59:49.861554Z",
     "shell.execute_reply": "2024-06-18T15:59:49.860311Z",
     "shell.execute_reply.started": "2024-06-18T15:59:49.124810Z"
    }
   },
   "outputs": [
    {
     "data": {
      "text/plain": [
       "(37301, 59)"
      ]
     },
     "execution_count": 26,
     "metadata": {},
     "output_type": "execute_result"
    }
   ],
   "source": [
    "encoded_obj_dict = {}\n",
    "features_encoded_df = pd.DataFrame()\n",
    "for col in encoded_feature_lst:\n",
    "    mlb = MultiLabelBinarizer()\n",
    "    mlb.fit(seen_df[col])  # Fit the encoder\n",
    "    seen_one_hot_encoded = mlb.transform(seen_df[col]) \n",
    "    seen_temp_df = pd.DataFrame(seen_one_hot_encoded, columns=[f'{col}_{i}' for i in range(1, seen_one_hot_encoded.shape[1] + 1)])\n",
    "    features_encoded_df = pd.concat([features_encoded_df,seen_temp_df],axis=1)    \n",
    "    encoded_obj_dict[col] = mlb\n",
    "    \n",
    "features_encoded_df.shape"
   ]
  },
  {
   "cell_type": "code",
   "execution_count": 27,
   "id": "719b2942-a114-42f4-a638-875c29dd0ba4",
   "metadata": {
    "execution": {
     "iopub.execute_input": "2024-06-18T15:59:49.864634Z",
     "iopub.status.busy": "2024-06-18T15:59:49.863635Z",
     "iopub.status.idle": "2024-06-18T15:59:49.871463Z",
     "shell.execute_reply": "2024-06-18T15:59:49.870912Z",
     "shell.execute_reply.started": "2024-06-18T15:59:49.864634Z"
    }
   },
   "outputs": [
    {
     "name": "stdout",
     "output_type": "stream",
     "text": [
      "prev_highway_id_arr [1 2 3 4 5 6]\n",
      "prev_region_arr [ 1  2  3  4  5  6  7  8  9 10 11]\n",
      "prev_roadwaytype_id_arr [ 1  2  3  4  6  7  8 10 11 12 13 14 15 16 17 18 19 20 21]\n",
      "prev_ncc_arr [1 2 3 4 5]\n",
      "prev_lanes_cat_arr [1 2]\n",
      "prev_spd_cat_arr [1 2 3]\n",
      "prev_cap_cat_arr [0 1 2 3]\n",
      "prev_final_place_arr ['city' 'hamlet' 'locality' 'neighbourhood' 'town' 'unknown' 'village']\n",
      "prev_areatype_arr ['Rural' 'Urban']\n"
     ]
    }
   ],
   "source": [
    "for col,i in encoded_obj_dict.items():\n",
    "    print(col,i.classes_)"
   ]
  },
  {
   "cell_type": "code",
   "execution_count": 28,
   "id": "78e04620-68ef-4a17-b66c-31553d257970",
   "metadata": {
    "execution": {
     "iopub.execute_input": "2024-06-18T15:59:49.873032Z",
     "iopub.status.busy": "2024-06-18T15:59:49.873032Z",
     "iopub.status.idle": "2024-06-18T15:59:49.895361Z",
     "shell.execute_reply": "2024-06-18T15:59:49.894838Z",
     "shell.execute_reply.started": "2024-06-18T15:59:49.873032Z"
    }
   },
   "outputs": [],
   "source": [
    "with open('encoders.pkl','wb') as f:\n",
    "    pickle.dump(encoded_obj_dict, f)"
   ]
  },
  {
   "cell_type": "code",
   "execution_count": 29,
   "id": "d386668d",
   "metadata": {
    "execution": {
     "iopub.execute_input": "2024-06-18T15:59:49.901847Z",
     "iopub.status.busy": "2024-06-18T15:59:49.900597Z",
     "iopub.status.idle": "2024-06-18T15:59:49.939594Z",
     "shell.execute_reply": "2024-06-18T15:59:49.938507Z",
     "shell.execute_reply.started": "2024-06-18T15:59:49.901847Z"
    }
   },
   "outputs": [
    {
     "data": {
      "text/plain": [
       "(37301, 73)"
      ]
     },
     "execution_count": 29,
     "metadata": {},
     "output_type": "execute_result"
    }
   ],
   "source": [
    "final_seen_df = pd.concat([features_unencoded_df,features_encoded_df],axis=1)\n",
    "final_seen_df['volume'] = list(map(lambda x : x ,seen_df['volume']))\n",
    "final_seen_df.shape"
   ]
  },
  {
   "cell_type": "markdown",
   "id": "692c3c9a",
   "metadata": {},
   "source": [
    "## Train Test Split"
   ]
  },
  {
   "cell_type": "code",
   "execution_count": 30,
   "id": "ba75d801",
   "metadata": {
    "ExecuteTime": {
     "end_time": "2024-05-03T12:08:42.270346Z",
     "start_time": "2024-05-03T12:08:42.244732Z"
    },
    "execution": {
     "iopub.execute_input": "2024-06-18T15:59:49.940636Z",
     "iopub.status.busy": "2024-06-18T15:59:49.940636Z",
     "iopub.status.idle": "2024-06-18T15:59:49.946270Z",
     "shell.execute_reply": "2024-06-18T15:59:49.945263Z",
     "shell.execute_reply.started": "2024-06-18T15:59:49.940636Z"
    }
   },
   "outputs": [],
   "source": [
    "# X,y = final_seen_df.iloc[:,0:-1],final_seen_df[target_feature_lst]\n",
    "# X_train, X_test, y_train, y_test = train_test_split(X, y, test_size=0.2, random_state=42)\n",
    "# X_train.shape,X_test.shape, y_train.shape, y_test.shape"
   ]
  },
  {
   "cell_type": "code",
   "execution_count": 31,
   "id": "9fe10a2f-2cf6-49b8-9d1b-274930cf3307",
   "metadata": {
    "execution": {
     "iopub.execute_input": "2024-06-18T15:59:49.947271Z",
     "iopub.status.busy": "2024-06-18T15:59:49.947271Z",
     "iopub.status.idle": "2024-06-18T15:59:49.993335Z",
     "shell.execute_reply": "2024-06-18T15:59:49.993335Z",
     "shell.execute_reply.started": "2024-06-18T15:59:49.947271Z"
    }
   },
   "outputs": [
    {
     "data": {
      "text/plain": [
       "((26110, 72), (5596, 72), (5595, 72))"
      ]
     },
     "execution_count": 31,
     "metadata": {},
     "output_type": "execute_result"
    }
   ],
   "source": [
    "X,y = final_seen_df.iloc[:,0:-1],final_seen_df[target_feature_lst]\n",
    "X_train, X_temp, y_train, y_temp = train_test_split(X, y, test_size=0.3, random_state=42)\n",
    "X_val, X_test, y_val, y_test = train_test_split(X_temp, y_temp, test_size=0.5, random_state=42)\n",
    "X_train.shape,X_test.shape,X_val.shape"
   ]
  },
  {
   "cell_type": "code",
   "execution_count": null,
   "id": "572edf9a",
   "metadata": {},
   "outputs": [],
   "source": []
  },
  {
   "cell_type": "code",
   "execution_count": 32,
   "id": "e7aa668c",
   "metadata": {
    "execution": {
     "iopub.execute_input": "2024-06-18T15:59:49.995307Z",
     "iopub.status.busy": "2024-06-18T15:59:49.995307Z",
     "iopub.status.idle": "2024-06-18T15:59:50.004170Z",
     "shell.execute_reply": "2024-06-18T15:59:50.003164Z",
     "shell.execute_reply.started": "2024-06-18T15:59:49.995307Z"
    }
   },
   "outputs": [],
   "source": [
    "def geh_check(row):\n",
    "    current_vol = row['volume']\n",
    "    next_vol = row['predicted_volume']\n",
    "    metric_value = float(np.sqrt(2 * np.sum((current_vol - next_vol) ** 2) / np.sum(current_vol + next_vol)))\n",
    "    return metric_value"
   ]
  },
  {
   "cell_type": "code",
   "execution_count": 33,
   "id": "dca67cb1",
   "metadata": {
    "ExecuteTime": {
     "end_time": "2024-05-03T12:08:52.045553Z",
     "start_time": "2024-05-03T12:08:52.040040Z"
    },
    "execution": {
     "iopub.execute_input": "2024-06-18T15:59:50.005178Z",
     "iopub.status.busy": "2024-06-18T15:59:50.005178Z",
     "iopub.status.idle": "2024-06-18T15:59:50.015043Z",
     "shell.execute_reply": "2024-06-18T15:59:50.014036Z",
     "shell.execute_reply.started": "2024-06-18T15:59:50.005178Z"
    }
   },
   "outputs": [],
   "source": [
    "def get_geh(y_test, y_pred):\n",
    "    geh_lst = []\n",
    "    for i,j in zip(y_test, y_pred):\n",
    "        row = {'volume':i,'predicted_volume':j}\n",
    "        geh_lst.append(geh_check(row))\n",
    "    mean_geh = round(statistics.mean(geh_lst),3)\n",
    "    return mean_geh,geh_lst"
   ]
  },
  {
   "cell_type": "code",
   "execution_count": null,
   "id": "c5ce8ceb-25c4-4c07-b647-054e845d3d05",
   "metadata": {},
   "outputs": [],
   "source": []
  },
  {
   "cell_type": "code",
   "execution_count": 34,
   "id": "8cb54d83",
   "metadata": {
    "ExecuteTime": {
     "end_time": "2024-05-03T12:11:42.564064Z",
     "start_time": "2024-05-03T12:11:42.555771Z"
    },
    "execution": {
     "iopub.execute_input": "2024-06-18T15:59:50.017077Z",
     "iopub.status.busy": "2024-06-18T15:59:50.016068Z",
     "iopub.status.idle": "2024-06-18T15:59:50.026692Z",
     "shell.execute_reply": "2024-06-18T15:59:50.025268Z",
     "shell.execute_reply.started": "2024-06-18T15:59:50.017077Z"
    }
   },
   "outputs": [
    {
     "name": "stdout",
     "output_type": "stream",
     "text": [
      "Tracking URI: https://ptt2-mlflow.isgsuite.com/\n"
     ]
    }
   ],
   "source": [
    "os.environ['MLFLOW_TRACKING_USERNAME'] = 'isgadmin'\n",
    "os.environ['MLFLOW_TRACKING_PASSWORD'] = 'infosense12@'\n",
    "tracking_server_uri = \"https://ptt2-mlflow.isgsuite.com/\"\n",
    "mlflow.set_tracking_uri(tracking_server_uri)\n",
    "tracking_uri = mlflow.get_tracking_uri()\n",
    "print(\"Tracking URI:\", tracking_uri)"
   ]
  },
  {
   "cell_type": "code",
   "execution_count": 35,
   "id": "947eb68c",
   "metadata": {
    "ExecuteTime": {
     "end_time": "2024-05-03T12:11:43.671204Z",
     "start_time": "2024-05-03T12:11:43.662379Z"
    },
    "execution": {
     "iopub.execute_input": "2024-06-18T15:59:50.028626Z",
     "iopub.status.busy": "2024-06-18T15:59:50.027200Z",
     "iopub.status.idle": "2024-06-18T15:59:50.040158Z",
     "shell.execute_reply": "2024-06-18T15:59:50.037996Z",
     "shell.execute_reply.started": "2024-06-18T15:59:50.028626Z"
    }
   },
   "outputs": [
    {
     "name": "stdout",
     "output_type": "stream",
     "text": [
      "Run Name: XGB_FC_1_2_3_input_vol_info\n",
      "Description: previous as input values and current is target\n"
     ]
    }
   ],
   "source": [
    "# experiment_name = \"TM_New_Approach\"\n",
    "# experiment = mlflow.set_experiment(experiment_name)\n",
    "# experiment_id = experiment.experiment_id\n",
    "run_name = 'XGB_FC_1_2_3_input_vol_info'\n",
    "description = 'previous as input values and current is target'\n",
    "# Get Experiment Details\n",
    "# print(f\"Experiment_id: {experiment.experiment_id}\")\n",
    "print(f\"Run Name: {run_name}\")\n",
    "print(f\"Description: {description}\")\n",
    "# print(f\"Artifact Location: {experiment.artifact_location}\")"
   ]
  },
  {
   "cell_type": "code",
   "execution_count": 36,
   "id": "6d7b6d54-9919-4ba1-a12c-ed1950fdd3e4",
   "metadata": {
    "execution": {
     "iopub.execute_input": "2024-06-18T15:59:50.041167Z",
     "iopub.status.busy": "2024-06-18T15:59:50.041167Z",
     "iopub.status.idle": "2024-06-18T15:59:50.057243Z",
     "shell.execute_reply": "2024-06-18T15:59:50.056235Z",
     "shell.execute_reply.started": "2024-06-18T15:59:50.041167Z"
    }
   },
   "outputs": [],
   "source": [
    "def get_test_dataset(X_test,y_test,y_pred):\n",
    "    Test_Data_Df = X_test.copy()\n",
    "    Test_Data_Df['volume'] = y_test['volume']\n",
    "    Test_Data_Df['predicted_volume']=y_pred\n",
    "    Test_Data_Df['predicted_volume']=Test_Data_Df['predicted_volume'].round().astype(int)\n",
    "    Test_Data_Df['diff']=Test_Data_Df['volume']-Test_Data_Df['predicted_volume']\n",
    "    Test_Data_Df['geh'] = Test_Data_Df.apply(lambda row: geh_check(row), axis=1)\n",
    "    Test_Data_Df['geh'] = Test_Data_Df['geh'].round(3)\n",
    "    return Test_Data_Df\n",
    "\n",
    "def get_regressor_metrices(y_test,y_pred,rows,cols,geh_threshold):\n",
    "    mse = round(mean_squared_error(y_test, y_pred),3)\n",
    "    rmse = round(np.sqrt(mse),3)\n",
    "    r2 = round(r2_score(y_test, y_pred),3)\n",
    "\n",
    "    adjusted_r2score =  round((1 - (1 - r2) * (rows - 1) / (rows - cols - 1)),3)\n",
    "    mae = round(mean_absolute_error(y_test, y_pred),3)\n",
    "    \n",
    "    m_geh,geh_lst = get_geh(y_test.values, y_pred)\n",
    "    geh_error_counts = len(list(filter(lambda x : x>geh_threshold,geh_lst)))\n",
    "    geh_error_per = round(((geh_error_counts/rows)*100),3)\n",
    "    \n",
    "    metrices = {'mse':mse,'rmse':rmse,'r2score':r2,'mae':mae,'adjusted_r2score' : adjusted_r2score,\n",
    "               'mean_geh':m_geh,'test_data_size':rows,'geh_error_counts':geh_error_counts,'geh_error_percentage':geh_error_per}\n",
    "    return metrices\n",
    "\n",
    "def get_feature_importance(xg_reg,X_train):\n",
    "    explainer = shap.TreeExplainer(xg_reg)\n",
    "    shap_values = explainer.shap_values(X_train[:500])\n",
    "    fig = shap.summary_plot(shap_values, X_train[:500], plot_type=\"bar\",show=False)\n",
    "    return fig\n",
    "\n",
    "def get_actual_vs_prediction(Test_Data_Df):  \n",
    "    fig = px.scatter(Test_Data_Df, x='volume', y='predicted_volume')\n",
    "    fig.add_trace(px.line(Test_Data_Df, x='volume', y='volume').data[0])\n",
    "    fig.update_layout(xaxis_title='Actual Values', yaxis_title='Predicted Values')\n",
    "    html_str = fig.to_html(full_html=False)\n",
    "    return html_str\n",
    "    with open(\"Actual_Vs_Prediction_Plot.html\", \"w\") as f:\n",
    "        f.write(html_str)\n",
    "    mlflow.log_artifact(\"Actual_Vs_Prediction_Plot.html\", \"html\")"
   ]
  },
  {
   "cell_type": "code",
   "execution_count": 37,
   "id": "680a3af4",
   "metadata": {
    "ExecuteTime": {
     "end_time": "2024-05-03T12:11:40.027429Z",
     "start_time": "2024-05-03T12:11:40.011916Z"
    },
    "execution": {
     "iopub.execute_input": "2024-06-18T15:59:50.059312Z",
     "iopub.status.busy": "2024-06-18T15:59:50.058244Z",
     "iopub.status.idle": "2024-06-18T15:59:50.073667Z",
     "shell.execute_reply": "2024-06-18T15:59:50.072657Z",
     "shell.execute_reply.started": "2024-06-18T15:59:50.059312Z"
    }
   },
   "outputs": [],
   "source": [
    "def log_model_summary(model_log_params):\n",
    "    try:\n",
    "        model_data = model_log_params['model_data']\n",
    "        xg_reg = model_data['model_object']\n",
    "        X_train = model_data['X_train'] \n",
    "        X_test = model_data['X_test']\n",
    "        y_train = model_data['y_train'] \n",
    "        y_test = model_data['y_test'] \n",
    "        y_pred = model_data['y_pred']\n",
    "        geh_threshold = model_log_params['geh_threshold']\n",
    "        rows = model_log_params['test_size']\n",
    "        cols = model_log_params['no_of_input_features']\n",
    "\n",
    "        # Log Parameter\n",
    "        xgb_params = xg_reg.get_params()\n",
    "        mlflow.log_params(xgb_params)\n",
    "        \n",
    "        # Log test datatset\n",
    "        Test_Data_Df = get_test_dataset(X_test,y_test,y_pred)\n",
    "        dataset = mlflow.data.from_pandas(Test_Data_Df, targets=\"volume\", predictions=\"predicted_volume\", name ='test_dataset')\n",
    "        mlflow.log_input(dataset, context=\"test\")\n",
    "        \n",
    "        # Log Metrics\n",
    "        metrices = get_regressor_metrices(y_test,y_pred,rows,cols,geh_threshold)\n",
    "        mlflow.log_metrics(metrices)\n",
    "        model_log_params.pop('model_data')\n",
    "        # Log tags\n",
    "        mlflow.set_tags(model_log_params)\n",
    "    \n",
    "        # Log Feature Importance\n",
    "        fig = get_feature_importance(xg_reg,X_train)\n",
    "        image_path = \"Feature_Importance.png\"    \n",
    "        plt.savefig(image_path)\n",
    "        mlflow.log_artifact(image_path, \"images\")\n",
    "    \n",
    "\n",
    "        \n",
    "        # Log Actual Vs Prediction Plot\n",
    "        html_str = get_actual_vs_prediction(Test_Data_Df)\n",
    "        with open(\"Actual_Vs_Prediction_Plot.html\", \"w\") as f:\n",
    "            f.write(html_str)\n",
    "        mlflow.log_artifact(\"Actual_Vs_Prediction_Plot.html\", \"html\")\n",
    "    \n",
    "    \n",
    "        # Log Model\n",
    "        signature = infer_signature(X_test, y_pred)\n",
    "        mlflow.sklearn.log_model(xg_reg, \"model\", signature=signature)\n",
    "        return 0\n",
    "    except Exception as e:\n",
    "        return e"
   ]
  },
  {
   "cell_type": "code",
   "execution_count": 38,
   "id": "95306392",
   "metadata": {
    "ExecuteTime": {
     "end_time": "2024-05-03T12:12:13.859137Z",
     "start_time": "2024-05-03T12:12:07.236229Z"
    },
    "execution": {
     "iopub.execute_input": "2024-06-18T15:59:50.075995Z",
     "iopub.status.busy": "2024-06-18T15:59:50.074765Z",
     "iopub.status.idle": "2024-06-18T16:02:23.359240Z",
     "shell.execute_reply": "2024-06-18T16:02:23.356223Z",
     "shell.execute_reply.started": "2024-06-18T15:59:50.075995Z"
    },
    "scrolled": true
   },
   "outputs": [
    {
     "name": "stderr",
     "output_type": "stream",
     "text": [
      "2024/06/19 15:18:41 WARNING mlflow.utils.git_utils: Failed to import Git (the Git executable is probably not on your PATH), so Git SHA is not available. Error: Failed to initialize: Bad git executable.\n",
      "The git executable must be specified in one of the following ways:\n",
      "    - be included in your $PATH\n",
      "    - be set via $GIT_PYTHON_GIT_EXECUTABLE\n",
      "    - explicitly set via git.refresh(<full-path-to-git-executable>)\n",
      "\n",
      "All git commands will error until this is rectified.\n",
      "\n",
      "This initial message can be silenced or aggravated in the future by setting the\n",
      "$GIT_PYTHON_REFRESH environment variable. Use one of the following values:\n",
      "    - quiet|q|silence|s|silent|none|n|0: for no message or exception\n",
      "    - warn|w|warning|log|l|1: for a warning message (logging level CRITICAL, displayed by default)\n",
      "    - error|e|exception|raise|r|2: for a raised exception\n",
      "\n",
      "Example:\n",
      "    export GIT_PYTHON_REFRESH=quiet\n",
      "\n"
     ]
    }
   ],
   "source": [
    "with mlflow.start_run(experiment_id=\"59\",run_name = run_name,description=description) as run:\n",
    "\n",
    "    # Define the XGBoost regressor with the specified parameters\n",
    "    # Define the XGBoost regressor with the specified parameters\n",
    "    params= {'subsample': 0.8, 'n_estimators': 2000, 'max_depth':8,'learning_rate': 0.02, \n",
    "             'colsample_bytree': 0.8, 'gamma' : 5 , 'tree_method': 'exact', 'alpha': 5, 'lambda': 5,\n",
    "             'min_child_weight':5,\n",
    "            'objective': 'count:poisson','base_score': np.log(np.mean(y_train)),\n",
    "             'early_stopping_rounds': 20, 'eval_metric': ['rmse','mae'],\n",
    "             'random_state':42\n",
    "            }\n",
    "    \n",
    "    \n",
    "    # Train the model\n",
    "    xg_reg = xgb.XGBRegressor(**params)\n",
    "    eval_set = [(X_train, y_train), (X_val, y_val)]\n",
    "    xg_reg.fit(X_train, y_train, eval_set=eval_set)    # Make predictions on the test set\n",
    "    y_pred = xg_reg.predict(X_test)\n",
    "    y_test['volume'] = round(y_test['volume'],0).astype(int)\n",
    "    y_pred = np.rint(y_pred).astype(int)\n",
    "\n",
    "    model_data = {\n",
    "        'model_object' : xg_reg,\n",
    "        'X_train' : X_train, 'X_test' : X_test,\n",
    "        'y_train' : y_train , 'y_test' : y_test, 'y_pred' : y_pred,\n",
    "        'model_params' : params   \n",
    "    }\n",
    "    \n",
    "    model_log_params ={\n",
    "        'geh_threshold' : 5,\n",
    "        'test_size':X_test.shape[0], 'no_of_input_features':X_test.shape[1],\n",
    "        'input_feature_lst':X_train.columns.tolist(),\n",
    "        'target_feature_lst': target_feature_lst,\n",
    "        'Model_Name' : 'XGB',\n",
    "        'Train Size' : X_train.shape[0],\n",
    "        'model_data' : model_data\n",
    "    }\n",
    "    \n",
    "    # Log Encoding Objects\n",
    "    mlflow.log_artifact('encoders.pkl','encoding_object')\n",
    "        \n",
    "    # Log Model Summary\n",
    "    output = log_model_summary(model_log_params)\n",
    "    print(output)\n",
    "    mlflow.end_run()  "
   ]
  },
  {
   "cell_type": "code",
   "execution_count": null,
   "id": "a7cc4f0c-9f16-4e39-bb39-67e1e3b5096f",
   "metadata": {
    "execution": {
     "iopub.execute_input": "2024-06-18T16:02:23.362240Z",
     "iopub.status.busy": "2024-06-18T16:02:23.362240Z",
     "iopub.status.idle": "2024-06-18T16:02:23.722882Z",
     "shell.execute_reply": "2024-06-18T16:02:23.719808Z",
     "shell.execute_reply.started": "2024-06-18T16:02:23.362240Z"
    }
   },
   "outputs": [
    {
     "data": {
      "text/plain": [
       "(1.3518347033595426, (394, 76))"
      ]
     },
     "execution_count": 19,
     "metadata": {},
     "output_type": "execute_result"
    }
   ],
   "source": [
    "abcd = get_test_dataset(X_test,y_test,y_pred)\n",
    "abcd['geh'].mean(),abcd[abcd['geh']>5].shape"
   ]
  },
  {
   "cell_type": "code",
   "execution_count": null,
   "id": "c72e1468-5aa8-4c6e-9544-98b1904c56bb",
   "metadata": {
    "execution": {
     "iopub.execute_input": "2024-06-18T16:02:23.725876Z",
     "iopub.status.busy": "2024-06-18T16:02:23.724874Z",
     "iopub.status.idle": "2024-06-18T16:02:23.915107Z",
     "shell.execute_reply": "2024-06-18T16:02:23.913049Z",
     "shell.execute_reply.started": "2024-06-18T16:02:23.725876Z"
    }
   },
   "outputs": [
    {
     "data": {
      "text/plain": [
       "{'mse': 25340.276,\n",
       " 'rmse': 159.186,\n",
       " 'r2score': 0.973,\n",
       " 'mae': 39.722,\n",
       " 'adjusted_r2score': 0.973,\n",
       " 'mean_geh': 1.352,\n",
       " 'test_data_size': 5596,\n",
       " 'geh_error_counts': 394,\n",
       " 'geh_error_percentage': 7.041}"
      ]
     },
     "execution_count": 20,
     "metadata": {},
     "output_type": "execute_result"
    }
   ],
   "source": [
    "rows = X_test.shape[0]\n",
    "cols = X_test.shape[1]\n",
    "geh_threshold = 5\n",
    "metrices = get_regressor_metrices(y_test,y_pred,rows,cols,geh_threshold)\n",
    "metrices"
   ]
  },
  {
   "cell_type": "code",
   "execution_count": null,
   "id": "edc4d524-c9ad-4ddb-9bd6-5ba0892258e8",
   "metadata": {
    "execution": {
     "iopub.execute_input": "2024-06-18T16:02:23.918411Z",
     "iopub.status.busy": "2024-06-18T16:02:23.917111Z",
     "iopub.status.idle": "2024-06-18T16:02:33.641104Z",
     "shell.execute_reply": "2024-06-18T16:02:33.635122Z",
     "shell.execute_reply.started": "2024-06-18T16:02:23.918411Z"
    }
   },
   "outputs": [
    {
     "data": {
      "text/plain": [
       "((14258, 36),\n",
       " Index(['isg_osm_id', 'highway_id', 'region', 'roadwaytype_id', 'cur_lanes',\n",
       "        'cur_lanes_cat', 'cur_maxspeed', 'cur_spd_cat', 'cur_final_place',\n",
       "        'cur_areatype', 'cur_final_place_encoded', 'cur_areatype_encoded',\n",
       "        'cur_capacity', 'cur_cap_cat', 'prev_connected_count', 'volume',\n",
       "        'prev_isg_osm_id_arr', 'prev_highway_id_arr', 'prev_region_arr',\n",
       "        'prev_roadwaytype_id_arr', 'prev_cur_lanes_arr', 'prev_lanes_cat_arr',\n",
       "        'prev_maxspeed_arr', 'prev_spd_cat_arr', 'prev_final_place_arr',\n",
       "        'prev_areatype_arr', 'prev_capacity_arr', 'prev_cap_cat_arr',\n",
       "        'prev_volume_arr', 'prev_ncc_arr', 'max_prev_ncc', 'availble_prev_vol',\n",
       "        'availble_ramp_vol', 'availble_main_road_vol', 'prev_vol_filter_arr',\n",
       "        'prev_volume'],\n",
       "       dtype='object'))"
      ]
     },
     "execution_count": 6,
     "metadata": {},
     "output_type": "execute_result"
    }
   ],
   "source": [
    "sql_command = \"\"\" select * from tm_new_data.prev_cur_model_data_240614_AP where volume<0 and prev_volume > 0 and (prev_connected_count>1 or max_prev_ncc>1 )\"\"\"\n",
    "\n",
    "# Execute the query and fetch the data\n",
    "unseen_df = pd.read_sql_query(sql_command, engine)\n",
    "unseen_df.shape,unseen_df.columns"
   ]
  },
  {
   "cell_type": "code",
   "execution_count": 7,
   "id": "97fe5ea6-2d59-44b4-8d15-40e09d78fb6a",
   "metadata": {
    "execution": {
     "iopub.execute_input": "2024-06-18T16:02:33.648677Z",
     "iopub.status.busy": "2024-06-18T16:02:33.646673Z",
     "iopub.status.idle": "2024-06-18T16:02:33.689416Z",
     "shell.execute_reply": "2024-06-18T16:02:33.683804Z",
     "shell.execute_reply.started": "2024-06-18T16:02:33.648677Z"
    }
   },
   "outputs": [
    {
     "data": {
      "text/plain": [
       "list"
      ]
     },
     "execution_count": 7,
     "metadata": {},
     "output_type": "execute_result"
    }
   ],
   "source": [
    "type(unseen_df.prev_highway_id_arr.iloc[0])"
   ]
  },
  {
   "cell_type": "code",
   "execution_count": 14,
   "id": "bdb00aa9-8cb0-4a1e-a600-58b075e1174a",
   "metadata": {
    "execution": {
     "iopub.execute_input": "2024-06-18T16:02:33.697586Z",
     "iopub.status.busy": "2024-06-18T16:02:33.694994Z",
     "iopub.status.idle": "2024-06-18T16:02:33.738471Z",
     "shell.execute_reply": "2024-06-18T16:02:33.734452Z",
     "shell.execute_reply.started": "2024-06-18T16:02:33.697586Z"
    }
   },
   "outputs": [
    {
     "data": {
      "text/plain": [
       "(14258, 13)"
      ]
     },
     "execution_count": 14,
     "metadata": {},
     "output_type": "execute_result"
    }
   ],
   "source": [
    "unseen_features_unencoded_df = unseen_df[unencoded_feature_lst]\n",
    "unseen_features_unencoded_df.shape"
   ]
  },
  {
   "cell_type": "code",
   "execution_count": 15,
   "id": "aa165879-8a62-4dc5-b9c1-c3aeeb95859e",
   "metadata": {
    "execution": {
     "iopub.execute_input": "2024-06-18T16:02:33.741980Z",
     "iopub.status.busy": "2024-06-18T16:02:33.741980Z",
     "iopub.status.idle": "2024-06-18T16:02:33.768137Z",
     "shell.execute_reply": "2024-06-18T16:02:33.762963Z",
     "shell.execute_reply.started": "2024-06-18T16:02:33.741980Z"
    }
   },
   "outputs": [
    {
     "data": {
      "text/plain": [
       "{'prev_highway_id_arr': MultiLabelBinarizer(),\n",
       " 'prev_region_arr': MultiLabelBinarizer(),\n",
       " 'prev_roadwaytype_id_arr': MultiLabelBinarizer(),\n",
       " 'prev_ncc_arr': MultiLabelBinarizer(),\n",
       " 'prev_lanes_cat_arr': MultiLabelBinarizer(),\n",
       " 'prev_spd_cat_arr': MultiLabelBinarizer(),\n",
       " 'prev_cap_cat_arr': MultiLabelBinarizer(),\n",
       " 'prev_final_place_arr': MultiLabelBinarizer(),\n",
       " 'prev_areatype_arr': MultiLabelBinarizer()}"
      ]
     },
     "execution_count": 15,
     "metadata": {},
     "output_type": "execute_result"
    }
   ],
   "source": [
    "encoded_obj_dict"
   ]
  },
  {
   "cell_type": "code",
   "execution_count": 16,
   "id": "15a98f6b-9eef-4fe4-8ec6-a9bd6db40d18",
   "metadata": {
    "execution": {
     "iopub.execute_input": "2024-06-18T16:02:33.770464Z",
     "iopub.status.busy": "2024-06-18T16:02:33.769139Z",
     "iopub.status.idle": "2024-06-18T16:02:33.844483Z",
     "shell.execute_reply": "2024-06-18T16:02:33.843469Z",
     "shell.execute_reply.started": "2024-06-18T16:02:33.770464Z"
    }
   },
   "outputs": [
    {
     "data": {
      "text/html": [
       "<div>\n",
       "<style scoped>\n",
       "    .dataframe tbody tr th:only-of-type {\n",
       "        vertical-align: middle;\n",
       "    }\n",
       "\n",
       "    .dataframe tbody tr th {\n",
       "        vertical-align: top;\n",
       "    }\n",
       "\n",
       "    .dataframe thead th {\n",
       "        text-align: right;\n",
       "    }\n",
       "</style>\n",
       "<table border=\"1\" class=\"dataframe\">\n",
       "  <thead>\n",
       "    <tr style=\"text-align: right;\">\n",
       "      <th></th>\n",
       "      <th>prev_highway_id_arr</th>\n",
       "      <th>prev_region_arr</th>\n",
       "      <th>prev_roadwaytype_id_arr</th>\n",
       "      <th>prev_ncc_arr</th>\n",
       "      <th>prev_lanes_cat_arr</th>\n",
       "      <th>prev_spd_cat_arr</th>\n",
       "      <th>prev_cap_cat_arr</th>\n",
       "      <th>prev_final_place_arr</th>\n",
       "      <th>prev_areatype_arr</th>\n",
       "    </tr>\n",
       "  </thead>\n",
       "  <tbody>\n",
       "    <tr>\n",
       "      <th>0</th>\n",
       "      <td>[5]</td>\n",
       "      <td>[11]</td>\n",
       "      <td>[10]</td>\n",
       "      <td>[3]</td>\n",
       "      <td>[2]</td>\n",
       "      <td>[1]</td>\n",
       "      <td>[2]</td>\n",
       "      <td>[city]</td>\n",
       "      <td>[Urban]</td>\n",
       "    </tr>\n",
       "    <tr>\n",
       "      <th>1</th>\n",
       "      <td>[1]</td>\n",
       "      <td>[1]</td>\n",
       "      <td>[12]</td>\n",
       "      <td>[2]</td>\n",
       "      <td>[2]</td>\n",
       "      <td>[3]</td>\n",
       "      <td>[3]</td>\n",
       "      <td>[city]</td>\n",
       "      <td>[Urban]</td>\n",
       "    </tr>\n",
       "    <tr>\n",
       "      <th>2</th>\n",
       "      <td>[2, 2]</td>\n",
       "      <td>[1, 1]</td>\n",
       "      <td>[16, 16]</td>\n",
       "      <td>[1, 1]</td>\n",
       "      <td>[1, 1]</td>\n",
       "      <td>[1, 1]</td>\n",
       "      <td>[1, 1]</td>\n",
       "      <td>[city, city]</td>\n",
       "      <td>[Urban, Urban]</td>\n",
       "    </tr>\n",
       "    <tr>\n",
       "      <th>3</th>\n",
       "      <td>[5, 5]</td>\n",
       "      <td>[1, 1]</td>\n",
       "      <td>[1, 1]</td>\n",
       "      <td>[2, 2]</td>\n",
       "      <td>[2, 2]</td>\n",
       "      <td>[2, 2]</td>\n",
       "      <td>[1, 1]</td>\n",
       "      <td>[town, town]</td>\n",
       "      <td>[Urban, Urban]</td>\n",
       "    </tr>\n",
       "    <tr>\n",
       "      <th>4</th>\n",
       "      <td>[5]</td>\n",
       "      <td>[1]</td>\n",
       "      <td>[1]</td>\n",
       "      <td>[2]</td>\n",
       "      <td>[1]</td>\n",
       "      <td>[3]</td>\n",
       "      <td>[0]</td>\n",
       "      <td>[town]</td>\n",
       "      <td>[Urban]</td>\n",
       "    </tr>\n",
       "    <tr>\n",
       "      <th>...</th>\n",
       "      <td>...</td>\n",
       "      <td>...</td>\n",
       "      <td>...</td>\n",
       "      <td>...</td>\n",
       "      <td>...</td>\n",
       "      <td>...</td>\n",
       "      <td>...</td>\n",
       "      <td>...</td>\n",
       "      <td>...</td>\n",
       "    </tr>\n",
       "    <tr>\n",
       "      <th>14253</th>\n",
       "      <td>[5]</td>\n",
       "      <td>[11]</td>\n",
       "      <td>[1]</td>\n",
       "      <td>[1]</td>\n",
       "      <td>[2]</td>\n",
       "      <td>[1]</td>\n",
       "      <td>[1]</td>\n",
       "      <td>[city]</td>\n",
       "      <td>[Urban]</td>\n",
       "    </tr>\n",
       "    <tr>\n",
       "      <th>14254</th>\n",
       "      <td>[3]</td>\n",
       "      <td>[10]</td>\n",
       "      <td>[10]</td>\n",
       "      <td>[2]</td>\n",
       "      <td>[2]</td>\n",
       "      <td>[3]</td>\n",
       "      <td>[2]</td>\n",
       "      <td>[town]</td>\n",
       "      <td>[Urban]</td>\n",
       "    </tr>\n",
       "    <tr>\n",
       "      <th>14255</th>\n",
       "      <td>[5]</td>\n",
       "      <td>[6]</td>\n",
       "      <td>[1]</td>\n",
       "      <td>[2]</td>\n",
       "      <td>[1]</td>\n",
       "      <td>[1]</td>\n",
       "      <td>[0]</td>\n",
       "      <td>[village]</td>\n",
       "      <td>[Rural]</td>\n",
       "    </tr>\n",
       "    <tr>\n",
       "      <th>14256</th>\n",
       "      <td>[5]</td>\n",
       "      <td>[9]</td>\n",
       "      <td>[1]</td>\n",
       "      <td>[2]</td>\n",
       "      <td>[1]</td>\n",
       "      <td>[2]</td>\n",
       "      <td>[0]</td>\n",
       "      <td>[town]</td>\n",
       "      <td>[Rural]</td>\n",
       "    </tr>\n",
       "    <tr>\n",
       "      <th>14257</th>\n",
       "      <td>[5]</td>\n",
       "      <td>[10]</td>\n",
       "      <td>[1]</td>\n",
       "      <td>[2]</td>\n",
       "      <td>[2]</td>\n",
       "      <td>[1]</td>\n",
       "      <td>[2]</td>\n",
       "      <td>[village]</td>\n",
       "      <td>[Urban]</td>\n",
       "    </tr>\n",
       "  </tbody>\n",
       "</table>\n",
       "<p>14258 rows × 9 columns</p>\n",
       "</div>"
      ],
      "text/plain": [
       "      prev_highway_id_arr prev_region_arr prev_roadwaytype_id_arr  \\\n",
       "0                     [5]            [11]                    [10]   \n",
       "1                     [1]             [1]                    [12]   \n",
       "2                  [2, 2]          [1, 1]                [16, 16]   \n",
       "3                  [5, 5]          [1, 1]                  [1, 1]   \n",
       "4                     [5]             [1]                     [1]   \n",
       "...                   ...             ...                     ...   \n",
       "14253                 [5]            [11]                     [1]   \n",
       "14254                 [3]            [10]                    [10]   \n",
       "14255                 [5]             [6]                     [1]   \n",
       "14256                 [5]             [9]                     [1]   \n",
       "14257                 [5]            [10]                     [1]   \n",
       "\n",
       "      prev_ncc_arr prev_lanes_cat_arr prev_spd_cat_arr prev_cap_cat_arr  \\\n",
       "0              [3]                [2]              [1]              [2]   \n",
       "1              [2]                [2]              [3]              [3]   \n",
       "2           [1, 1]             [1, 1]           [1, 1]           [1, 1]   \n",
       "3           [2, 2]             [2, 2]           [2, 2]           [1, 1]   \n",
       "4              [2]                [1]              [3]              [0]   \n",
       "...            ...                ...              ...              ...   \n",
       "14253          [1]                [2]              [1]              [1]   \n",
       "14254          [2]                [2]              [3]              [2]   \n",
       "14255          [2]                [1]              [1]              [0]   \n",
       "14256          [2]                [1]              [2]              [0]   \n",
       "14257          [2]                [2]              [1]              [2]   \n",
       "\n",
       "      prev_final_place_arr prev_areatype_arr  \n",
       "0                   [city]           [Urban]  \n",
       "1                   [city]           [Urban]  \n",
       "2             [city, city]    [Urban, Urban]  \n",
       "3             [town, town]    [Urban, Urban]  \n",
       "4                   [town]           [Urban]  \n",
       "...                    ...               ...  \n",
       "14253               [city]           [Urban]  \n",
       "14254               [town]           [Urban]  \n",
       "14255            [village]           [Rural]  \n",
       "14256               [town]           [Rural]  \n",
       "14257            [village]           [Urban]  \n",
       "\n",
       "[14258 rows x 9 columns]"
      ]
     },
     "execution_count": 16,
     "metadata": {},
     "output_type": "execute_result"
    }
   ],
   "source": [
    "unseen_df[encoded_feature_lst]"
   ]
  },
  {
   "cell_type": "code",
   "execution_count": 17,
   "id": "33772b65-e7b4-429e-8897-65034ef249f6",
   "metadata": {
    "execution": {
     "iopub.execute_input": "2024-06-18T16:02:33.847006Z",
     "iopub.status.busy": "2024-06-18T16:02:33.846501Z",
     "iopub.status.idle": "2024-06-18T16:02:34.040430Z",
     "shell.execute_reply": "2024-06-18T16:02:34.040430Z",
     "shell.execute_reply.started": "2024-06-18T16:02:33.847006Z"
    }
   },
   "outputs": [],
   "source": [
    "unseen_features_encoded_df = pd.DataFrame()\n",
    "for col,i in encoded_obj_dict.items():\n",
    "    unseen_one_hot_encoded = i.transform(unseen_df[col]) \n",
    "    unseen_temp_df = pd.DataFrame(unseen_one_hot_encoded, columns=[f'{col}_{i}' for i in range(1, unseen_one_hot_encoded.shape[1] + 1)])\n",
    "    unseen_features_encoded_df = pd.concat([unseen_features_encoded_df,unseen_temp_df],axis=1)\n"
   ]
  },
  {
   "cell_type": "code",
   "execution_count": null,
   "id": "e45b473a-e6e9-4897-ac9a-e20cc0c9d642",
   "metadata": {},
   "outputs": [],
   "source": []
  },
  {
   "cell_type": "code",
   "execution_count": 19,
   "id": "f2419323-d859-4da3-aa57-45ef43945eb7",
   "metadata": {
    "execution": {
     "iopub.execute_input": "2024-06-18T16:02:34.044028Z",
     "iopub.status.busy": "2024-06-18T16:02:34.043029Z",
     "iopub.status.idle": "2024-06-18T16:02:34.065755Z",
     "shell.execute_reply": "2024-06-18T16:02:34.064181Z",
     "shell.execute_reply.started": "2024-06-18T16:02:34.044028Z"
    }
   },
   "outputs": [
    {
     "data": {
      "text/plain": [
       "(14258, 73)"
      ]
     },
     "execution_count": 19,
     "metadata": {},
     "output_type": "execute_result"
    }
   ],
   "source": [
    "final_unseen_df = pd.concat([unseen_features_unencoded_df,unseen_features_encoded_df],axis=1)\n",
    "final_unseen_df['volume'] = list(map(lambda x : x ,unseen_df['volume']))\n",
    "final_unseen_df.shape,final_seen_df.shape"
   ]
  },
  {
   "cell_type": "code",
   "execution_count": 20,
   "id": "351a4571-f2bf-4c03-bb2a-434fdf75743c",
   "metadata": {
    "execution": {
     "iopub.execute_input": "2024-06-18T16:02:34.068803Z",
     "iopub.status.busy": "2024-06-18T16:02:34.067769Z",
     "iopub.status.idle": "2024-06-18T16:02:34.083355Z",
     "shell.execute_reply": "2024-06-18T16:02:34.082347Z",
     "shell.execute_reply.started": "2024-06-18T16:02:34.068803Z"
    }
   },
   "outputs": [
    {
     "data": {
      "text/plain": [
       "Index(['highway_id', 'region', 'roadwaytype_id', 'cur_lanes_cat',\n",
       "       'cur_spd_cat', 'cur_cap_cat', 'prev_connected_count',\n",
       "       'cur_final_place_encoded', 'cur_areatype_encoded', 'availble_prev_vol',\n",
       "       'availble_ramp_vol', 'availble_main_road_vol', 'prev_volume',\n",
       "       'prev_highway_id_arr_1', 'prev_highway_id_arr_2',\n",
       "       'prev_highway_id_arr_3', 'prev_highway_id_arr_4',\n",
       "       'prev_highway_id_arr_5', 'prev_highway_id_arr_6', 'prev_region_arr_1',\n",
       "       'prev_region_arr_2', 'prev_region_arr_3', 'prev_region_arr_4',\n",
       "       'prev_region_arr_5', 'prev_region_arr_6', 'prev_region_arr_7',\n",
       "       'prev_region_arr_8', 'prev_region_arr_9', 'prev_region_arr_10',\n",
       "       'prev_region_arr_11', 'prev_roadwaytype_id_arr_1',\n",
       "       'prev_roadwaytype_id_arr_2', 'prev_roadwaytype_id_arr_3',\n",
       "       'prev_roadwaytype_id_arr_4', 'prev_roadwaytype_id_arr_5',\n",
       "       'prev_roadwaytype_id_arr_6', 'prev_roadwaytype_id_arr_7',\n",
       "       'prev_roadwaytype_id_arr_8', 'prev_roadwaytype_id_arr_9',\n",
       "       'prev_roadwaytype_id_arr_10', 'prev_roadwaytype_id_arr_11',\n",
       "       'prev_roadwaytype_id_arr_12', 'prev_roadwaytype_id_arr_13',\n",
       "       'prev_roadwaytype_id_arr_14', 'prev_roadwaytype_id_arr_15',\n",
       "       'prev_roadwaytype_id_arr_16', 'prev_roadwaytype_id_arr_17',\n",
       "       'prev_roadwaytype_id_arr_18', 'prev_roadwaytype_id_arr_19',\n",
       "       'prev_ncc_arr_1', 'prev_ncc_arr_2', 'prev_ncc_arr_3', 'prev_ncc_arr_4',\n",
       "       'prev_ncc_arr_5', 'prev_lanes_cat_arr_1', 'prev_lanes_cat_arr_2',\n",
       "       'prev_spd_cat_arr_1', 'prev_spd_cat_arr_2', 'prev_spd_cat_arr_3',\n",
       "       'prev_cap_cat_arr_1', 'prev_cap_cat_arr_2', 'prev_cap_cat_arr_3',\n",
       "       'prev_cap_cat_arr_4', 'prev_final_place_arr_1',\n",
       "       'prev_final_place_arr_2', 'prev_final_place_arr_3',\n",
       "       'prev_final_place_arr_4', 'prev_final_place_arr_5',\n",
       "       'prev_final_place_arr_6', 'prev_final_place_arr_7',\n",
       "       'prev_areatype_arr_1', 'prev_areatype_arr_2', 'volume'],\n",
       "      dtype='object')"
      ]
     },
     "execution_count": 20,
     "metadata": {},
     "output_type": "execute_result"
    }
   ],
   "source": [
    "final_seen_df.columns,final_unseen_df.columns"
   ]
  },
  {
   "cell_type": "markdown",
   "id": "b7dc8d5e-1c09-4eb6-af4f-f64b36598d66",
   "metadata": {},
   "source": [
    "### Prepare Data For unseen data"
   ]
  },
  {
   "cell_type": "code",
   "execution_count": 21,
   "id": "d619cb5e",
   "metadata": {},
   "outputs": [
    {
     "ename": "MlflowException",
     "evalue": "Run 'b276d4b4122b4f46bde078c2aaa045a4' not found",
     "output_type": "error",
     "traceback": [
      "\u001b[1;31m---------------------------------------------------------------------------\u001b[0m",
      "\u001b[1;31mMlflowException\u001b[0m                           Traceback (most recent call last)",
      "Cell \u001b[1;32mIn[21], line 3\u001b[0m\n\u001b[0;32m      1\u001b[0m run\u001b[38;5;241m=\u001b[39m\u001b[38;5;124m'\u001b[39m\u001b[38;5;124mb276d4b4122b4f46bde078c2aaa045a4\u001b[39m\u001b[38;5;124m'\u001b[39m\n\u001b[0;32m      2\u001b[0m logged_model\u001b[38;5;241m=\u001b[39m\u001b[38;5;124mf\u001b[39m\u001b[38;5;124m'\u001b[39m\u001b[38;5;124mruns:/\u001b[39m\u001b[38;5;132;01m{\u001b[39;00mrun\u001b[38;5;132;01m}\u001b[39;00m\u001b[38;5;124m/model\u001b[39m\u001b[38;5;124m'\u001b[39m\n\u001b[1;32m----> 3\u001b[0m loaded_model\u001b[38;5;241m=\u001b[39mmlflow\u001b[38;5;241m.\u001b[39mpyfunc\u001b[38;5;241m.\u001b[39mload_model(logged_model)\n",
      "File \u001b[1;32mc:\\Users\\KenilChandani\\anaconda3\\Lib\\site-packages\\mlflow\\pyfunc\\__init__.py:940\u001b[0m, in \u001b[0;36mload_model\u001b[1;34m(model_uri, suppress_warnings, dst_path, model_config)\u001b[0m\n\u001b[0;32m    936\u001b[0m         entity_list\u001b[38;5;241m.\u001b[39mappend(Entity(job\u001b[38;5;241m=\u001b[39mjob_entity))\n\u001b[0;32m    938\u001b[0m     lineage_header_info \u001b[38;5;241m=\u001b[39m LineageHeaderInfo(entities\u001b[38;5;241m=\u001b[39mentity_list) \u001b[38;5;28;01mif\u001b[39;00m entity_list \u001b[38;5;28;01melse\u001b[39;00m \u001b[38;5;28;01mNone\u001b[39;00m\n\u001b[1;32m--> 940\u001b[0m local_path \u001b[38;5;241m=\u001b[39m _download_artifact_from_uri(\n\u001b[0;32m    941\u001b[0m     artifact_uri\u001b[38;5;241m=\u001b[39mmodel_uri, output_path\u001b[38;5;241m=\u001b[39mdst_path, lineage_header_info\u001b[38;5;241m=\u001b[39mlineage_header_info\n\u001b[0;32m    942\u001b[0m )\n\u001b[0;32m    944\u001b[0m \u001b[38;5;28;01mif\u001b[39;00m \u001b[38;5;129;01mnot\u001b[39;00m suppress_warnings:\n\u001b[0;32m    945\u001b[0m     model_requirements \u001b[38;5;241m=\u001b[39m _get_pip_requirements_from_model_path(local_path)\n",
      "File \u001b[1;32mc:\\Users\\KenilChandani\\anaconda3\\Lib\\site-packages\\mlflow\\tracking\\artifact_utils.py:108\u001b[0m, in \u001b[0;36m_download_artifact_from_uri\u001b[1;34m(artifact_uri, output_path, lineage_header_info)\u001b[0m\n\u001b[0;32m    100\u001b[0m \u001b[38;5;250m\u001b[39m\u001b[38;5;124;03m\"\"\"\u001b[39;00m\n\u001b[0;32m    101\u001b[0m \u001b[38;5;124;03mArgs:\u001b[39;00m\n\u001b[0;32m    102\u001b[0m \u001b[38;5;124;03m    artifact_uri: The *absolute* URI of the artifact to download.\u001b[39;00m\n\u001b[1;32m   (...)\u001b[0m\n\u001b[0;32m    105\u001b[0m \u001b[38;5;124;03m    lineage_header_info: The model lineage header info to be consumed by lineage services.\u001b[39;00m\n\u001b[0;32m    106\u001b[0m \u001b[38;5;124;03m\"\"\"\u001b[39;00m\n\u001b[0;32m    107\u001b[0m root_uri, artifact_path \u001b[38;5;241m=\u001b[39m _get_root_uri_and_artifact_path(artifact_uri)\n\u001b[1;32m--> 108\u001b[0m repo \u001b[38;5;241m=\u001b[39m get_artifact_repository(artifact_uri\u001b[38;5;241m=\u001b[39mroot_uri)\n\u001b[0;32m    110\u001b[0m \u001b[38;5;28;01mif\u001b[39;00m \u001b[38;5;28misinstance\u001b[39m(repo, ModelsArtifactRepository):\n\u001b[0;32m    111\u001b[0m     \u001b[38;5;28;01mreturn\u001b[39;00m repo\u001b[38;5;241m.\u001b[39mdownload_artifacts(\n\u001b[0;32m    112\u001b[0m         artifact_path\u001b[38;5;241m=\u001b[39martifact_path,\n\u001b[0;32m    113\u001b[0m         dst_path\u001b[38;5;241m=\u001b[39moutput_path,\n\u001b[0;32m    114\u001b[0m         lineage_header_info\u001b[38;5;241m=\u001b[39mlineage_header_info,\n\u001b[0;32m    115\u001b[0m     )\n",
      "File \u001b[1;32mc:\\Users\\KenilChandani\\anaconda3\\Lib\\site-packages\\mlflow\\store\\artifact\\artifact_repository_registry.py:124\u001b[0m, in \u001b[0;36mget_artifact_repository\u001b[1;34m(artifact_uri)\u001b[0m\n\u001b[0;32m    111\u001b[0m \u001b[38;5;28;01mdef\u001b[39;00m \u001b[38;5;21mget_artifact_repository\u001b[39m(artifact_uri: \u001b[38;5;28mstr\u001b[39m) \u001b[38;5;241m-\u001b[39m\u001b[38;5;241m>\u001b[39m ArtifactRepository:\n\u001b[0;32m    112\u001b[0m \u001b[38;5;250m    \u001b[39m\u001b[38;5;124;03m\"\"\"\u001b[39;00m\n\u001b[0;32m    113\u001b[0m \u001b[38;5;124;03m    Get an artifact repository from the registry based on the scheme of artifact_uri\u001b[39;00m\n\u001b[0;32m    114\u001b[0m \n\u001b[1;32m   (...)\u001b[0m\n\u001b[0;32m    122\u001b[0m \u001b[38;5;124;03m        requirements.\u001b[39;00m\n\u001b[0;32m    123\u001b[0m \u001b[38;5;124;03m    \"\"\"\u001b[39;00m\n\u001b[1;32m--> 124\u001b[0m     \u001b[38;5;28;01mreturn\u001b[39;00m _artifact_repository_registry\u001b[38;5;241m.\u001b[39mget_artifact_repository(artifact_uri)\n",
      "File \u001b[1;32mc:\\Users\\KenilChandani\\anaconda3\\Lib\\site-packages\\mlflow\\store\\artifact\\artifact_repository_registry.py:77\u001b[0m, in \u001b[0;36mArtifactRepositoryRegistry.get_artifact_repository\u001b[1;34m(self, artifact_uri)\u001b[0m\n\u001b[0;32m     72\u001b[0m \u001b[38;5;28;01mif\u001b[39;00m repository \u001b[38;5;129;01mis\u001b[39;00m \u001b[38;5;28;01mNone\u001b[39;00m:\n\u001b[0;32m     73\u001b[0m     \u001b[38;5;28;01mraise\u001b[39;00m MlflowException(\n\u001b[0;32m     74\u001b[0m         \u001b[38;5;124mf\u001b[39m\u001b[38;5;124m\"\u001b[39m\u001b[38;5;124mCould not find a registered artifact repository for: \u001b[39m\u001b[38;5;132;01m{\u001b[39;00martifact_uri\u001b[38;5;132;01m}\u001b[39;00m\u001b[38;5;124m. \u001b[39m\u001b[38;5;124m\"\u001b[39m\n\u001b[0;32m     75\u001b[0m         \u001b[38;5;124mf\u001b[39m\u001b[38;5;124m\"\u001b[39m\u001b[38;5;124mCurrently registered schemes are: \u001b[39m\u001b[38;5;132;01m{\u001b[39;00m\u001b[38;5;28mlist\u001b[39m(\u001b[38;5;28mself\u001b[39m\u001b[38;5;241m.\u001b[39m_registry\u001b[38;5;241m.\u001b[39mkeys())\u001b[38;5;132;01m}\u001b[39;00m\u001b[38;5;124m\"\u001b[39m\n\u001b[0;32m     76\u001b[0m     )\n\u001b[1;32m---> 77\u001b[0m \u001b[38;5;28;01mreturn\u001b[39;00m repository(artifact_uri)\n",
      "File \u001b[1;32mc:\\Users\\KenilChandani\\anaconda3\\Lib\\site-packages\\mlflow\\store\\artifact\\runs_artifact_repo.py:26\u001b[0m, in \u001b[0;36mRunsArtifactRepository.__init__\u001b[1;34m(self, artifact_uri)\u001b[0m\n\u001b[0;32m     23\u001b[0m \u001b[38;5;28;01mfrom\u001b[39;00m \u001b[38;5;21;01mmlflow\u001b[39;00m\u001b[38;5;21;01m.\u001b[39;00m\u001b[38;5;21;01mstore\u001b[39;00m\u001b[38;5;21;01m.\u001b[39;00m\u001b[38;5;21;01martifact\u001b[39;00m\u001b[38;5;21;01m.\u001b[39;00m\u001b[38;5;21;01martifact_repository_registry\u001b[39;00m \u001b[38;5;28;01mimport\u001b[39;00m get_artifact_repository\n\u001b[0;32m     25\u001b[0m \u001b[38;5;28msuper\u001b[39m()\u001b[38;5;241m.\u001b[39m\u001b[38;5;21m__init__\u001b[39m(artifact_uri)\n\u001b[1;32m---> 26\u001b[0m uri \u001b[38;5;241m=\u001b[39m RunsArtifactRepository\u001b[38;5;241m.\u001b[39mget_underlying_uri(artifact_uri)\n\u001b[0;32m     27\u001b[0m \u001b[38;5;28mself\u001b[39m\u001b[38;5;241m.\u001b[39mrepo \u001b[38;5;241m=\u001b[39m get_artifact_repository(uri)\n",
      "File \u001b[1;32mc:\\Users\\KenilChandani\\anaconda3\\Lib\\site-packages\\mlflow\\store\\artifact\\runs_artifact_repo.py:39\u001b[0m, in \u001b[0;36mRunsArtifactRepository.get_underlying_uri\u001b[1;34m(runs_uri)\u001b[0m\n\u001b[0;32m     37\u001b[0m (run_id, artifact_path) \u001b[38;5;241m=\u001b[39m RunsArtifactRepository\u001b[38;5;241m.\u001b[39mparse_runs_uri(runs_uri)\n\u001b[0;32m     38\u001b[0m tracking_uri \u001b[38;5;241m=\u001b[39m get_databricks_profile_uri_from_artifact_uri(runs_uri)\n\u001b[1;32m---> 39\u001b[0m uri \u001b[38;5;241m=\u001b[39m get_artifact_uri(run_id, artifact_path, tracking_uri)\n\u001b[0;32m     40\u001b[0m \u001b[38;5;28;01massert\u001b[39;00m \u001b[38;5;129;01mnot\u001b[39;00m RunsArtifactRepository\u001b[38;5;241m.\u001b[39mis_runs_uri(uri)  \u001b[38;5;66;03m# avoid an infinite loop\u001b[39;00m\n\u001b[0;32m     41\u001b[0m \u001b[38;5;28;01mreturn\u001b[39;00m add_databricks_profile_info_to_artifact_uri(uri, tracking_uri)\n",
      "File \u001b[1;32mc:\\Users\\KenilChandani\\anaconda3\\Lib\\site-packages\\mlflow\\tracking\\artifact_utils.py:52\u001b[0m, in \u001b[0;36mget_artifact_uri\u001b[1;34m(run_id, artifact_path, tracking_uri)\u001b[0m\n\u001b[0;32m     46\u001b[0m     \u001b[38;5;28;01mraise\u001b[39;00m MlflowException(\n\u001b[0;32m     47\u001b[0m         message\u001b[38;5;241m=\u001b[39m\u001b[38;5;124m\"\u001b[39m\u001b[38;5;124mA run_id must be specified in order to obtain an artifact uri!\u001b[39m\u001b[38;5;124m\"\u001b[39m,\n\u001b[0;32m     48\u001b[0m         error_code\u001b[38;5;241m=\u001b[39mINVALID_PARAMETER_VALUE,\n\u001b[0;32m     49\u001b[0m     )\n\u001b[0;32m     51\u001b[0m store \u001b[38;5;241m=\u001b[39m _get_store(tracking_uri)\n\u001b[1;32m---> 52\u001b[0m run \u001b[38;5;241m=\u001b[39m store\u001b[38;5;241m.\u001b[39mget_run(run_id)\n\u001b[0;32m     53\u001b[0m \u001b[38;5;66;03m# Maybe move this method to RunsArtifactRepository so the circular dependency is clearer.\u001b[39;00m\n\u001b[0;32m     54\u001b[0m \u001b[38;5;28;01massert\u001b[39;00m urllib\u001b[38;5;241m.\u001b[39mparse\u001b[38;5;241m.\u001b[39murlparse(run\u001b[38;5;241m.\u001b[39minfo\u001b[38;5;241m.\u001b[39martifact_uri)\u001b[38;5;241m.\u001b[39mscheme \u001b[38;5;241m!=\u001b[39m \u001b[38;5;124m\"\u001b[39m\u001b[38;5;124mruns\u001b[39m\u001b[38;5;124m\"\u001b[39m  \u001b[38;5;66;03m# avoid an infinite loop\u001b[39;00m\n",
      "File \u001b[1;32mc:\\Users\\KenilChandani\\anaconda3\\Lib\\site-packages\\mlflow\\store\\tracking\\file_store.py:676\u001b[0m, in \u001b[0;36mFileStore.get_run\u001b[1;34m(self, run_id)\u001b[0m\n\u001b[0;32m    672\u001b[0m \u001b[38;5;250m\u001b[39m\u001b[38;5;124;03m\"\"\"\u001b[39;00m\n\u001b[0;32m    673\u001b[0m \u001b[38;5;124;03mNote: Will get both active and deleted runs.\u001b[39;00m\n\u001b[0;32m    674\u001b[0m \u001b[38;5;124;03m\"\"\"\u001b[39;00m\n\u001b[0;32m    675\u001b[0m _validate_run_id(run_id)\n\u001b[1;32m--> 676\u001b[0m run_info \u001b[38;5;241m=\u001b[39m \u001b[38;5;28mself\u001b[39m\u001b[38;5;241m.\u001b[39m_get_run_info(run_id)\n\u001b[0;32m    677\u001b[0m \u001b[38;5;28;01mif\u001b[39;00m run_info \u001b[38;5;129;01mis\u001b[39;00m \u001b[38;5;28;01mNone\u001b[39;00m:\n\u001b[0;32m    678\u001b[0m     \u001b[38;5;28;01mraise\u001b[39;00m MlflowException(\n\u001b[0;32m    679\u001b[0m         \u001b[38;5;124mf\u001b[39m\u001b[38;5;124m\"\u001b[39m\u001b[38;5;124mRun \u001b[39m\u001b[38;5;124m'\u001b[39m\u001b[38;5;132;01m{\u001b[39;00mrun_id\u001b[38;5;132;01m}\u001b[39;00m\u001b[38;5;124m'\u001b[39m\u001b[38;5;124m metadata is in invalid state.\u001b[39m\u001b[38;5;124m\"\u001b[39m, databricks_pb2\u001b[38;5;241m.\u001b[39mINVALID_STATE\n\u001b[0;32m    680\u001b[0m     )\n",
      "File \u001b[1;32mc:\\Users\\KenilChandani\\anaconda3\\Lib\\site-packages\\mlflow\\store\\tracking\\file_store.py:700\u001b[0m, in \u001b[0;36mFileStore._get_run_info\u001b[1;34m(self, run_uuid)\u001b[0m\n\u001b[0;32m    698\u001b[0m exp_id, run_dir \u001b[38;5;241m=\u001b[39m \u001b[38;5;28mself\u001b[39m\u001b[38;5;241m.\u001b[39m_find_run_root(run_uuid)\n\u001b[0;32m    699\u001b[0m \u001b[38;5;28;01mif\u001b[39;00m run_dir \u001b[38;5;129;01mis\u001b[39;00m \u001b[38;5;28;01mNone\u001b[39;00m:\n\u001b[1;32m--> 700\u001b[0m     \u001b[38;5;28;01mraise\u001b[39;00m MlflowException(\n\u001b[0;32m    701\u001b[0m         \u001b[38;5;124mf\u001b[39m\u001b[38;5;124m\"\u001b[39m\u001b[38;5;124mRun \u001b[39m\u001b[38;5;124m'\u001b[39m\u001b[38;5;132;01m{\u001b[39;00mrun_uuid\u001b[38;5;132;01m}\u001b[39;00m\u001b[38;5;124m'\u001b[39m\u001b[38;5;124m not found\u001b[39m\u001b[38;5;124m\"\u001b[39m, databricks_pb2\u001b[38;5;241m.\u001b[39mRESOURCE_DOES_NOT_EXIST\n\u001b[0;32m    702\u001b[0m     )\n\u001b[0;32m    703\u001b[0m run_info \u001b[38;5;241m=\u001b[39m \u001b[38;5;28mself\u001b[39m\u001b[38;5;241m.\u001b[39m_get_run_info_from_dir(run_dir)\n\u001b[0;32m    704\u001b[0m \u001b[38;5;28;01mif\u001b[39;00m run_info\u001b[38;5;241m.\u001b[39mexperiment_id \u001b[38;5;241m!=\u001b[39m exp_id:\n",
      "\u001b[1;31mMlflowException\u001b[0m: Run 'b276d4b4122b4f46bde078c2aaa045a4' not found"
     ]
    }
   ],
   "source": [
    "run='b276d4b4122b4f46bde078c2aaa045a4'\n",
    "logged_model=f'runs:/{run}/model'\n",
    "loaded_model=mlflow.pyfunc.load_model(logged_model)"
   ]
  },
  {
   "cell_type": "code",
   "execution_count": 29,
   "id": "3f2200bc",
   "metadata": {
    "execution": {
     "iopub.execute_input": "2024-06-18T16:02:34.085409Z",
     "iopub.status.busy": "2024-06-18T16:02:34.085409Z",
     "iopub.status.idle": "2024-06-18T16:02:34.381995Z",
     "shell.execute_reply": "2024-06-18T16:02:34.380379Z",
     "shell.execute_reply.started": "2024-06-18T16:02:34.085409Z"
    }
   },
   "outputs": [],
   "source": [
    "unseen_pred = xg_reg.predict(final_unseen_df[X_test.columns.tolist()])"
   ]
  },
  {
   "cell_type": "code",
   "execution_count": 30,
   "id": "6274587c-b4a4-459a-94ab-a83adb895e8c",
   "metadata": {
    "execution": {
     "iopub.execute_input": "2024-06-18T16:02:34.385947Z",
     "iopub.status.busy": "2024-06-18T16:02:34.384951Z",
     "iopub.status.idle": "2024-06-18T16:02:34.398212Z",
     "shell.execute_reply": "2024-06-18T16:02:34.396530Z",
     "shell.execute_reply.started": "2024-06-18T16:02:34.385947Z"
    }
   },
   "outputs": [],
   "source": [
    "final_unseen_df['predicted_volume'] = unseen_pred\n",
    "final_unseen_df['predicted_volume'] = final_unseen_df['predicted_volume'].round().astype(int)"
   ]
  },
  {
   "cell_type": "code",
   "execution_count": 31,
   "id": "22230dd7-31f2-46e9-a7f2-a53eed7fde2b",
   "metadata": {
    "execution": {
     "iopub.execute_input": "2024-06-18T16:02:34.401097Z",
     "iopub.status.busy": "2024-06-18T16:02:34.400569Z",
     "iopub.status.idle": "2024-06-18T16:02:34.430171Z",
     "shell.execute_reply": "2024-06-18T16:02:34.429100Z",
     "shell.execute_reply.started": "2024-06-18T16:02:34.401097Z"
    }
   },
   "outputs": [],
   "source": [
    "final_unseen_df = pd.concat([unseen_df[['isg_osm_id','prev_isg_osm_id_arr']],final_unseen_df],axis=1)"
   ]
  },
  {
   "cell_type": "code",
   "execution_count": 32,
   "id": "858a5baa-af74-4897-a6d8-913ce884327f",
   "metadata": {
    "execution": {
     "iopub.execute_input": "2024-06-18T16:02:34.432186Z",
     "iopub.status.busy": "2024-06-18T16:02:34.431183Z",
     "iopub.status.idle": "2024-06-18T16:02:34.449417Z",
     "shell.execute_reply": "2024-06-18T16:02:34.448410Z",
     "shell.execute_reply.started": "2024-06-18T16:02:34.432186Z"
    }
   },
   "outputs": [
    {
     "data": {
      "text/html": [
       "<div>\n",
       "<style scoped>\n",
       "    .dataframe tbody tr th:only-of-type {\n",
       "        vertical-align: middle;\n",
       "    }\n",
       "\n",
       "    .dataframe tbody tr th {\n",
       "        vertical-align: top;\n",
       "    }\n",
       "\n",
       "    .dataframe thead th {\n",
       "        text-align: right;\n",
       "    }\n",
       "</style>\n",
       "<table border=\"1\" class=\"dataframe\">\n",
       "  <thead>\n",
       "    <tr style=\"text-align: right;\">\n",
       "      <th></th>\n",
       "      <th>isg_osm_id</th>\n",
       "      <th>availble_prev_vol</th>\n",
       "      <th>availble_ramp_vol</th>\n",
       "      <th>availble_main_road_vol</th>\n",
       "      <th>prev_volume</th>\n",
       "      <th>predicted_volume</th>\n",
       "    </tr>\n",
       "  </thead>\n",
       "  <tbody>\n",
       "    <tr>\n",
       "      <th>2129</th>\n",
       "      <td>124370035001</td>\n",
       "      <td>1</td>\n",
       "      <td>0</td>\n",
       "      <td>1</td>\n",
       "      <td>2928</td>\n",
       "      <td>2361</td>\n",
       "    </tr>\n",
       "    <tr>\n",
       "      <th>2130</th>\n",
       "      <td>124370035002</td>\n",
       "      <td>1</td>\n",
       "      <td>1</td>\n",
       "      <td>0</td>\n",
       "      <td>362</td>\n",
       "      <td>966</td>\n",
       "    </tr>\n",
       "    <tr>\n",
       "      <th>4840</th>\n",
       "      <td>1039216297001</td>\n",
       "      <td>1</td>\n",
       "      <td>0</td>\n",
       "      <td>1</td>\n",
       "      <td>2928</td>\n",
       "      <td>1314</td>\n",
       "    </tr>\n",
       "  </tbody>\n",
       "</table>\n",
       "</div>"
      ],
      "text/plain": [
       "         isg_osm_id  availble_prev_vol  availble_ramp_vol  \\\n",
       "2129   124370035001                  1                  0   \n",
       "2130   124370035002                  1                  1   \n",
       "4840  1039216297001                  1                  0   \n",
       "\n",
       "      availble_main_road_vol  prev_volume  predicted_volume  \n",
       "2129                       1         2928              2361  \n",
       "2130                       0          362               966  \n",
       "4840                       1         2928              1314  "
      ]
     },
     "execution_count": 32,
     "metadata": {},
     "output_type": "execute_result"
    }
   ],
   "source": [
    "final_unseen_df[final_unseen_df['isg_osm_id'].isin([124370035002,1039216297001,124370035001])][[ 'isg_osm_id','availble_prev_vol',\n",
    "        'availble_ramp_vol', 'availble_main_road_vol', 'prev_volume','predicted_volume']]"
   ]
  },
  {
   "cell_type": "code",
   "execution_count": 33,
   "id": "8840a776",
   "metadata": {
    "execution": {
     "iopub.execute_input": "2024-06-18T16:02:34.462347Z",
     "iopub.status.busy": "2024-06-18T16:02:34.462347Z",
     "iopub.status.idle": "2024-06-18T16:02:34.469608Z",
     "shell.execute_reply": "2024-06-18T16:02:34.468586Z",
     "shell.execute_reply.started": "2024-06-18T16:02:34.462347Z"
    }
   },
   "outputs": [],
   "source": [
    "# def geh_check_unseen(row):\n",
    "#     current_vol = row['prev_volume']\n",
    "#     next_vol = row['predicted_volume']\n",
    "#     metric_value = float(np.sqrt(2 * np.sum((current_vol - next_vol) ** 2) / np.sum(current_vol + next_vol)))\n",
    "#     return metric_value"
   ]
  },
  {
   "cell_type": "code",
   "execution_count": 34,
   "id": "4ae22b8b",
   "metadata": {
    "execution": {
     "iopub.execute_input": "2024-06-18T16:02:34.470648Z",
     "iopub.status.busy": "2024-06-18T16:02:34.470648Z",
     "iopub.status.idle": "2024-06-18T16:02:34.478703Z",
     "shell.execute_reply": "2024-06-18T16:02:34.476669Z",
     "shell.execute_reply.started": "2024-06-18T16:02:34.470648Z"
    }
   },
   "outputs": [],
   "source": [
    "# unseen_df_1['GEH'] = unseen_df_1.apply(geh_check_unseen, axis=1)\n",
    "# unseen_df_1.shape"
   ]
  },
  {
   "cell_type": "code",
   "execution_count": 35,
   "id": "45632a81",
   "metadata": {
    "execution": {
     "iopub.execute_input": "2024-06-18T16:02:34.481048Z",
     "iopub.status.busy": "2024-06-18T16:02:34.479715Z",
     "iopub.status.idle": "2024-06-18T16:02:34.489719Z",
     "shell.execute_reply": "2024-06-18T16:02:34.487700Z",
     "shell.execute_reply.started": "2024-06-18T16:02:34.481048Z"
    }
   },
   "outputs": [],
   "source": [
    "# unseen_df_1[unseen_df_1['GEH'] > 25 ].shape"
   ]
  }
 ],
 "metadata": {
  "kernelspec": {
   "display_name": "Python 3 (ipykernel)",
   "language": "python",
   "name": "python3"
  },
  "language_info": {
   "codemirror_mode": {
    "name": "ipython",
    "version": 3
   },
   "file_extension": ".py",
   "mimetype": "text/x-python",
   "name": "python",
   "nbconvert_exporter": "python",
   "pygments_lexer": "ipython3",
   "version": "3.11.5"
  },
  "varInspector": {
   "cols": {
    "lenName": 16,
    "lenType": 16,
    "lenVar": 40
   },
   "kernels_config": {
    "python": {
     "delete_cmd_postfix": "",
     "delete_cmd_prefix": "del ",
     "library": "var_list.py",
     "varRefreshCmd": "print(var_dic_list())"
    },
    "r": {
     "delete_cmd_postfix": ") ",
     "delete_cmd_prefix": "rm(",
     "library": "var_list.r",
     "varRefreshCmd": "cat(var_dic_list()) "
    }
   },
   "types_to_exclude": [
    "module",
    "function",
    "builtin_function_or_method",
    "instance",
    "_Feature"
   ],
   "window_display": false
  },
  "widgets": {
   "application/vnd.jupyter.widget-state+json": {
    "state": {},
    "version_major": 2,
    "version_minor": 0
   }
  }
 },
 "nbformat": 4,
 "nbformat_minor": 5
}
