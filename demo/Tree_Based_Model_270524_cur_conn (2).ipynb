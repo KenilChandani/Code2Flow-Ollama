{
 "cells": [
  {
   "cell_type": "code",
   "execution_count": 16,
   "id": "d0b09570-5208-4c3a-a04e-e7c1c8f7f59d",
   "metadata": {
    "execution": {
     "iopub.execute_input": "2024-05-28T10:55:46.963462Z",
     "iopub.status.busy": "2024-05-28T10:55:46.963222Z",
     "iopub.status.idle": "2024-05-28T10:55:46.967004Z",
     "shell.execute_reply": "2024-05-28T10:55:46.966629Z",
     "shell.execute_reply.started": "2024-05-28T10:55:46.963444Z"
    }
   },
   "outputs": [
    {
     "data": {
      "application/javascript": [
       "IPython.notebook.set_autosave_interval(5000)"
      ]
     },
     "metadata": {},
     "output_type": "display_data"
    },
    {
     "name": "stdout",
     "output_type": "stream",
     "text": [
      "Autosaving every 5 seconds\n"
     ]
    }
   ],
   "source": [
    "# !python3 -m pip install -r requirements.txt\n",
    "%autosave 5"
   ]
  },
  {
   "cell_type": "code",
   "execution_count": null,
   "id": "24408f94-fc30-4473-83f7-fb20ac487469",
   "metadata": {},
   "outputs": [],
   "source": []
  },
  {
   "cell_type": "code",
   "execution_count": null,
   "id": "95c0aa3c-e1de-46d4-ade3-202409a17f1f",
   "metadata": {},
   "outputs": [],
   "source": [
    "## Random Forest"
   ]
  },
  {
   "cell_type": "code",
   "execution_count": 17,
   "id": "d6d98f49",
   "metadata": {
    "ExecuteTime": {
     "end_time": "2024-05-03T12:02:49.375191Z",
     "start_time": "2024-05-03T12:02:44.725195Z"
    },
    "execution": {
     "iopub.execute_input": "2024-05-28T10:55:49.363538Z",
     "iopub.status.busy": "2024-05-28T10:55:49.363290Z",
     "iopub.status.idle": "2024-05-28T10:55:50.036465Z",
     "shell.execute_reply": "2024-05-28T10:55:50.035932Z",
     "shell.execute_reply.started": "2024-05-28T10:55:49.363520Z"
    },
    "tags": []
   },
   "outputs": [],
   "source": [
    "import pandas as pd\n",
    "import numpy as np\n",
    "import matplotlib.pyplot as plt\n",
    "import connectorx as cx\n",
    "import math\n",
    "import time\n",
    "import shap\n",
    "import seaborn as sns\n",
    "import os\n",
    "import pandas as pd\n",
    "from sqlalchemy import create_engine\n",
    "import urllib.parse\n",
    "import mlflow\n",
    "from mlflow.models import infer_signature\n",
    "from sklearn.model_selection import train_test_split\n",
    "from sklearn.metrics import mean_squared_error, r2_score, explained_variance_score, mean_absolute_error\n",
    "from sklearn.ensemble import RandomForestRegressor\n",
    "from sklearn.preprocessing import LabelEncoder\n",
    "from sklearn.model_selection import cross_val_score, train_test_split\n",
    "import statistics\n",
    "import xgboost as xgb\n",
    "import plotly.express as px\n"
   ]
  },
  {
   "cell_type": "code",
   "execution_count": 18,
   "id": "f668daa8",
   "metadata": {
    "ExecuteTime": {
     "end_time": "2024-05-03T12:03:29.361807Z",
     "start_time": "2024-05-03T12:03:17.150574Z"
    },
    "execution": {
     "iopub.execute_input": "2024-05-28T10:55:55.123786Z",
     "iopub.status.busy": "2024-05-28T10:55:55.123335Z",
     "iopub.status.idle": "2024-05-28T10:56:07.603548Z",
     "shell.execute_reply": "2024-05-28T10:56:07.603030Z",
     "shell.execute_reply.started": "2024-05-28T10:55:55.123767Z"
    }
   },
   "outputs": [],
   "source": [
    "database = 'isgpostgres'\n",
    "user = 'postgres'\n",
    "password = '123@NjMpTs'\n",
    "host = '20.62.75.39'\n",
    "port = '9030'\n",
    "encoded_password = urllib.parse.quote(password)\n",
    "connection_string = \"postgresql+psycopg2://\" + user + \":\" + encoded_password + \"@\" + host + \":\" + port + \"/\" + database\n",
    "engine = create_engine(connection_string)\n",
    "\n",
    "\n",
    "sql_command = \"\"\"\n",
    "select * from tm_new_data.current_connected_process_apr_27052024\n",
    "\"\"\"\n",
    "\n",
    "# Execute the query and fetch the data\n",
    "data = pd.read_sql_query(sql_command, engine)\n",
    "\n",
    "\n"
   ]
  },
  {
   "cell_type": "code",
   "execution_count": 19,
   "id": "75587b57-8691-4302-b927-daabf343c2d9",
   "metadata": {
    "execution": {
     "iopub.execute_input": "2024-05-28T10:56:07.604662Z",
     "iopub.status.busy": "2024-05-28T10:56:07.604474Z",
     "iopub.status.idle": "2024-05-28T10:56:07.704132Z",
     "shell.execute_reply": "2024-05-28T10:56:07.703647Z",
     "shell.execute_reply.started": "2024-05-28T10:56:07.604647Z"
    }
   },
   "outputs": [],
   "source": [
    "new_data = data.copy()"
   ]
  },
  {
   "cell_type": "code",
   "execution_count": 20,
   "id": "bc92c34f-012d-4e39-ba5a-cb6b0f0f1786",
   "metadata": {
    "execution": {
     "iopub.execute_input": "2024-05-28T10:56:07.704836Z",
     "iopub.status.busy": "2024-05-28T10:56:07.704683Z",
     "iopub.status.idle": "2024-05-28T10:56:07.708001Z",
     "shell.execute_reply": "2024-05-28T10:56:07.707618Z",
     "shell.execute_reply.started": "2024-05-28T10:56:07.704821Z"
    }
   },
   "outputs": [
    {
     "data": {
      "text/plain": [
       "(559258, 31)"
      ]
     },
     "execution_count": 20,
     "metadata": {},
     "output_type": "execute_result"
    }
   ],
   "source": [
    "new_data.shape"
   ]
  },
  {
   "cell_type": "code",
   "execution_count": null,
   "id": "9c628a18-7dc2-45a2-9c47-dc50406474b1",
   "metadata": {},
   "outputs": [],
   "source": []
  },
  {
   "cell_type": "code",
   "execution_count": 21,
   "id": "4fc64148-b756-450c-8a3a-02f40ceb7382",
   "metadata": {
    "execution": {
     "iopub.execute_input": "2024-05-28T10:56:07.709136Z",
     "iopub.status.busy": "2024-05-28T10:56:07.708985Z",
     "iopub.status.idle": "2024-05-28T10:56:11.411387Z",
     "shell.execute_reply": "2024-05-28T10:56:11.410880Z",
     "shell.execute_reply.started": "2024-05-28T10:56:07.709123Z"
    }
   },
   "outputs": [],
   "source": [
    "new_data['arr_highway_id'] = list(map(lambda x : set(x) , new_data['arr_highway_id'])) \n",
    "new_data['arr_region'] = list(map(lambda x : set(x) , new_data['arr_region']))\n",
    "new_data['arr_roadwaytype_id'] = list(map(lambda x : set(x) , new_data['arr_roadwaytype_id']))\n",
    "new_data['arr_next_pcc'] = list(map(lambda x : set(x) , new_data['arr_next_pcc']))\n",
    "new_data['arr_cur_lanes_cat'] = list(map(lambda x : set(x) , new_data['arr_cur_lanes_cat']))\n",
    "new_data['arr_cur_spd_cat'] = list(map(lambda x : set(x) , new_data['arr_cur_spd_cat'])) \n",
    "new_data['arr_cur_cap_cat'] = list(map(lambda x : {int(float(e)) for e in x if e != None} ,new_data['arr_cur_cap_cat']))\n",
    "new_data['arr_cur_final_place'] = list(map(lambda x : set(x) , new_data['arr_cur_final_place']))\n",
    "new_data['arr_cur_areatype'] = list(map(lambda x : set(x) , new_data['arr_cur_areatype']))"
   ]
  },
  {
   "cell_type": "code",
   "execution_count": 22,
   "id": "d1de7fd6-ecca-4ecf-a88c-2129dbf2a1c4",
   "metadata": {
    "execution": {
     "iopub.execute_input": "2024-05-28T10:56:11.412154Z",
     "iopub.status.busy": "2024-05-28T10:56:11.411981Z",
     "iopub.status.idle": "2024-05-28T10:56:16.555086Z",
     "shell.execute_reply": "2024-05-28T10:56:16.554584Z",
     "shell.execute_reply.started": "2024-05-28T10:56:11.412139Z"
    }
   },
   "outputs": [
    {
     "name": "stdout",
     "output_type": "stream",
     "text": [
      "arr_highway_id\n",
      "arr_region\n",
      "arr_roadwaytype_id\n",
      "arr_next_pcc\n",
      "arr_cur_lanes_cat\n",
      "arr_cur_spd_cat\n",
      "arr_cur_cap_cat\n",
      "arr_cur_final_place\n",
      "arr_cur_areatype\n"
     ]
    }
   ],
   "source": [
    "columns_to_encode = ['arr_highway_id',\n",
    "'arr_region',\n",
    "'arr_roadwaytype_id',\n",
    "'arr_next_pcc',\n",
    "'arr_cur_lanes_cat',\n",
    "'arr_cur_spd_cat',\n",
    "'arr_cur_cap_cat',\n",
    "'arr_cur_final_place',\n",
    "'arr_cur_areatype']\n",
    "\n",
    "# Function to encode a single column\n",
    "def encode_column(column):\n",
    "    # Convert the sets to sorted tuples\n",
    "    new_data[f'{column}_tuple'] = new_data[column].apply(lambda x: tuple(sorted(x)))\n",
    "    \n",
    "    # Create a mapping from unique tuples to unique integers\n",
    "    unique_tuples = new_data[f'{column}_tuple'].unique()\n",
    "    tuple_to_int = {t: i for i, t in enumerate(unique_tuples)}\n",
    "    \n",
    "    # Map the tuples to integers\n",
    "    new_data[f'{column}_encoded'] = new_data[f'{column}_tuple'].apply(lambda x: tuple_to_int[x])\n",
    "    \n",
    "    # Drop the intermediate tuple column\n",
    "    new_data.drop(columns=[f'{column}_tuple'], inplace=True)\n",
    "\n",
    "# Apply the encoding function to each specified column\n",
    "for col in columns_to_encode:\n",
    "    print(col)\n",
    "    encode_column(col)"
   ]
  },
  {
   "cell_type": "code",
   "execution_count": 23,
   "id": "e36d5d3a-0b64-4cf3-b3b8-926e41936e52",
   "metadata": {
    "execution": {
     "iopub.execute_input": "2024-05-28T10:56:16.555815Z",
     "iopub.status.busy": "2024-05-28T10:56:16.555652Z",
     "iopub.status.idle": "2024-05-28T10:56:17.024154Z",
     "shell.execute_reply": "2024-05-28T10:56:17.023677Z",
     "shell.execute_reply.started": "2024-05-28T10:56:16.555801Z"
    }
   },
   "outputs": [
    {
     "data": {
      "text/plain": [
       "conn_tag                            0\n",
       "connected_isg_osm_id                0\n",
       "connected_highway_id                0\n",
       "connected_region                    0\n",
       "connected_roadwaytype_id            0\n",
       "connected_connected_count           0\n",
       "connected_lanes                     0\n",
       "connected_lanes_cat                 0\n",
       "connected_maxspeed                  0\n",
       "connected_spd_cat                   0\n",
       "connected_final_place               0\n",
       "connected_volume                    0\n",
       "connected_areatype                  0\n",
       "connected_capacity                360\n",
       "connected_cap_cat                   0\n",
       "arr_isg_osm_id                      0\n",
       "arr_highway_id                      0\n",
       "arr_region                          0\n",
       "arr_roadwaytype_id                  0\n",
       "arr_next_pcc                        0\n",
       "arr_cur_lanes                       0\n",
       "arr_cur_lanes_cat                   0\n",
       "arr_cur_maxspeed                    0\n",
       "arr_cur_spd_cat                     0\n",
       "arr_cur_final_place                 0\n",
       "arr_volume                          0\n",
       "arr_cur_areatype                    0\n",
       "arr_cur_capacity                    0\n",
       "arr_cur_cap_cat                     0\n",
       "cur_vol_filter_arr                  0\n",
       "current_volume                 455145\n",
       "arr_highway_id_encoded              0\n",
       "arr_region_encoded                  0\n",
       "arr_roadwaytype_id_encoded          0\n",
       "arr_next_pcc_encoded                0\n",
       "arr_cur_lanes_cat_encoded           0\n",
       "arr_cur_spd_cat_encoded             0\n",
       "arr_cur_cap_cat_encoded             0\n",
       "arr_cur_final_place_encoded         0\n",
       "arr_cur_areatype_encoded            0\n",
       "dtype: int64"
      ]
     },
     "execution_count": 23,
     "metadata": {},
     "output_type": "execute_result"
    }
   ],
   "source": [
    "new_data.isnull().sum()"
   ]
  },
  {
   "cell_type": "code",
   "execution_count": 24,
   "id": "c6beeb84-a7fa-40a5-9e95-cd61b8292f3a",
   "metadata": {
    "execution": {
     "iopub.execute_input": "2024-05-28T10:56:17.024838Z",
     "iopub.status.busy": "2024-05-28T10:56:17.024699Z",
     "iopub.status.idle": "2024-05-28T10:56:17.027434Z",
     "shell.execute_reply": "2024-05-28T10:56:17.027059Z",
     "shell.execute_reply.started": "2024-05-28T10:56:17.024825Z"
    }
   },
   "outputs": [],
   "source": [
    "selective_features_lst = ['connected_highway_id', 'connected_region', 'connected_roadwaytype_id','connected_connected_count',\n",
    "                          'connected_lanes_cat','connected_spd_cat','connected_cap_cat',\n",
    "                          'connected_final_place','connected_areatype',\n",
    "                           'arr_highway_id_encoded', 'arr_region_encoded', 'arr_roadwaytype_id_encoded', 'arr_next_pcc_encoded',\n",
    "                          'arr_cur_lanes_cat_encoded', 'arr_cur_spd_cat_encoded', 'arr_cur_cap_cat_encoded',\n",
    "                          'arr_cur_final_place_encoded', 'arr_cur_areatype_encoded',\n",
    "                          'current_volume','connected_volume']"
   ]
  },
  {
   "cell_type": "code",
   "execution_count": 25,
   "id": "901613f8-d4ef-4bb5-a158-970cde6bfc1a",
   "metadata": {
    "execution": {
     "iopub.execute_input": "2024-05-28T10:56:17.028341Z",
     "iopub.status.busy": "2024-05-28T10:56:17.027944Z",
     "iopub.status.idle": "2024-05-28T10:56:17.118051Z",
     "shell.execute_reply": "2024-05-28T10:56:17.117540Z",
     "shell.execute_reply.started": "2024-05-28T10:56:17.028327Z"
    }
   },
   "outputs": [],
   "source": [
    "new_data_2 = new_data[selective_features_lst].copy()"
   ]
  },
  {
   "cell_type": "code",
   "execution_count": 26,
   "id": "3eeccf6c-ea2d-4d2b-976b-263be716aa63",
   "metadata": {
    "execution": {
     "iopub.execute_input": "2024-05-28T10:56:17.118866Z",
     "iopub.status.busy": "2024-05-28T10:56:17.118674Z",
     "iopub.status.idle": "2024-05-28T10:56:17.186603Z",
     "shell.execute_reply": "2024-05-28T10:56:17.186154Z",
     "shell.execute_reply.started": "2024-05-28T10:56:17.118851Z"
    }
   },
   "outputs": [
    {
     "data": {
      "text/plain": [
       "connected_highway_id                0\n",
       "connected_region                    0\n",
       "connected_roadwaytype_id            0\n",
       "connected_connected_count           0\n",
       "connected_lanes_cat                 0\n",
       "connected_spd_cat                   0\n",
       "connected_cap_cat                   0\n",
       "connected_final_place               0\n",
       "connected_areatype                  0\n",
       "arr_highway_id_encoded              0\n",
       "arr_region_encoded                  0\n",
       "arr_roadwaytype_id_encoded          0\n",
       "arr_next_pcc_encoded                0\n",
       "arr_cur_lanes_cat_encoded           0\n",
       "arr_cur_spd_cat_encoded             0\n",
       "arr_cur_cap_cat_encoded             0\n",
       "arr_cur_final_place_encoded         0\n",
       "arr_cur_areatype_encoded            0\n",
       "current_volume                 455145\n",
       "connected_volume                    0\n",
       "dtype: int64"
      ]
     },
     "execution_count": 26,
     "metadata": {},
     "output_type": "execute_result"
    }
   ],
   "source": [
    "new_data_2.isnull().sum()"
   ]
  },
  {
   "cell_type": "code",
   "execution_count": 27,
   "id": "a23ec4de-ecc7-42a9-89a9-756454930732",
   "metadata": {
    "execution": {
     "iopub.execute_input": "2024-05-28T10:56:17.188336Z",
     "iopub.status.busy": "2024-05-28T10:56:17.188183Z",
     "iopub.status.idle": "2024-05-28T10:56:17.213344Z",
     "shell.execute_reply": "2024-05-28T10:56:17.212856Z",
     "shell.execute_reply.started": "2024-05-28T10:56:17.188323Z"
    }
   },
   "outputs": [],
   "source": [
    "seen_df_1 = new_data_2[(new_data_2['connected_volume']>0 ) & (new_data_2['current_volume']>0 ) ]\n",
    "un_seen_df_1 = new_data_2[(new_data_2['connected_volume'] < 0 ) & (new_data_2['current_volume']>0 )]"
   ]
  },
  {
   "cell_type": "code",
   "execution_count": 28,
   "id": "05efc438-126d-46ee-9ca5-800630f6a2d7",
   "metadata": {
    "execution": {
     "iopub.execute_input": "2024-05-28T10:56:17.214367Z",
     "iopub.status.busy": "2024-05-28T10:56:17.214161Z",
     "iopub.status.idle": "2024-05-28T10:56:17.217247Z",
     "shell.execute_reply": "2024-05-28T10:56:17.216865Z",
     "shell.execute_reply.started": "2024-05-28T10:56:17.214354Z"
    }
   },
   "outputs": [
    {
     "data": {
      "text/plain": [
       "((74733, 20), (29380, 20))"
      ]
     },
     "execution_count": 28,
     "metadata": {},
     "output_type": "execute_result"
    }
   ],
   "source": [
    "seen_df_1.shape,un_seen_df_1.shape"
   ]
  },
  {
   "cell_type": "code",
   "execution_count": 29,
   "id": "05df2d32-591b-43d0-8886-fa7f27c0d9fd",
   "metadata": {
    "execution": {
     "iopub.execute_input": "2024-05-28T10:56:17.218077Z",
     "iopub.status.busy": "2024-05-28T10:56:17.217816Z",
     "iopub.status.idle": "2024-05-28T10:56:17.263459Z",
     "shell.execute_reply": "2024-05-28T10:56:17.263018Z",
     "shell.execute_reply.started": "2024-05-28T10:56:17.218064Z"
    }
   },
   "outputs": [
    {
     "data": {
      "text/plain": [
       "connected_highway_id           0\n",
       "connected_region               0\n",
       "connected_roadwaytype_id       0\n",
       "connected_connected_count      0\n",
       "connected_lanes_cat            0\n",
       "connected_spd_cat              0\n",
       "connected_cap_cat              0\n",
       "connected_final_place          0\n",
       "connected_areatype             0\n",
       "arr_highway_id_encoded         0\n",
       "arr_region_encoded             0\n",
       "arr_roadwaytype_id_encoded     0\n",
       "arr_next_pcc_encoded           0\n",
       "arr_cur_lanes_cat_encoded      0\n",
       "arr_cur_spd_cat_encoded        0\n",
       "arr_cur_cap_cat_encoded        0\n",
       "arr_cur_final_place_encoded    0\n",
       "arr_cur_areatype_encoded       0\n",
       "current_volume                 0\n",
       "connected_volume               0\n",
       "dtype: int64"
      ]
     },
     "execution_count": 29,
     "metadata": {},
     "output_type": "execute_result"
    }
   ],
   "source": [
    "seen_df_1.isnull().sum()"
   ]
  },
  {
   "cell_type": "code",
   "execution_count": 30,
   "id": "8bcc47f2-d80e-4c40-812d-83a3b1d14273",
   "metadata": {
    "execution": {
     "iopub.execute_input": "2024-05-28T10:56:17.264297Z",
     "iopub.status.busy": "2024-05-28T10:56:17.264017Z",
     "iopub.status.idle": "2024-05-28T10:56:17.317075Z",
     "shell.execute_reply": "2024-05-28T10:56:17.316612Z",
     "shell.execute_reply.started": "2024-05-28T10:56:17.264284Z"
    }
   },
   "outputs": [
    {
     "data": {
      "text/plain": [
       "(27311, 20)"
      ]
     },
     "execution_count": 30,
     "metadata": {},
     "output_type": "execute_result"
    }
   ],
   "source": [
    "uni_seen_df = seen_df_1.drop_duplicates()\n",
    "uni_seen_df.shape"
   ]
  },
  {
   "cell_type": "code",
   "execution_count": 31,
   "id": "9663548f-663b-430a-b6bb-1da9639fde73",
   "metadata": {
    "execution": {
     "iopub.execute_input": "2024-05-28T10:56:17.318099Z",
     "iopub.status.busy": "2024-05-28T10:56:17.317686Z",
     "iopub.status.idle": "2024-05-28T10:56:17.331757Z",
     "shell.execute_reply": "2024-05-28T10:56:17.331389Z",
     "shell.execute_reply.started": "2024-05-28T10:56:17.318068Z"
    }
   },
   "outputs": [
    {
     "name": "stderr",
     "output_type": "stream",
     "text": [
      "/tmp/ipykernel_14105/1431119123.py:4: SettingWithCopyWarning: \n",
      "A value is trying to be set on a copy of a slice from a DataFrame.\n",
      "Try using .loc[row_indexer,col_indexer] = value instead\n",
      "\n",
      "See the caveats in the documentation: https://pandas.pydata.org/pandas-docs/stable/user_guide/indexing.html#returning-a-view-versus-a-copy\n",
      "  uni_seen_df['connected_final_place'] = label_encoder.fit_transform(uni_seen_df['connected_final_place'])\n",
      "/tmp/ipykernel_14105/1431119123.py:6: SettingWithCopyWarning: \n",
      "A value is trying to be set on a copy of a slice from a DataFrame.\n",
      "Try using .loc[row_indexer,col_indexer] = value instead\n",
      "\n",
      "See the caveats in the documentation: https://pandas.pydata.org/pandas-docs/stable/user_guide/indexing.html#returning-a-view-versus-a-copy\n",
      "  uni_seen_df['connected_areatype'] = label_encoder.fit_transform(uni_seen_df['connected_areatype'])\n"
     ]
    }
   ],
   "source": [
    "# Initialize the LabelEncoder\n",
    "label_encoder = LabelEncoder()\n",
    "# Fit the LabelEncoder to the column and transform the values\n",
    "uni_seen_df['connected_final_place'] = label_encoder.fit_transform(uni_seen_df['connected_final_place'])\n",
    "# Fit the LabelEncoder to the column and transform the values\n",
    "uni_seen_df['connected_areatype'] = label_encoder.fit_transform(uni_seen_df['connected_areatype'])"
   ]
  },
  {
   "cell_type": "code",
   "execution_count": null,
   "id": "e4115c65-cd2a-47c7-914a-11c3f9a77ea0",
   "metadata": {},
   "outputs": [],
   "source": []
  },
  {
   "cell_type": "code",
   "execution_count": 32,
   "id": "ff34a8f7-cb3b-4dbd-88f4-339f688224a1",
   "metadata": {
    "execution": {
     "iopub.execute_input": "2024-05-28T10:56:17.332526Z",
     "iopub.status.busy": "2024-05-28T10:56:17.332264Z",
     "iopub.status.idle": "2024-05-28T10:56:17.343399Z",
     "shell.execute_reply": "2024-05-28T10:56:17.343017Z",
     "shell.execute_reply.started": "2024-05-28T10:56:17.332513Z"
    }
   },
   "outputs": [],
   "source": [
    "input_feature_lst = ['connected_highway_id', 'connected_region', 'connected_roadwaytype_id','connected_connected_count',\n",
    "                          'connected_lanes_cat','connected_spd_cat','connected_cap_cat',\n",
    "                          'connected_final_place','connected_areatype',\n",
    "                           'arr_highway_id_encoded', 'arr_region_encoded', 'arr_roadwaytype_id_encoded', 'arr_next_pcc_encoded',\n",
    "                          'arr_cur_lanes_cat_encoded', 'arr_cur_spd_cat_encoded', 'arr_cur_cap_cat_encoded',\n",
    "                          'arr_cur_final_place_encoded', 'arr_cur_areatype_encoded',\n",
    "                          'current_volume']\n",
    "target_feature_lst= ['connected_volume']"
   ]
  },
  {
   "cell_type": "code",
   "execution_count": 33,
   "id": "ba75d801",
   "metadata": {
    "ExecuteTime": {
     "end_time": "2024-05-03T12:08:42.270346Z",
     "start_time": "2024-05-03T12:08:42.244732Z"
    },
    "execution": {
     "iopub.execute_input": "2024-05-28T10:56:17.344182Z",
     "iopub.status.busy": "2024-05-28T10:56:17.343927Z",
     "iopub.status.idle": "2024-05-28T10:56:17.365731Z",
     "shell.execute_reply": "2024-05-28T10:56:17.365346Z",
     "shell.execute_reply.started": "2024-05-28T10:56:17.344170Z"
    }
   },
   "outputs": [
    {
     "data": {
      "text/plain": [
       "((21848, 19), (5463, 19), (21848, 1), (5463, 1))"
      ]
     },
     "execution_count": 33,
     "metadata": {},
     "output_type": "execute_result"
    }
   ],
   "source": [
    "X,y = uni_seen_df[input_feature_lst],uni_seen_df[target_feature_lst]\n",
    "X_train, X_test, y_train, y_test = train_test_split(X, y, test_size=0.2, random_state=42)\n",
    "X_train.shape,X_test.shape, y_train.shape, y_test.shape"
   ]
  },
  {
   "cell_type": "code",
   "execution_count": 34,
   "id": "e7aa668c",
   "metadata": {
    "execution": {
     "iopub.execute_input": "2024-05-28T10:56:17.366563Z",
     "iopub.status.busy": "2024-05-28T10:56:17.366280Z",
     "iopub.status.idle": "2024-05-28T10:56:17.371568Z",
     "shell.execute_reply": "2024-05-28T10:56:17.371165Z",
     "shell.execute_reply.started": "2024-05-28T10:56:17.366549Z"
    }
   },
   "outputs": [],
   "source": [
    "# def geh_check(current_vol,next_vol):\n",
    "#     return round(math.sqrt(2*((current_vol-next_vol)*(current_vol-next_vol))/(current_vol+next_vol)),2)\n",
    "\n",
    "def geh_check(y_true, y_pred):\n",
    "    current_vol = y_true\n",
    "    next_vol = y_pred\n",
    "    metric_value = float(np.sqrt(2 * np.sum((current_vol - next_vol) ** 2) / np.sum(current_vol + next_vol)))\n",
    "    return metric_value"
   ]
  },
  {
   "cell_type": "code",
   "execution_count": 35,
   "id": "dca67cb1",
   "metadata": {
    "ExecuteTime": {
     "end_time": "2024-05-03T12:08:52.045553Z",
     "start_time": "2024-05-03T12:08:52.040040Z"
    },
    "execution": {
     "iopub.execute_input": "2024-05-28T10:56:17.372359Z",
     "iopub.status.busy": "2024-05-28T10:56:17.372102Z",
     "iopub.status.idle": "2024-05-28T10:56:17.384825Z",
     "shell.execute_reply": "2024-05-28T10:56:17.384436Z",
     "shell.execute_reply.started": "2024-05-28T10:56:17.372346Z"
    }
   },
   "outputs": [],
   "source": [
    "def mean_geh(y_test, y_pred):\n",
    "    geh_lst = []\n",
    "    for i,j in zip(y_test, y_pred):\n",
    "        geh_lst.append(geh_check(i,j))\n",
    "    return statistics.mean(geh_lst)"
   ]
  },
  {
   "cell_type": "code",
   "execution_count": 36,
   "id": "680a3af4",
   "metadata": {
    "ExecuteTime": {
     "end_time": "2024-05-03T12:11:40.027429Z",
     "start_time": "2024-05-03T12:11:40.011916Z"
    },
    "execution": {
     "iopub.execute_input": "2024-05-28T10:56:17.385579Z",
     "iopub.status.busy": "2024-05-28T10:56:17.385328Z",
     "iopub.status.idle": "2024-05-28T10:56:17.400639Z",
     "shell.execute_reply": "2024-05-28T10:56:17.400225Z",
     "shell.execute_reply.started": "2024-05-28T10:56:17.385567Z"
    }
   },
   "outputs": [],
   "source": [
    "def log_model_summary(xg_reg,X_train,X_test,y_train,y_test,y_pred):\n",
    "    \n",
    "    # Log Parameter\n",
    "    xgb_params = xg_reg.get_params()\n",
    "    mlflow.log_params(xgb_params)\n",
    "    \n",
    "    Test_Data_Df = X_test.copy()\n",
    "    Test_Data_Df['connected_volume'] = y_test['connected_volume']\n",
    "    Test_Data_Df['predicted_connected_volume']=y_pred\n",
    "    Test_Data_Df['predicted_connected_volume']=Test_Data_Df['predicted_connected_volume'].round().astype(int)\n",
    "    Test_Data_Df['diff']=Test_Data_Df['connected_volume']-Test_Data_Df['predicted_connected_volume']\n",
    "    Test_Data_Df['geh'] = Test_Data_Df.apply(lambda row: geh_check(row['connected_volume'], row['predicted_connected_volume']), axis=1)\n",
    "    Test_Data_Df['geh'] = Test_Data_Df['geh'].round(2)\n",
    "    \n",
    "    # Log Metrics\n",
    "    mse = round(mean_squared_error(y_test, y_pred),3)\n",
    "    rmse = round(np.sqrt(mse),3)\n",
    "    r2 = round(r2_score(y_test, y_pred),3)\n",
    "    n = X_test.shape[0]\n",
    "    p = X_test.shape[1]\n",
    "    adjusted_r2score =  round((1 - (1 - r2) * (n - 1) / (n - p - 1)),3)\n",
    "    mae = round(mean_absolute_error(y_test, y_pred),3)\n",
    "    \n",
    "    m_geh = round(mean_geh(y_test.values, y_pred),3)\n",
    "    geh_grt_5 = Test_Data_Df[Test_Data_Df['geh']>5].shape[0]\n",
    "    geh_error_per = round(((geh_grt_5/n)*100),3)\n",
    "    \n",
    "    metrics = {'mse':mse,'rmse':rmse,'r2score':r2,'mae':mae,'adjusted_r2score' : adjusted_r2score,\n",
    "               'mean_geh':m_geh,'test_data_size':n,'geh_grt_5':geh_grt_5,'geh_error_per':geh_error_per}\n",
    "    \n",
    "    mlflow.log_metrics(metrics)\n",
    "    \n",
    "    \n",
    "    # log tags\n",
    "    tags = {'Model_Name' : 'XGBoost',\n",
    "            'Train Size' : X_train.shape[0],\n",
    "            'Test Size' : X_test.shape[0],\n",
    "            'No. Of Input Feature' : len(input_feature_lst),\n",
    "            'No. Of Target Feature ': len(target_feature_lst),\n",
    "            'input_feature_lst':input_feature_lst,\n",
    "            'target_feature_lst': target_feature_lst}\n",
    "    \n",
    "    mlflow.set_tags(tags)\n",
    "\n",
    "    return  Test_Data_Df"
   ]
  },
  {
   "cell_type": "code",
   "execution_count": 37,
   "id": "8cb54d83",
   "metadata": {
    "ExecuteTime": {
     "end_time": "2024-05-03T12:11:42.564064Z",
     "start_time": "2024-05-03T12:11:42.555771Z"
    },
    "execution": {
     "iopub.execute_input": "2024-05-28T10:56:17.401316Z",
     "iopub.status.busy": "2024-05-28T10:56:17.401182Z",
     "iopub.status.idle": "2024-05-28T10:56:17.428979Z",
     "shell.execute_reply": "2024-05-28T10:56:17.428545Z",
     "shell.execute_reply.started": "2024-05-28T10:56:17.401304Z"
    }
   },
   "outputs": [
    {
     "name": "stdout",
     "output_type": "stream",
     "text": [
      "Tracking URI: https://ptt2-mlflow.isgsuite.com/\n"
     ]
    }
   ],
   "source": [
    "os.environ['MLFLOW_TRACKING_USERNAME'] = 'isgadmin'\n",
    "os.environ['MLFLOW_TRACKING_PASSWORD'] = 'infosense12@'\n",
    "tracking_server_uri = \"https://ptt2-mlflow.isgsuite.com/\"\n",
    "mlflow.set_tracking_uri(tracking_server_uri)\n",
    "tracking_uri = mlflow.get_tracking_uri()\n",
    "print(\"Tracking URI:\", tracking_uri)"
   ]
  },
  {
   "cell_type": "code",
   "execution_count": 38,
   "id": "947eb68c",
   "metadata": {
    "ExecuteTime": {
     "end_time": "2024-05-03T12:11:43.671204Z",
     "start_time": "2024-05-03T12:11:43.662379Z"
    },
    "execution": {
     "iopub.execute_input": "2024-05-28T10:56:17.429684Z",
     "iopub.status.busy": "2024-05-28T10:56:17.429524Z",
     "iopub.status.idle": "2024-05-28T10:56:17.441217Z",
     "shell.execute_reply": "2024-05-28T10:56:17.440820Z",
     "shell.execute_reply.started": "2024-05-28T10:56:17.429665Z"
    }
   },
   "outputs": [
    {
     "name": "stdout",
     "output_type": "stream",
     "text": [
      "Run Name: RF_FC_1_2_3\n",
      "Description: Predicting for function class 1,2,3 using multi input as column\n"
     ]
    }
   ],
   "source": [
    "# experiment_name = \"TM_New_Approach\"\n",
    "# experiment = mlflow.set_experiment(experiment_name)\n",
    "# experiment_id = experiment.experiment_id\n",
    "run_name = 'RF_FC_1_2_3'\n",
    "description = 'Predicting for function class 1,2,3 using multi input as column'\n",
    "# Get Experiment Details\n",
    "# print(f\"Experiment_id: {experiment.experiment_id}\")\n",
    "print(f\"Run Name: {run_name}\")\n",
    "print(f\"Description: {description}\")\n",
    "# print(f\"Artifact Location: {experiment.artifact_location}\")"
   ]
  },
  {
   "cell_type": "code",
   "execution_count": 39,
   "id": "95306392",
   "metadata": {
    "ExecuteTime": {
     "end_time": "2024-05-03T12:12:13.859137Z",
     "start_time": "2024-05-03T12:12:07.236229Z"
    },
    "execution": {
     "iopub.execute_input": "2024-05-28T10:56:17.797980Z",
     "iopub.status.busy": "2024-05-28T10:56:17.797823Z",
     "iopub.status.idle": "2024-05-28T10:56:50.667554Z",
     "shell.execute_reply": "2024-05-28T10:56:50.667140Z",
     "shell.execute_reply.started": "2024-05-28T10:56:17.797961Z"
    },
    "scrolled": true
   },
   "outputs": [
    {
     "name": "stderr",
     "output_type": "stream",
     "text": [
      "2024/05/28 10:56:17 WARNING mlflow.utils.git_utils: Failed to import Git (the Git executable is probably not on your PATH), so Git SHA is not available. Error: Failed to initialize: Bad git executable.\n",
      "The git executable must be specified in one of the following ways:\n",
      "    - be included in your $PATH\n",
      "    - be set via $GIT_PYTHON_GIT_EXECUTABLE\n",
      "    - explicitly set via git.refresh(<full-path-to-git-executable>)\n",
      "\n",
      "All git commands will error until this is rectified.\n",
      "\n",
      "This initial message can be silenced or aggravated in the future by setting the\n",
      "$GIT_PYTHON_REFRESH environment variable. Use one of the following values:\n",
      "    - quiet|q|silence|s|silent|none|n|0: for no message or exception\n",
      "    - warn|w|warning|log|l|1: for a warning message (logging level CRITICAL, displayed by default)\n",
      "    - error|e|exception|raise|r|2: for a raised exception\n",
      "\n",
      "Example:\n",
      "    export GIT_PYTHON_REFRESH=quiet\n",
      "\n"
     ]
    },
    {
     "name": "stdout",
     "output_type": "stream",
     "text": [
      "RandomForestRegressor(bootstrap=False, criterion='poisson', max_depth=8,\n",
      "                      max_features=0.6, max_leaf_nodes=2000,\n",
      "                      min_samples_leaf=15, n_estimators=500, random_state=1234)\n"
     ]
    },
    {
     "name": "stderr",
     "output_type": "stream",
     "text": [
      "/usr/local/lib/python3.11/site-packages/sklearn/base.py:1473: DataConversionWarning: A column-vector y was passed when a 1d array was expected. Please change the shape of y to (n_samples,), for example using ravel().\n",
      "  return fit_method(estimator, *args, **kwargs)\n",
      "/usr/local/lib/python3.11/site-packages/mlflow/types/utils.py:394: UserWarning:\n",
      "\n",
      "Hint: Inferred schema contains integer column(s). Integer columns in Python cannot represent missing values. If your input data contains missing values at inference time, it will be encoded as floats and will cause a schema enforcement error. The best way to avoid this problem is to infer the model schema based on a realistic data sample (training dataset) that includes missing values. Alternatively, you can declare integer columns as doubles (float64) whenever these columns may have missing values. See `Handling Integers With Missing Values <https://www.mlflow.org/docs/latest/models.html#handling-integers-with-missing-values>`_ for more details.\n",
      "\n"
     ]
    },
    {
     "data": {
      "image/png": "[encoded data removed]",
      "text/plain": [
       "<Figure size 800x910 with 1 Axes>"
      ]
     },
     "metadata": {},
     "output_type": "display_data"
    },
    {
     "data": {
      "image/png": "[encoded data removed]",
      "text/plain": [
       "<Figure size 1400x600 with 2 Axes>"
      ]
     },
     "metadata": {},
     "output_type": "display_data"
    },
    {
     "data": {
      "image/png": "[encoded data removed]",
      "text/plain": [
       "<Figure size 800x600 with 1 Axes>"
      ]
     },
     "metadata": {},
     "output_type": "display_data"
    }
   ],
   "source": [
    "with mlflow.start_run(experiment_id=\"59\",run_name = run_name,description=description) as run:\n",
    "\n",
    "    # Define the XGBoost regressor with the specified parameters\n",
    "    params = {\n",
    "    'n_estimators' : 500,\n",
    "    'max_depth' : 8,\n",
    "    'max_leaf_nodes' : 2000,\n",
    "    'min_samples_split' : 2,\n",
    "    'min_samples_leaf' : 15,\n",
    "    'bootstrap' : False,\n",
    "    'random_state' : 1234,\n",
    "    'criterion' : 'poisson',\n",
    "    'max_features' : 0.6\n",
    "    }\n",
    "    \n",
    "    # Train the model\n",
    "    xg_reg = RandomForestRegressor(**params)\n",
    "    print(xg_reg)\n",
    "    xg_reg.fit(X_train, y_train)\n",
    "    # Make predictions on the test set\n",
    "    y_pred = xg_reg.predict(X_test)\n",
    "    y_test['connected_volume'] = round(y_test['connected_volume'],0).astype(int)\n",
    "    y_pred = np.rint(y_pred).astype(int)\n",
    "    \n",
    "    # Log Model Summary\n",
    "    Test_Data_Df = log_model_summary(xg_reg,X_train,X_test,y_train,y_test,y_pred)\n",
    "    \n",
    "    # Store Indexes\n",
    "    # X_train_index = seen_df_1[seen_df_1.index.isin(X_train.index)].row_num.tolist()\n",
    "    # X_test_index = seen_df_1[seen_df_1.index.isin(X_test.index)].row_num.tolist()\n",
    "    # data_json = {'X_train_index': X_train_index,'X_test_index': X_test_index}\n",
    "    \n",
    "    # mlflow.log_dict(data_json, \"Data_Index.json\")\n",
    "   \n",
    "    \n",
    "    # Log Feature Importance\n",
    "\n",
    "    explainer = shap.TreeExplainer(xg_reg)\n",
    "    shap_values = explainer.shap_values(X_train[:500])\n",
    "    fig = shap.summary_plot(shap_values, X_train[:500], plot_type=\"bar\",show=False)\n",
    "    # Save the Image\n",
    "    image_path = \"Feature_Importance.png\"\n",
    "    plt.savefig(image_path)\n",
    "    mlflow.log_artifact(image_path, \"images\")\n",
    "    \n",
    "#     Actual Vs Prediction Plot\n",
    "    fig = px.scatter(Test_Data_Df, x='connected_volume', y='predicted_connected_volume')\n",
    "    fig.add_trace(px.line(Test_Data_Df, x='connected_volume', y='connected_volume').data[0])\n",
    "    fig.update_layout(xaxis_title='Actual Values', yaxis_title='Predicted Values')\n",
    "    html_str = fig.to_html(full_html=False)\n",
    "    with open(\"Actual_Vs_Prediction_Plot.html\", \"w\") as f:\n",
    "        f.write(html_str)\n",
    "    mlflow.log_artifact(\"Actual_Vs_Prediction_Plot.html\", \"html\")\n",
    "        \n",
    "#     Actual And Prediction Distribution\n",
    "    \n",
    "    fig, axs = plt.subplots(1, 2, figsize=(14, 6))\n",
    "    sns.histplot(Test_Data_Df['connected_volume'], color='blue', kde=True, ax=axs[0])\n",
    "    axs[0].set_title('Actual Distribution')\n",
    "    axs[0].set_xlabel('Values')\n",
    "    axs[0].set_ylabel('Frequency')\n",
    "    sns.histplot(Test_Data_Df['predicted_connected_volume'], color='orange', kde=True, ax=axs[1])\n",
    "    axs[1].set_title('Predicted Distribution')\n",
    "    axs[1].set_xlabel('Values')\n",
    "    axs[1].set_ylabel('Frequency')\n",
    "    plt.tight_layout()\n",
    "\n",
    "    image_path = \"Actual_And_Prediction_Distribution.png\"\n",
    "    plt.savefig(image_path)\n",
    "    mlflow.log_artifact(image_path, \"images\")\n",
    "    \n",
    "    \n",
    "#     Residuals Plot\n",
    "    plt.figure(figsize=(8, 6))\n",
    "    sns.histplot(Test_Data_Df['diff'], bins=100, kde=False, color='skyblue')\n",
    "    plt.xlabel('Values')\n",
    "    plt.ylabel('Frequency')\n",
    "    plt.title('Histogram with KDE')\n",
    "    plt.xlim(-500, 500)\n",
    "    plt.grid(True)\n",
    "    \n",
    "    image_path = \"Residuals_Plot.png\"\n",
    "    plt.savefig(image_path)\n",
    "    mlflow.log_artifact(image_path, \"images\")\n",
    "    \n",
    "#     Log Model\n",
    "    signature = infer_signature(X_test, xg_reg.predict(X_test))\n",
    "    mlflow.sklearn.log_model(xg_reg, \"model\", signature=signature)\n",
    "    \n",
    "    mlflow.end_run()  "
   ]
  },
  {
   "cell_type": "code",
   "execution_count": 40,
   "id": "d57804be",
   "metadata": {
    "execution": {
     "iopub.execute_input": "2024-05-28T10:56:50.668608Z",
     "iopub.status.busy": "2024-05-28T10:56:50.668440Z",
     "iopub.status.idle": "2024-05-28T10:56:50.672633Z",
     "shell.execute_reply": "2024-05-28T10:56:50.672244Z",
     "shell.execute_reply.started": "2024-05-28T10:56:50.668595Z"
    }
   },
   "outputs": [
    {
     "data": {
      "text/plain": [
       "(1117, 23)"
      ]
     },
     "execution_count": 40,
     "metadata": {},
     "output_type": "execute_result"
    }
   ],
   "source": [
    "Test_Data_Df[Test_Data_Df['geh']>5].shape"
   ]
  },
  {
   "cell_type": "markdown",
   "id": "b7dc8d5e-1c09-4eb6-af4f-f64b36598d66",
   "metadata": {},
   "source": [
    "### Prepare Data For unseen data"
   ]
  },
  {
   "cell_type": "code",
   "execution_count": 41,
   "id": "7eae972b-5215-4efa-a7c2-65278fe95796",
   "metadata": {
    "execution": {
     "iopub.execute_input": "2024-05-28T10:56:50.673360Z",
     "iopub.status.busy": "2024-05-28T10:56:50.673100Z",
     "iopub.status.idle": "2024-05-28T10:56:50.692419Z",
     "shell.execute_reply": "2024-05-28T10:56:50.692030Z",
     "shell.execute_reply.started": "2024-05-28T10:56:50.673347Z"
    }
   },
   "outputs": [
    {
     "data": {
      "text/plain": [
       "(29380, 20)"
      ]
     },
     "execution_count": 41,
     "metadata": {},
     "output_type": "execute_result"
    }
   ],
   "source": [
    "un_seen_df_1.shape"
   ]
  },
  {
   "cell_type": "code",
   "execution_count": 46,
   "id": "9200596a-e0d4-40c6-9afd-9c7e377ba606",
   "metadata": {
    "execution": {
     "iopub.execute_input": "2024-05-28T10:57:47.063254Z",
     "iopub.status.busy": "2024-05-28T10:57:47.062997Z",
     "iopub.status.idle": "2024-05-28T10:57:47.082934Z",
     "shell.execute_reply": "2024-05-28T10:57:47.082427Z",
     "shell.execute_reply.started": "2024-05-28T10:57:47.063236Z"
    }
   },
   "outputs": [
    {
     "name": "stderr",
     "output_type": "stream",
     "text": [
      "/tmp/ipykernel_14105/1896438176.py:2: SettingWithCopyWarning:\n",
      "\n",
      "\n",
      "A value is trying to be set on a copy of a slice from a DataFrame.\n",
      "Try using .loc[row_indexer,col_indexer] = value instead\n",
      "\n",
      "See the caveats in the documentation: https://pandas.pydata.org/pandas-docs/stable/user_guide/indexing.html#returning-a-view-versus-a-copy\n",
      "\n",
      "/tmp/ipykernel_14105/1896438176.py:4: SettingWithCopyWarning:\n",
      "\n",
      "\n",
      "A value is trying to be set on a copy of a slice from a DataFrame.\n",
      "Try using .loc[row_indexer,col_indexer] = value instead\n",
      "\n",
      "See the caveats in the documentation: https://pandas.pydata.org/pandas-docs/stable/user_guide/indexing.html#returning-a-view-versus-a-copy\n",
      "\n"
     ]
    }
   ],
   "source": [
    "# Fit the LabelEncoder to the column and transform the values\n",
    "un_seen_df_1['connected_final_place'] = label_encoder.fit_transform(un_seen_df_1['connected_final_place'])\n",
    "# Fit the LabelEncoder to the column and transform the values\n",
    "un_seen_df_1['connected_areatype'] = label_encoder.fit_transform(un_seen_df_1['connected_areatype'])"
   ]
  },
  {
   "cell_type": "code",
   "execution_count": 47,
   "id": "efc120ca-281c-494d-90df-75587d92d443",
   "metadata": {
    "execution": {
     "iopub.execute_input": "2024-05-28T10:57:48.147814Z",
     "iopub.status.busy": "2024-05-28T10:57:48.147601Z",
     "iopub.status.idle": "2024-05-28T10:57:48.151554Z",
     "shell.execute_reply": "2024-05-28T10:57:48.151027Z",
     "shell.execute_reply.started": "2024-05-28T10:57:48.147799Z"
    }
   },
   "outputs": [
    {
     "data": {
      "text/plain": [
       "Index(['connected_highway_id', 'connected_region', 'connected_roadwaytype_id',\n",
       "       'connected_connected_count', 'connected_lanes_cat', 'connected_spd_cat',\n",
       "       'connected_cap_cat', 'connected_final_place', 'connected_areatype',\n",
       "       'arr_highway_id_encoded', 'arr_region_encoded',\n",
       "       'arr_roadwaytype_id_encoded', 'arr_next_pcc_encoded',\n",
       "       'arr_cur_lanes_cat_encoded', 'arr_cur_spd_cat_encoded',\n",
       "       'arr_cur_cap_cat_encoded', 'arr_cur_final_place_encoded',\n",
       "       'arr_cur_areatype_encoded', 'current_volume', 'connected_volume'],\n",
       "      dtype='object')"
      ]
     },
     "execution_count": 47,
     "metadata": {},
     "output_type": "execute_result"
    }
   ],
   "source": [
    "un_seen_df_1.columns"
   ]
  },
  {
   "cell_type": "code",
   "execution_count": 61,
   "id": "5a84f0f0-8dc0-4e63-a2ef-d6bec6ec3fe5",
   "metadata": {
    "execution": {
     "iopub.execute_input": "2024-05-28T11:12:47.753331Z",
     "iopub.status.busy": "2024-05-28T11:12:47.753125Z",
     "iopub.status.idle": "2024-05-28T11:12:47.776635Z",
     "shell.execute_reply": "2024-05-28T11:12:47.776185Z",
     "shell.execute_reply.started": "2024-05-28T11:12:47.753316Z"
    }
   },
   "outputs": [],
   "source": [
    "# filtered_df = data[data['arr_next_pcc'].apply(lambda x: any(i > 1 for i in x))]\n",
    "\n",
    "extract_df = filtered_df[((filtered_df['connected_connected_count'] > 1)|\\\n",
    "                         (filtered_df['extract'] > 1))&\\\n",
    "                            (filtered_df['connected_volume'] < 0) & \\\n",
    "                            (filtered_df['current_volume'] > 0)]\n",
    "\n",
    "\n",
    "index_lst =  extract_df.index"
   ]
  },
  {
   "cell_type": "code",
   "execution_count": 62,
   "id": "d1cad65f-a98f-49dd-8747-46e2f9e1e8d4",
   "metadata": {
    "execution": {
     "iopub.execute_input": "2024-05-28T11:12:50.553699Z",
     "iopub.status.busy": "2024-05-28T11:12:50.553461Z",
     "iopub.status.idle": "2024-05-28T11:12:50.558918Z",
     "shell.execute_reply": "2024-05-28T11:12:50.558552Z",
     "shell.execute_reply.started": "2024-05-28T11:12:50.553685Z"
    }
   },
   "outputs": [
    {
     "data": {
      "text/plain": [
       "(28599, 20)"
      ]
     },
     "execution_count": 62,
     "metadata": {},
     "output_type": "execute_result"
    }
   ],
   "source": [
    "unseen_df = un_seen_df_1[un_seen_df_1.index.isin(index_lst)]\n",
    "unseen_df.shape"
   ]
  },
  {
   "cell_type": "code",
   "execution_count": 55,
   "id": "9746e444-e072-4dc7-9a9b-02161ed98dfd",
   "metadata": {
    "execution": {
     "iopub.execute_input": "2024-05-27T12:16:22.828087Z",
     "iopub.status.busy": "2024-05-27T12:16:22.827666Z",
     "iopub.status.idle": "2024-05-27T12:16:22.830303Z",
     "shell.execute_reply": "2024-05-27T12:16:22.829802Z",
     "shell.execute_reply.started": "2024-05-27T12:16:22.828072Z"
    }
   },
   "outputs": [],
   "source": [
    "# unseen_df.to_csv('unseen_df.csv')"
   ]
  },
  {
   "cell_type": "code",
   "execution_count": 63,
   "id": "2872a9e5-4e7f-4cb9-bc11-6135e4473fcd",
   "metadata": {
    "execution": {
     "iopub.execute_input": "2024-05-28T11:13:12.873474Z",
     "iopub.status.busy": "2024-05-28T11:13:12.873271Z",
     "iopub.status.idle": "2024-05-28T11:13:12.878677Z",
     "shell.execute_reply": "2024-05-28T11:13:12.878205Z",
     "shell.execute_reply.started": "2024-05-28T11:13:12.873460Z"
    }
   },
   "outputs": [
    {
     "data": {
      "text/html": [
       "<style>#sk-container-id-1 {\n",
       "  /* Definition of color scheme common for light and dark mode */\n",
       "  --sklearn-color-text: black;\n",
       "  --sklearn-color-line: gray;\n",
       "  /* Definition of color scheme for unfitted estimators */\n",
       "  --sklearn-color-unfitted-level-0: #fff5e6;\n",
       "  --sklearn-color-unfitted-level-1: #f6e4d2;\n",
       "  --sklearn-color-unfitted-level-2: #ffe0b3;\n",
       "  --sklearn-color-unfitted-level-3: chocolate;\n",
       "  /* Definition of color scheme for fitted estimators */\n",
       "  --sklearn-color-fitted-level-0: #f0f8ff;\n",
       "  --sklearn-color-fitted-level-1: #d4ebff;\n",
       "  --sklearn-color-fitted-level-2: #b3dbfd;\n",
       "  --sklearn-color-fitted-level-3: cornflowerblue;\n",
       "\n",
       "  /* Specific color for light theme */\n",
       "  --sklearn-color-text-on-default-background: var(--sg-text-color, var(--theme-code-foreground, var(--jp-content-font-color1, black)));\n",
       "  --sklearn-color-background: var(--sg-background-color, var(--theme-background, var(--jp-layout-color0, white)));\n",
       "  --sklearn-color-border-box: var(--sg-text-color, var(--theme-code-foreground, var(--jp-content-font-color1, black)));\n",
       "  --sklearn-color-icon: #696969;\n",
       "\n",
       "  @media (prefers-color-scheme: dark) {\n",
       "    /* Redefinition of color scheme for dark theme */\n",
       "    --sklearn-color-text-on-default-background: var(--sg-text-color, var(--theme-code-foreground, var(--jp-content-font-color1, white)));\n",
       "    --sklearn-color-background: var(--sg-background-color, var(--theme-background, var(--jp-layout-color0, #111)));\n",
       "    --sklearn-color-border-box: var(--sg-text-color, var(--theme-code-foreground, var(--jp-content-font-color1, white)));\n",
       "    --sklearn-color-icon: #878787;\n",
       "  }\n",
       "}\n",
       "\n",
       "#sk-container-id-1 {\n",
       "  color: var(--sklearn-color-text);\n",
       "}\n",
       "\n",
       "#sk-container-id-1 pre {\n",
       "  padding: 0;\n",
       "}\n",
       "\n",
       "#sk-container-id-1 input.sk-hidden--visually {\n",
       "  border: 0;\n",
       "  clip: rect(1px 1px 1px 1px);\n",
       "  clip: rect(1px, 1px, 1px, 1px);\n",
       "  height: 1px;\n",
       "  margin: -1px;\n",
       "  overflow: hidden;\n",
       "  padding: 0;\n",
       "  position: absolute;\n",
       "  width: 1px;\n",
       "}\n",
       "\n",
       "#sk-container-id-1 div.sk-dashed-wrapped {\n",
       "  border: 1px dashed var(--sklearn-color-line);\n",
       "  margin: 0 0.4em 0.5em 0.4em;\n",
       "  box-sizing: border-box;\n",
       "  padding-bottom: 0.4em;\n",
       "  background-color: var(--sklearn-color-background);\n",
       "}\n",
       "\n",
       "#sk-container-id-1 div.sk-container {\n",
       "  /* jupyter's `normalize.less` sets `[hidden] { display: none; }`\n",
       "     but bootstrap.min.css set `[hidden] { display: none !important; }`\n",
       "     so we also need the `!important` here to be able to override the\n",
       "     default hidden behavior on the sphinx rendered scikit-learn.org.\n",
       "     See: https://github.com/scikit-learn/scikit-learn/issues/21755 */\n",
       "  display: inline-block !important;\n",
       "  position: relative;\n",
       "}\n",
       "\n",
       "#sk-container-id-1 div.sk-text-repr-fallback {\n",
       "  display: none;\n",
       "}\n",
       "\n",
       "div.sk-parallel-item,\n",
       "div.sk-serial,\n",
       "div.sk-item {\n",
       "  /* draw centered vertical line to link estimators */\n",
       "  background-image: linear-gradient(var(--sklearn-color-text-on-default-background), var(--sklearn-color-text-on-default-background));\n",
       "  background-size: 2px 100%;\n",
       "  background-repeat: no-repeat;\n",
       "  background-position: center center;\n",
       "}\n",
       "\n",
       "/* Parallel-specific style estimator block */\n",
       "\n",
       "#sk-container-id-1 div.sk-parallel-item::after {\n",
       "  content: \"\";\n",
       "  width: 100%;\n",
       "  border-bottom: 2px solid var(--sklearn-color-text-on-default-background);\n",
       "  flex-grow: 1;\n",
       "}\n",
       "\n",
       "#sk-container-id-1 div.sk-parallel {\n",
       "  display: flex;\n",
       "  align-items: stretch;\n",
       "  justify-content: center;\n",
       "  background-color: var(--sklearn-color-background);\n",
       "  position: relative;\n",
       "}\n",
       "\n",
       "#sk-container-id-1 div.sk-parallel-item {\n",
       "  display: flex;\n",
       "  flex-direction: column;\n",
       "}\n",
       "\n",
       "#sk-container-id-1 div.sk-parallel-item:first-child::after {\n",
       "  align-self: flex-end;\n",
       "  width: 50%;\n",
       "}\n",
       "\n",
       "#sk-container-id-1 div.sk-parallel-item:last-child::after {\n",
       "  align-self: flex-start;\n",
       "  width: 50%;\n",
       "}\n",
       "\n",
       "#sk-container-id-1 div.sk-parallel-item:only-child::after {\n",
       "  width: 0;\n",
       "}\n",
       "\n",
       "/* Serial-specific style estimator block */\n",
       "\n",
       "#sk-container-id-1 div.sk-serial {\n",
       "  display: flex;\n",
       "  flex-direction: column;\n",
       "  align-items: center;\n",
       "  background-color: var(--sklearn-color-background);\n",
       "  padding-right: 1em;\n",
       "  padding-left: 1em;\n",
       "}\n",
       "\n",
       "\n",
       "/* Toggleable style: style used for estimator/Pipeline/ColumnTransformer box that is\n",
       "clickable and can be expanded/collapsed.\n",
       "- Pipeline and ColumnTransformer use this feature and define the default style\n",
       "- Estimators will overwrite some part of the style using the `sk-estimator` class\n",
       "*/\n",
       "\n",
       "/* Pipeline and ColumnTransformer style (default) */\n",
       "\n",
       "#sk-container-id-1 div.sk-toggleable {\n",
       "  /* Default theme specific background. It is overwritten whether we have a\n",
       "  specific estimator or a Pipeline/ColumnTransformer */\n",
       "  background-color: var(--sklearn-color-background);\n",
       "}\n",
       "\n",
       "/* Toggleable label */\n",
       "#sk-container-id-1 label.sk-toggleable__label {\n",
       "  cursor: pointer;\n",
       "  display: block;\n",
       "  width: 100%;\n",
       "  margin-bottom: 0;\n",
       "  padding: 0.5em;\n",
       "  box-sizing: border-box;\n",
       "  text-align: center;\n",
       "}\n",
       "\n",
       "#sk-container-id-1 label.sk-toggleable__label-arrow:before {\n",
       "  /* Arrow on the left of the label */\n",
       "  content: \"▸\";\n",
       "  float: left;\n",
       "  margin-right: 0.25em;\n",
       "  color: var(--sklearn-color-icon);\n",
       "}\n",
       "\n",
       "#sk-container-id-1 label.sk-toggleable__label-arrow:hover:before {\n",
       "  color: var(--sklearn-color-text);\n",
       "}\n",
       "\n",
       "/* Toggleable content - dropdown */\n",
       "\n",
       "#sk-container-id-1 div.sk-toggleable__content {\n",
       "  max-height: 0;\n",
       "  max-width: 0;\n",
       "  overflow: hidden;\n",
       "  text-align: left;\n",
       "  /* unfitted */\n",
       "  background-color: var(--sklearn-color-unfitted-level-0);\n",
       "}\n",
       "\n",
       "#sk-container-id-1 div.sk-toggleable__content.fitted {\n",
       "  /* fitted */\n",
       "  background-color: var(--sklearn-color-fitted-level-0);\n",
       "}\n",
       "\n",
       "#sk-container-id-1 div.sk-toggleable__content pre {\n",
       "  margin: 0.2em;\n",
       "  border-radius: 0.25em;\n",
       "  color: var(--sklearn-color-text);\n",
       "  /* unfitted */\n",
       "  background-color: var(--sklearn-color-unfitted-level-0);\n",
       "}\n",
       "\n",
       "#sk-container-id-1 div.sk-toggleable__content.fitted pre {\n",
       "  /* unfitted */\n",
       "  background-color: var(--sklearn-color-fitted-level-0);\n",
       "}\n",
       "\n",
       "#sk-container-id-1 input.sk-toggleable__control:checked~div.sk-toggleable__content {\n",
       "  /* Expand drop-down */\n",
       "  max-height: 200px;\n",
       "  max-width: 100%;\n",
       "  overflow: auto;\n",
       "}\n",
       "\n",
       "#sk-container-id-1 input.sk-toggleable__control:checked~label.sk-toggleable__label-arrow:before {\n",
       "  content: \"▾\";\n",
       "}\n",
       "\n",
       "/* Pipeline/ColumnTransformer-specific style */\n",
       "\n",
       "#sk-container-id-1 div.sk-label input.sk-toggleable__control:checked~label.sk-toggleable__label {\n",
       "  color: var(--sklearn-color-text);\n",
       "  background-color: var(--sklearn-color-unfitted-level-2);\n",
       "}\n",
       "\n",
       "#sk-container-id-1 div.sk-label.fitted input.sk-toggleable__control:checked~label.sk-toggleable__label {\n",
       "  background-color: var(--sklearn-color-fitted-level-2);\n",
       "}\n",
       "\n",
       "/* Estimator-specific style */\n",
       "\n",
       "/* Colorize estimator box */\n",
       "#sk-container-id-1 div.sk-estimator input.sk-toggleable__control:checked~label.sk-toggleable__label {\n",
       "  /* unfitted */\n",
       "  background-color: var(--sklearn-color-unfitted-level-2);\n",
       "}\n",
       "\n",
       "#sk-container-id-1 div.sk-estimator.fitted input.sk-toggleable__control:checked~label.sk-toggleable__label {\n",
       "  /* fitted */\n",
       "  background-color: var(--sklearn-color-fitted-level-2);\n",
       "}\n",
       "\n",
       "#sk-container-id-1 div.sk-label label.sk-toggleable__label,\n",
       "#sk-container-id-1 div.sk-label label {\n",
       "  /* The background is the default theme color */\n",
       "  color: var(--sklearn-color-text-on-default-background);\n",
       "}\n",
       "\n",
       "/* On hover, darken the color of the background */\n",
       "#sk-container-id-1 div.sk-label:hover label.sk-toggleable__label {\n",
       "  color: var(--sklearn-color-text);\n",
       "  background-color: var(--sklearn-color-unfitted-level-2);\n",
       "}\n",
       "\n",
       "/* Label box, darken color on hover, fitted */\n",
       "#sk-container-id-1 div.sk-label.fitted:hover label.sk-toggleable__label.fitted {\n",
       "  color: var(--sklearn-color-text);\n",
       "  background-color: var(--sklearn-color-fitted-level-2);\n",
       "}\n",
       "\n",
       "/* Estimator label */\n",
       "\n",
       "#sk-container-id-1 div.sk-label label {\n",
       "  font-family: monospace;\n",
       "  font-weight: bold;\n",
       "  display: inline-block;\n",
       "  line-height: 1.2em;\n",
       "}\n",
       "\n",
       "#sk-container-id-1 div.sk-label-container {\n",
       "  text-align: center;\n",
       "}\n",
       "\n",
       "/* Estimator-specific */\n",
       "#sk-container-id-1 div.sk-estimator {\n",
       "  font-family: monospace;\n",
       "  border: 1px dotted var(--sklearn-color-border-box);\n",
       "  border-radius: 0.25em;\n",
       "  box-sizing: border-box;\n",
       "  margin-bottom: 0.5em;\n",
       "  /* unfitted */\n",
       "  background-color: var(--sklearn-color-unfitted-level-0);\n",
       "}\n",
       "\n",
       "#sk-container-id-1 div.sk-estimator.fitted {\n",
       "  /* fitted */\n",
       "  background-color: var(--sklearn-color-fitted-level-0);\n",
       "}\n",
       "\n",
       "/* on hover */\n",
       "#sk-container-id-1 div.sk-estimator:hover {\n",
       "  /* unfitted */\n",
       "  background-color: var(--sklearn-color-unfitted-level-2);\n",
       "}\n",
       "\n",
       "#sk-container-id-1 div.sk-estimator.fitted:hover {\n",
       "  /* fitted */\n",
       "  background-color: var(--sklearn-color-fitted-level-2);\n",
       "}\n",
       "\n",
       "/* Specification for estimator info (e.g. \"i\" and \"?\") */\n",
       "\n",
       "/* Common style for \"i\" and \"?\" */\n",
       "\n",
       ".sk-estimator-doc-link,\n",
       "a:link.sk-estimator-doc-link,\n",
       "a:visited.sk-estimator-doc-link {\n",
       "  float: right;\n",
       "  font-size: smaller;\n",
       "  line-height: 1em;\n",
       "  font-family: monospace;\n",
       "  background-color: var(--sklearn-color-background);\n",
       "  border-radius: 1em;\n",
       "  height: 1em;\n",
       "  width: 1em;\n",
       "  text-decoration: none !important;\n",
       "  margin-left: 1ex;\n",
       "  /* unfitted */\n",
       "  border: var(--sklearn-color-unfitted-level-1) 1pt solid;\n",
       "  color: var(--sklearn-color-unfitted-level-1);\n",
       "}\n",
       "\n",
       ".sk-estimator-doc-link.fitted,\n",
       "a:link.sk-estimator-doc-link.fitted,\n",
       "a:visited.sk-estimator-doc-link.fitted {\n",
       "  /* fitted */\n",
       "  border: var(--sklearn-color-fitted-level-1) 1pt solid;\n",
       "  color: var(--sklearn-color-fitted-level-1);\n",
       "}\n",
       "\n",
       "/* On hover */\n",
       "div.sk-estimator:hover .sk-estimator-doc-link:hover,\n",
       ".sk-estimator-doc-link:hover,\n",
       "div.sk-label-container:hover .sk-estimator-doc-link:hover,\n",
       ".sk-estimator-doc-link:hover {\n",
       "  /* unfitted */\n",
       "  background-color: var(--sklearn-color-unfitted-level-3);\n",
       "  color: var(--sklearn-color-background);\n",
       "  text-decoration: none;\n",
       "}\n",
       "\n",
       "div.sk-estimator.fitted:hover .sk-estimator-doc-link.fitted:hover,\n",
       ".sk-estimator-doc-link.fitted:hover,\n",
       "div.sk-label-container:hover .sk-estimator-doc-link.fitted:hover,\n",
       ".sk-estimator-doc-link.fitted:hover {\n",
       "  /* fitted */\n",
       "  background-color: var(--sklearn-color-fitted-level-3);\n",
       "  color: var(--sklearn-color-background);\n",
       "  text-decoration: none;\n",
       "}\n",
       "\n",
       "/* Span, style for the box shown on hovering the info icon */\n",
       ".sk-estimator-doc-link span {\n",
       "  display: none;\n",
       "  z-index: 9999;\n",
       "  position: relative;\n",
       "  font-weight: normal;\n",
       "  right: .2ex;\n",
       "  padding: .5ex;\n",
       "  margin: .5ex;\n",
       "  width: min-content;\n",
       "  min-width: 20ex;\n",
       "  max-width: 50ex;\n",
       "  color: var(--sklearn-color-text);\n",
       "  box-shadow: 2pt 2pt 4pt #999;\n",
       "  /* unfitted */\n",
       "  background: var(--sklearn-color-unfitted-level-0);\n",
       "  border: .5pt solid var(--sklearn-color-unfitted-level-3);\n",
       "}\n",
       "\n",
       ".sk-estimator-doc-link.fitted span {\n",
       "  /* fitted */\n",
       "  background: var(--sklearn-color-fitted-level-0);\n",
       "  border: var(--sklearn-color-fitted-level-3);\n",
       "}\n",
       "\n",
       ".sk-estimator-doc-link:hover span {\n",
       "  display: block;\n",
       "}\n",
       "\n",
       "/* \"?\"-specific style due to the `<a>` HTML tag */\n",
       "\n",
       "#sk-container-id-1 a.estimator_doc_link {\n",
       "  float: right;\n",
       "  font-size: 1rem;\n",
       "  line-height: 1em;\n",
       "  font-family: monospace;\n",
       "  background-color: var(--sklearn-color-background);\n",
       "  border-radius: 1rem;\n",
       "  height: 1rem;\n",
       "  width: 1rem;\n",
       "  text-decoration: none;\n",
       "  /* unfitted */\n",
       "  color: var(--sklearn-color-unfitted-level-1);\n",
       "  border: var(--sklearn-color-unfitted-level-1) 1pt solid;\n",
       "}\n",
       "\n",
       "#sk-container-id-1 a.estimator_doc_link.fitted {\n",
       "  /* fitted */\n",
       "  border: var(--sklearn-color-fitted-level-1) 1pt solid;\n",
       "  color: var(--sklearn-color-fitted-level-1);\n",
       "}\n",
       "\n",
       "/* On hover */\n",
       "#sk-container-id-1 a.estimator_doc_link:hover {\n",
       "  /* unfitted */\n",
       "  background-color: var(--sklearn-color-unfitted-level-3);\n",
       "  color: var(--sklearn-color-background);\n",
       "  text-decoration: none;\n",
       "}\n",
       "\n",
       "#sk-container-id-1 a.estimator_doc_link.fitted:hover {\n",
       "  /* fitted */\n",
       "  background-color: var(--sklearn-color-fitted-level-3);\n",
       "}\n",
       "</style><div id=\"sk-container-id-1\" class=\"sk-top-container\"><div class=\"sk-text-repr-fallback\"><pre>RandomForestRegressor(bootstrap=False, criterion=&#x27;poisson&#x27;, max_depth=8,\n",
       "                      max_features=0.6, max_leaf_nodes=2000,\n",
       "                      min_samples_leaf=15, n_estimators=500, random_state=1234)</pre><b>In a Jupyter environment, please rerun this cell to show the HTML representation or trust the notebook. <br />On GitHub, the HTML representation is unable to render, please try loading this page with nbviewer.org.</b></div><div class=\"sk-container\" hidden><div class=\"sk-item\"><div class=\"sk-estimator fitted sk-toggleable\"><input class=\"sk-toggleable__control sk-hidden--visually\" id=\"sk-estimator-id-1\" type=\"checkbox\" checked><label for=\"sk-estimator-id-1\" class=\"sk-toggleable__label fitted sk-toggleable__label-arrow fitted\">&nbsp;&nbsp;RandomForestRegressor<a class=\"sk-estimator-doc-link fitted\" rel=\"noreferrer\" target=\"_blank\" href=\"https://scikit-learn.org/1.5/modules/generated/sklearn.ensemble.RandomForestRegressor.html\">?<span>Documentation for RandomForestRegressor</span></a><span class=\"sk-estimator-doc-link fitted\">i<span>Fitted</span></span></label><div class=\"sk-toggleable__content fitted\"><pre>RandomForestRegressor(bootstrap=False, criterion=&#x27;poisson&#x27;, max_depth=8,\n",
       "                      max_features=0.6, max_leaf_nodes=2000,\n",
       "                      min_samples_leaf=15, n_estimators=500, random_state=1234)</pre></div> </div></div></div></div>"
      ],
      "text/plain": [
       "RandomForestRegressor(bootstrap=False, criterion='poisson', max_depth=8,\n",
       "                      max_features=0.6, max_leaf_nodes=2000,\n",
       "                      min_samples_leaf=15, n_estimators=500, random_state=1234)"
      ]
     },
     "execution_count": 63,
     "metadata": {},
     "output_type": "execute_result"
    }
   ],
   "source": [
    "xg_reg"
   ]
  },
  {
   "cell_type": "code",
   "execution_count": 64,
   "id": "7f821e64-2ac2-4878-bab8-97b644a39d69",
   "metadata": {
    "execution": {
     "iopub.execute_input": "2024-05-28T11:13:14.718404Z",
     "iopub.status.busy": "2024-05-28T11:13:14.718031Z",
     "iopub.status.idle": "2024-05-28T11:13:15.369754Z",
     "shell.execute_reply": "2024-05-28T11:13:15.369246Z",
     "shell.execute_reply.started": "2024-05-28T11:13:14.718389Z"
    }
   },
   "outputs": [],
   "source": [
    "unseen_pred = xg_reg.predict(unseen_df[input_feature_lst])"
   ]
  },
  {
   "cell_type": "code",
   "execution_count": 65,
   "id": "e1dbe7a3-f5ea-44cb-bb11-d703cddd7b1a",
   "metadata": {
    "execution": {
     "iopub.execute_input": "2024-05-28T11:13:17.043521Z",
     "iopub.status.busy": "2024-05-28T11:13:17.043302Z",
     "iopub.status.idle": "2024-05-28T11:13:17.047602Z",
     "shell.execute_reply": "2024-05-28T11:13:17.047103Z",
     "shell.execute_reply.started": "2024-05-28T11:13:17.043506Z"
    }
   },
   "outputs": [
    {
     "name": "stderr",
     "output_type": "stream",
     "text": [
      "/tmp/ipykernel_14105/2600663216.py:1: SettingWithCopyWarning:\n",
      "\n",
      "\n",
      "A value is trying to be set on a copy of a slice from a DataFrame.\n",
      "Try using .loc[row_indexer,col_indexer] = value instead\n",
      "\n",
      "See the caveats in the documentation: https://pandas.pydata.org/pandas-docs/stable/user_guide/indexing.html#returning-a-view-versus-a-copy\n",
      "\n",
      "/tmp/ipykernel_14105/2600663216.py:2: SettingWithCopyWarning:\n",
      "\n",
      "\n",
      "A value is trying to be set on a copy of a slice from a DataFrame.\n",
      "Try using .loc[row_indexer,col_indexer] = value instead\n",
      "\n",
      "See the caveats in the documentation: https://pandas.pydata.org/pandas-docs/stable/user_guide/indexing.html#returning-a-view-versus-a-copy\n",
      "\n"
     ]
    }
   ],
   "source": [
    "unseen_df['predicted_connected_volume'] = unseen_pred\n",
    "unseen_df['predicted_connected_volume'] = unseen_df['predicted_connected_volume'].round().astype(int)"
   ]
  },
  {
   "cell_type": "code",
   "execution_count": 66,
   "id": "12047e22-9333-4929-a277-a6aa037e754a",
   "metadata": {
    "execution": {
     "iopub.execute_input": "2024-05-28T11:13:21.354888Z",
     "iopub.status.busy": "2024-05-28T11:13:21.354515Z",
     "iopub.status.idle": "2024-05-28T11:13:21.358091Z",
     "shell.execute_reply": "2024-05-28T11:13:21.357627Z",
     "shell.execute_reply.started": "2024-05-28T11:13:21.354873Z"
    }
   },
   "outputs": [
    {
     "data": {
      "text/plain": [
       "(28599, 21)"
      ]
     },
     "execution_count": 66,
     "metadata": {},
     "output_type": "execute_result"
    }
   ],
   "source": [
    "unseen_df.shape"
   ]
  },
  {
   "cell_type": "code",
   "execution_count": 67,
   "id": "04a45825-e485-4b25-adec-ae3c9bfd284c",
   "metadata": {
    "execution": {
     "iopub.execute_input": "2024-05-28T11:13:22.858324Z",
     "iopub.status.busy": "2024-05-28T11:13:22.858121Z",
     "iopub.status.idle": "2024-05-28T11:13:22.861884Z",
     "shell.execute_reply": "2024-05-28T11:13:22.861477Z",
     "shell.execute_reply.started": "2024-05-28T11:13:22.858308Z"
    }
   },
   "outputs": [
    {
     "data": {
      "text/plain": [
       "Index(['connected_highway_id', 'connected_region', 'connected_roadwaytype_id',\n",
       "       'connected_connected_count', 'connected_lanes_cat', 'connected_spd_cat',\n",
       "       'connected_cap_cat', 'connected_final_place', 'connected_areatype',\n",
       "       'arr_highway_id_encoded', 'arr_region_encoded',\n",
       "       'arr_roadwaytype_id_encoded', 'arr_next_pcc_encoded',\n",
       "       'arr_cur_lanes_cat_encoded', 'arr_cur_spd_cat_encoded',\n",
       "       'arr_cur_cap_cat_encoded', 'arr_cur_final_place_encoded',\n",
       "       'arr_cur_areatype_encoded', 'current_volume', 'connected_volume',\n",
       "       'predicted_connected_volume'],\n",
       "      dtype='object')"
      ]
     },
     "execution_count": 67,
     "metadata": {},
     "output_type": "execute_result"
    }
   ],
   "source": [
    "unseen_df.columns"
   ]
  },
  {
   "cell_type": "code",
   "execution_count": 68,
   "id": "60e42ec9-f83c-4a7b-b649-b84fb7b9aaeb",
   "metadata": {
    "execution": {
     "iopub.execute_input": "2024-05-28T11:13:24.698447Z",
     "iopub.status.busy": "2024-05-28T11:13:24.698216Z",
     "iopub.status.idle": "2024-05-28T11:13:24.726330Z",
     "shell.execute_reply": "2024-05-28T11:13:24.725839Z",
     "shell.execute_reply.started": "2024-05-28T11:13:24.698426Z"
    }
   },
   "outputs": [],
   "source": [
    "new_unseen_df_1 = data[data.index.isin(unseen_df.index)]"
   ]
  },
  {
   "cell_type": "code",
   "execution_count": 69,
   "id": "461a38a4-2176-4cc4-8ff4-725df850df20",
   "metadata": {
    "execution": {
     "iopub.execute_input": "2024-05-28T11:13:27.948362Z",
     "iopub.status.busy": "2024-05-28T11:13:27.948145Z",
     "iopub.status.idle": "2024-05-28T11:13:27.951626Z",
     "shell.execute_reply": "2024-05-28T11:13:27.951186Z",
     "shell.execute_reply.started": "2024-05-28T11:13:27.948348Z"
    }
   },
   "outputs": [
    {
     "data": {
      "text/plain": [
       "(28599, 31)"
      ]
     },
     "execution_count": 69,
     "metadata": {},
     "output_type": "execute_result"
    }
   ],
   "source": [
    "new_unseen_df_1.shape"
   ]
  },
  {
   "cell_type": "code",
   "execution_count": 70,
   "id": "c4723b08-8afe-454d-a5d4-8a7e3fb8497d",
   "metadata": {
    "execution": {
     "iopub.execute_input": "2024-05-28T11:13:28.723377Z",
     "iopub.status.busy": "2024-05-28T11:13:28.723039Z",
     "iopub.status.idle": "2024-05-28T11:13:28.726696Z",
     "shell.execute_reply": "2024-05-28T11:13:28.726298Z",
     "shell.execute_reply.started": "2024-05-28T11:13:28.723362Z"
    }
   },
   "outputs": [
    {
     "data": {
      "text/plain": [
       "Index(['conn_tag', 'connected_isg_osm_id', 'connected_highway_id',\n",
       "       'connected_region', 'connected_roadwaytype_id',\n",
       "       'connected_connected_count', 'connected_lanes', 'connected_lanes_cat',\n",
       "       'connected_maxspeed', 'connected_spd_cat', 'connected_final_place',\n",
       "       'connected_volume', 'connected_areatype', 'connected_capacity',\n",
       "       'connected_cap_cat', 'arr_isg_osm_id', 'arr_highway_id', 'arr_region',\n",
       "       'arr_roadwaytype_id', 'arr_next_pcc', 'arr_cur_lanes',\n",
       "       'arr_cur_lanes_cat', 'arr_cur_maxspeed', 'arr_cur_spd_cat',\n",
       "       'arr_cur_final_place', 'arr_volume', 'arr_cur_areatype',\n",
       "       'arr_cur_capacity', 'arr_cur_cap_cat', 'cur_vol_filter_arr',\n",
       "       'current_volume'],\n",
       "      dtype='object')"
      ]
     },
     "execution_count": 70,
     "metadata": {},
     "output_type": "execute_result"
    }
   ],
   "source": [
    "new_unseen_df_1.columns"
   ]
  },
  {
   "cell_type": "code",
   "execution_count": 71,
   "id": "3835032f-79b7-4162-a4ef-cfe7ac8bb2aa",
   "metadata": {
    "execution": {
     "iopub.execute_input": "2024-05-28T11:13:29.658319Z",
     "iopub.status.busy": "2024-05-28T11:13:29.658114Z",
     "iopub.status.idle": "2024-05-28T11:13:29.676828Z",
     "shell.execute_reply": "2024-05-28T11:13:29.676468Z",
     "shell.execute_reply.started": "2024-05-28T11:13:29.658305Z"
    }
   },
   "outputs": [
    {
     "data": {
      "text/html": [
       "<div>\n",
       "<style scoped>\n",
       "    .dataframe tbody tr th:only-of-type {\n",
       "        vertical-align: middle;\n",
       "    }\n",
       "\n",
       "    .dataframe tbody tr th {\n",
       "        vertical-align: top;\n",
       "    }\n",
       "\n",
       "    .dataframe thead th {\n",
       "        text-align: right;\n",
       "    }\n",
       "</style>\n",
       "<table border=\"1\" class=\"dataframe\">\n",
       "  <thead>\n",
       "    <tr style=\"text-align: right;\">\n",
       "      <th></th>\n",
       "      <th>conn_tag</th>\n",
       "      <th>connected_isg_osm_id</th>\n",
       "      <th>connected_highway_id</th>\n",
       "      <th>connected_region</th>\n",
       "      <th>connected_roadwaytype_id</th>\n",
       "      <th>connected_connected_count</th>\n",
       "      <th>connected_lanes</th>\n",
       "      <th>connected_lanes_cat</th>\n",
       "      <th>connected_maxspeed</th>\n",
       "      <th>connected_spd_cat</th>\n",
       "      <th>...</th>\n",
       "      <th>arr_cur_lanes_cat</th>\n",
       "      <th>arr_cur_maxspeed</th>\n",
       "      <th>arr_cur_spd_cat</th>\n",
       "      <th>arr_cur_final_place</th>\n",
       "      <th>arr_volume</th>\n",
       "      <th>arr_cur_areatype</th>\n",
       "      <th>arr_cur_capacity</th>\n",
       "      <th>arr_cur_cap_cat</th>\n",
       "      <th>cur_vol_filter_arr</th>\n",
       "      <th>current_volume</th>\n",
       "    </tr>\n",
       "  </thead>\n",
       "  <tbody>\n",
       "    <tr>\n",
       "      <th>33</th>\n",
       "      <td>next</td>\n",
       "      <td>5029221001</td>\n",
       "      <td>5</td>\n",
       "      <td>11</td>\n",
       "      <td>10</td>\n",
       "      <td>3</td>\n",
       "      <td>3</td>\n",
       "      <td>2</td>\n",
       "      <td>25</td>\n",
       "      <td>1</td>\n",
       "      <td>...</td>\n",
       "      <td>[2]</td>\n",
       "      <td>[25]</td>\n",
       "      <td>[1]</td>\n",
       "      <td>[city]</td>\n",
       "      <td>[1216]</td>\n",
       "      <td>[Urban]</td>\n",
       "      <td>[3800]</td>\n",
       "      <td>[2]</td>\n",
       "      <td>[1216]</td>\n",
       "      <td>1216.0</td>\n",
       "    </tr>\n",
       "    <tr>\n",
       "      <th>39</th>\n",
       "      <td>next</td>\n",
       "      <td>5563942001</td>\n",
       "      <td>2</td>\n",
       "      <td>1</td>\n",
       "      <td>18</td>\n",
       "      <td>2</td>\n",
       "      <td>1</td>\n",
       "      <td>1</td>\n",
       "      <td>25</td>\n",
       "      <td>1</td>\n",
       "      <td>...</td>\n",
       "      <td>[2]</td>\n",
       "      <td>[55]</td>\n",
       "      <td>[3]</td>\n",
       "      <td>[city]</td>\n",
       "      <td>[4577]</td>\n",
       "      <td>[Urban]</td>\n",
       "      <td>[6148]</td>\n",
       "      <td>[3]</td>\n",
       "      <td>[4577]</td>\n",
       "      <td>4577.0</td>\n",
       "    </tr>\n",
       "    <tr>\n",
       "      <th>42</th>\n",
       "      <td>next</td>\n",
       "      <td>5563954002</td>\n",
       "      <td>2</td>\n",
       "      <td>1</td>\n",
       "      <td>16</td>\n",
       "      <td>1</td>\n",
       "      <td>1</td>\n",
       "      <td>1</td>\n",
       "      <td>25</td>\n",
       "      <td>1</td>\n",
       "      <td>...</td>\n",
       "      <td>[1, 1]</td>\n",
       "      <td>[20, 25]</td>\n",
       "      <td>[1, 1]</td>\n",
       "      <td>[city, city]</td>\n",
       "      <td>[-1, 847]</td>\n",
       "      <td>[Urban, Urban]</td>\n",
       "      <td>[1800, 1800]</td>\n",
       "      <td>[1, 1]</td>\n",
       "      <td>[847]</td>\n",
       "      <td>847.0</td>\n",
       "    </tr>\n",
       "    <tr>\n",
       "      <th>43</th>\n",
       "      <td>next</td>\n",
       "      <td>5563966001</td>\n",
       "      <td>6</td>\n",
       "      <td>1</td>\n",
       "      <td>16</td>\n",
       "      <td>2</td>\n",
       "      <td>1</td>\n",
       "      <td>1</td>\n",
       "      <td>40</td>\n",
       "      <td>2</td>\n",
       "      <td>...</td>\n",
       "      <td>[2, 2]</td>\n",
       "      <td>[40, 40]</td>\n",
       "      <td>[2, 2]</td>\n",
       "      <td>[town, town]</td>\n",
       "      <td>[-1, 1060]</td>\n",
       "      <td>[Urban, Urban]</td>\n",
       "      <td>[1900, 1900]</td>\n",
       "      <td>[1, 1]</td>\n",
       "      <td>[1060]</td>\n",
       "      <td>1060.0</td>\n",
       "    </tr>\n",
       "    <tr>\n",
       "      <th>50</th>\n",
       "      <td>next</td>\n",
       "      <td>5564067001</td>\n",
       "      <td>6</td>\n",
       "      <td>1</td>\n",
       "      <td>16</td>\n",
       "      <td>2</td>\n",
       "      <td>1</td>\n",
       "      <td>1</td>\n",
       "      <td>55</td>\n",
       "      <td>3</td>\n",
       "      <td>...</td>\n",
       "      <td>[1]</td>\n",
       "      <td>[55]</td>\n",
       "      <td>[3]</td>\n",
       "      <td>[town]</td>\n",
       "      <td>[480]</td>\n",
       "      <td>[Urban]</td>\n",
       "      <td>[950]</td>\n",
       "      <td>[0]</td>\n",
       "      <td>[480]</td>\n",
       "      <td>480.0</td>\n",
       "    </tr>\n",
       "  </tbody>\n",
       "</table>\n",
       "<p>5 rows × 31 columns</p>\n",
       "</div>"
      ],
      "text/plain": [
       "   conn_tag  connected_isg_osm_id  connected_highway_id  connected_region  \\\n",
       "33     next            5029221001                     5                11   \n",
       "39     next            5563942001                     2                 1   \n",
       "42     next            5563954002                     2                 1   \n",
       "43     next            5563966001                     6                 1   \n",
       "50     next            5564067001                     6                 1   \n",
       "\n",
       "    connected_roadwaytype_id  connected_connected_count  connected_lanes  \\\n",
       "33                        10                          3                3   \n",
       "39                        18                          2                1   \n",
       "42                        16                          1                1   \n",
       "43                        16                          2                1   \n",
       "50                        16                          2                1   \n",
       "\n",
       "    connected_lanes_cat  connected_maxspeed  connected_spd_cat  ...  \\\n",
       "33                    2                  25                  1  ...   \n",
       "39                    1                  25                  1  ...   \n",
       "42                    1                  25                  1  ...   \n",
       "43                    1                  40                  2  ...   \n",
       "50                    1                  55                  3  ...   \n",
       "\n",
       "   arr_cur_lanes_cat  arr_cur_maxspeed arr_cur_spd_cat  arr_cur_final_place  \\\n",
       "33               [2]              [25]             [1]               [city]   \n",
       "39               [2]              [55]             [3]               [city]   \n",
       "42            [1, 1]          [20, 25]          [1, 1]         [city, city]   \n",
       "43            [2, 2]          [40, 40]          [2, 2]         [town, town]   \n",
       "50               [1]              [55]             [3]               [town]   \n",
       "\n",
       "    arr_volume arr_cur_areatype arr_cur_capacity arr_cur_cap_cat  \\\n",
       "33      [1216]          [Urban]           [3800]             [2]   \n",
       "39      [4577]          [Urban]           [6148]             [3]   \n",
       "42   [-1, 847]   [Urban, Urban]     [1800, 1800]          [1, 1]   \n",
       "43  [-1, 1060]   [Urban, Urban]     [1900, 1900]          [1, 1]   \n",
       "50       [480]          [Urban]            [950]             [0]   \n",
       "\n",
       "   cur_vol_filter_arr current_volume  \n",
       "33             [1216]         1216.0  \n",
       "39             [4577]         4577.0  \n",
       "42              [847]          847.0  \n",
       "43             [1060]         1060.0  \n",
       "50              [480]          480.0  \n",
       "\n",
       "[5 rows x 31 columns]"
      ]
     },
     "execution_count": 71,
     "metadata": {},
     "output_type": "execute_result"
    }
   ],
   "source": [
    "new_unseen_df_1.head()"
   ]
  },
  {
   "cell_type": "code",
   "execution_count": null,
   "id": "0dc949e6-a742-42f8-a597-d38577e22938",
   "metadata": {},
   "outputs": [],
   "source": []
  },
  {
   "cell_type": "code",
   "execution_count": 72,
   "id": "f9a858ff-c5f2-4e1f-bd64-7004d3453aed",
   "metadata": {
    "execution": {
     "iopub.execute_input": "2024-05-28T11:13:31.496231Z",
     "iopub.status.busy": "2024-05-28T11:13:31.495911Z",
     "iopub.status.idle": "2024-05-28T11:13:31.506425Z",
     "shell.execute_reply": "2024-05-28T11:13:31.505992Z",
     "shell.execute_reply.started": "2024-05-28T11:13:31.496216Z"
    }
   },
   "outputs": [
    {
     "data": {
      "text/html": [
       "<div>\n",
       "<style scoped>\n",
       "    .dataframe tbody tr th:only-of-type {\n",
       "        vertical-align: middle;\n",
       "    }\n",
       "\n",
       "    .dataframe tbody tr th {\n",
       "        vertical-align: top;\n",
       "    }\n",
       "\n",
       "    .dataframe thead th {\n",
       "        text-align: right;\n",
       "    }\n",
       "</style>\n",
       "<table border=\"1\" class=\"dataframe\">\n",
       "  <thead>\n",
       "    <tr style=\"text-align: right;\">\n",
       "      <th></th>\n",
       "      <th>connected_highway_id</th>\n",
       "      <th>connected_region</th>\n",
       "      <th>connected_roadwaytype_id</th>\n",
       "      <th>connected_connected_count</th>\n",
       "      <th>connected_lanes_cat</th>\n",
       "      <th>connected_spd_cat</th>\n",
       "      <th>connected_cap_cat</th>\n",
       "      <th>connected_final_place</th>\n",
       "      <th>connected_areatype</th>\n",
       "      <th>arr_highway_id_encoded</th>\n",
       "      <th>...</th>\n",
       "      <th>arr_roadwaytype_id_encoded</th>\n",
       "      <th>arr_next_pcc_encoded</th>\n",
       "      <th>arr_cur_lanes_cat_encoded</th>\n",
       "      <th>arr_cur_spd_cat_encoded</th>\n",
       "      <th>arr_cur_cap_cat_encoded</th>\n",
       "      <th>arr_cur_final_place_encoded</th>\n",
       "      <th>arr_cur_areatype_encoded</th>\n",
       "      <th>current_volume</th>\n",
       "      <th>connected_volume</th>\n",
       "      <th>predicted_connected_volume</th>\n",
       "    </tr>\n",
       "  </thead>\n",
       "  <tbody>\n",
       "    <tr>\n",
       "      <th>33</th>\n",
       "      <td>5</td>\n",
       "      <td>11</td>\n",
       "      <td>10</td>\n",
       "      <td>3</td>\n",
       "      <td>2</td>\n",
       "      <td>1</td>\n",
       "      <td>2</td>\n",
       "      <td>0</td>\n",
       "      <td>1</td>\n",
       "      <td>3</td>\n",
       "      <td>...</td>\n",
       "      <td>0</td>\n",
       "      <td>2</td>\n",
       "      <td>0</td>\n",
       "      <td>4</td>\n",
       "      <td>1</td>\n",
       "      <td>2</td>\n",
       "      <td>0</td>\n",
       "      <td>1216.0</td>\n",
       "      <td>-1</td>\n",
       "      <td>1107</td>\n",
       "    </tr>\n",
       "    <tr>\n",
       "      <th>39</th>\n",
       "      <td>2</td>\n",
       "      <td>1</td>\n",
       "      <td>18</td>\n",
       "      <td>2</td>\n",
       "      <td>1</td>\n",
       "      <td>1</td>\n",
       "      <td>1</td>\n",
       "      <td>0</td>\n",
       "      <td>1</td>\n",
       "      <td>0</td>\n",
       "      <td>...</td>\n",
       "      <td>3</td>\n",
       "      <td>0</td>\n",
       "      <td>0</td>\n",
       "      <td>0</td>\n",
       "      <td>0</td>\n",
       "      <td>2</td>\n",
       "      <td>0</td>\n",
       "      <td>4577.0</td>\n",
       "      <td>-1</td>\n",
       "      <td>718</td>\n",
       "    </tr>\n",
       "    <tr>\n",
       "      <th>42</th>\n",
       "      <td>2</td>\n",
       "      <td>1</td>\n",
       "      <td>16</td>\n",
       "      <td>1</td>\n",
       "      <td>1</td>\n",
       "      <td>1</td>\n",
       "      <td>1</td>\n",
       "      <td>0</td>\n",
       "      <td>1</td>\n",
       "      <td>2</td>\n",
       "      <td>...</td>\n",
       "      <td>2</td>\n",
       "      <td>1</td>\n",
       "      <td>2</td>\n",
       "      <td>4</td>\n",
       "      <td>4</td>\n",
       "      <td>2</td>\n",
       "      <td>0</td>\n",
       "      <td>847.0</td>\n",
       "      <td>-1</td>\n",
       "      <td>865</td>\n",
       "    </tr>\n",
       "    <tr>\n",
       "      <th>43</th>\n",
       "      <td>6</td>\n",
       "      <td>1</td>\n",
       "      <td>16</td>\n",
       "      <td>2</td>\n",
       "      <td>1</td>\n",
       "      <td>2</td>\n",
       "      <td>0</td>\n",
       "      <td>4</td>\n",
       "      <td>1</td>\n",
       "      <td>3</td>\n",
       "      <td>...</td>\n",
       "      <td>6</td>\n",
       "      <td>1</td>\n",
       "      <td>0</td>\n",
       "      <td>5</td>\n",
       "      <td>4</td>\n",
       "      <td>0</td>\n",
       "      <td>0</td>\n",
       "      <td>1060.0</td>\n",
       "      <td>-1</td>\n",
       "      <td>429</td>\n",
       "    </tr>\n",
       "    <tr>\n",
       "      <th>50</th>\n",
       "      <td>6</td>\n",
       "      <td>1</td>\n",
       "      <td>16</td>\n",
       "      <td>2</td>\n",
       "      <td>1</td>\n",
       "      <td>3</td>\n",
       "      <td>0</td>\n",
       "      <td>4</td>\n",
       "      <td>1</td>\n",
       "      <td>3</td>\n",
       "      <td>...</td>\n",
       "      <td>6</td>\n",
       "      <td>0</td>\n",
       "      <td>2</td>\n",
       "      <td>0</td>\n",
       "      <td>3</td>\n",
       "      <td>0</td>\n",
       "      <td>0</td>\n",
       "      <td>480.0</td>\n",
       "      <td>-1</td>\n",
       "      <td>244</td>\n",
       "    </tr>\n",
       "  </tbody>\n",
       "</table>\n",
       "<p>5 rows × 21 columns</p>\n",
       "</div>"
      ],
      "text/plain": [
       "    connected_highway_id  connected_region  connected_roadwaytype_id  \\\n",
       "33                     5                11                        10   \n",
       "39                     2                 1                        18   \n",
       "42                     2                 1                        16   \n",
       "43                     6                 1                        16   \n",
       "50                     6                 1                        16   \n",
       "\n",
       "    connected_connected_count  connected_lanes_cat  connected_spd_cat  \\\n",
       "33                          3                    2                  1   \n",
       "39                          2                    1                  1   \n",
       "42                          1                    1                  1   \n",
       "43                          2                    1                  2   \n",
       "50                          2                    1                  3   \n",
       "\n",
       "    connected_cap_cat  connected_final_place  connected_areatype  \\\n",
       "33                  2                      0                   1   \n",
       "39                  1                      0                   1   \n",
       "42                  1                      0                   1   \n",
       "43                  0                      4                   1   \n",
       "50                  0                      4                   1   \n",
       "\n",
       "    arr_highway_id_encoded  ...  arr_roadwaytype_id_encoded  \\\n",
       "33                       3  ...                           0   \n",
       "39                       0  ...                           3   \n",
       "42                       2  ...                           2   \n",
       "43                       3  ...                           6   \n",
       "50                       3  ...                           6   \n",
       "\n",
       "    arr_next_pcc_encoded  arr_cur_lanes_cat_encoded  arr_cur_spd_cat_encoded  \\\n",
       "33                     2                          0                        4   \n",
       "39                     0                          0                        0   \n",
       "42                     1                          2                        4   \n",
       "43                     1                          0                        5   \n",
       "50                     0                          2                        0   \n",
       "\n",
       "    arr_cur_cap_cat_encoded  arr_cur_final_place_encoded  \\\n",
       "33                        1                            2   \n",
       "39                        0                            2   \n",
       "42                        4                            2   \n",
       "43                        4                            0   \n",
       "50                        3                            0   \n",
       "\n",
       "    arr_cur_areatype_encoded  current_volume  connected_volume  \\\n",
       "33                         0          1216.0                -1   \n",
       "39                         0          4577.0                -1   \n",
       "42                         0           847.0                -1   \n",
       "43                         0          1060.0                -1   \n",
       "50                         0           480.0                -1   \n",
       "\n",
       "    predicted_connected_volume  \n",
       "33                        1107  \n",
       "39                         718  \n",
       "42                         865  \n",
       "43                         429  \n",
       "50                         244  \n",
       "\n",
       "[5 rows x 21 columns]"
      ]
     },
     "execution_count": 72,
     "metadata": {},
     "output_type": "execute_result"
    }
   ],
   "source": [
    "unseen_df.head()"
   ]
  },
  {
   "cell_type": "code",
   "execution_count": 73,
   "id": "f4e49cbd-c8ff-4eaf-a29d-310ec31070c6",
   "metadata": {
    "execution": {
     "iopub.execute_input": "2024-05-28T11:13:32.844050Z",
     "iopub.status.busy": "2024-05-28T11:13:32.843805Z",
     "iopub.status.idle": "2024-05-28T11:13:32.848506Z",
     "shell.execute_reply": "2024-05-28T11:13:32.848029Z",
     "shell.execute_reply.started": "2024-05-28T11:13:32.844033Z"
    }
   },
   "outputs": [
    {
     "name": "stderr",
     "output_type": "stream",
     "text": [
      "/tmp/ipykernel_14105/2335342865.py:1: SettingWithCopyWarning:\n",
      "\n",
      "\n",
      "A value is trying to be set on a copy of a slice from a DataFrame.\n",
      "Try using .loc[row_indexer,col_indexer] = value instead\n",
      "\n",
      "See the caveats in the documentation: https://pandas.pydata.org/pandas-docs/stable/user_guide/indexing.html#returning-a-view-versus-a-copy\n",
      "\n"
     ]
    },
    {
     "data": {
      "text/plain": [
       "(28599, 32)"
      ]
     },
     "execution_count": 73,
     "metadata": {},
     "output_type": "execute_result"
    }
   ],
   "source": [
    "new_unseen_df_1['predicted_connected_volume'] = unseen_df['predicted_connected_volume']\n",
    "new_unseen_df_1.shape"
   ]
  },
  {
   "cell_type": "code",
   "execution_count": 74,
   "id": "cd078ffe-93c4-4973-a01f-8cce57381740",
   "metadata": {
    "execution": {
     "iopub.execute_input": "2024-05-28T11:13:58.398452Z",
     "iopub.status.busy": "2024-05-28T11:13:58.398241Z",
     "iopub.status.idle": "2024-05-28T11:13:58.402428Z",
     "shell.execute_reply": "2024-05-28T11:13:58.401993Z",
     "shell.execute_reply.started": "2024-05-28T11:13:58.398438Z"
    }
   },
   "outputs": [],
   "source": [
    "import urllib.parse\n",
    "from sqlalchemy import create_engine\n",
    "import psycopg2\n",
    "import psycopg2.extras as extras\n",
    "\n",
    "# Insert Data Into DB\n",
    "\n",
    "database = 'isgpostgres'\n",
    "user = 'postgres'\n",
    "password = '123@NjMpTs'\n",
    "host = '20.62.75.39'\n",
    "port = '9030'\n",
    "\n",
    "encoded_password = urllib.parse.quote(password)\n",
    "\n",
    "schema_name = 'tm_new_data'\n",
    "unseen_table_name = 'nys_hour_8_volume_new_appr_27052024_rf_unseen'\n",
    "\n",
    "connection_string = \"postgresql://\" + user + \":\" + encoded_password + \"@\" + host + \":\" + port + \"/\" + database\n",
    "engine = create_engine(connection_string)"
   ]
  },
  {
   "cell_type": "code",
   "execution_count": 75,
   "id": "01795202-cb8b-4a0b-ab87-f8ea66e977c7",
   "metadata": {
    "execution": {
     "iopub.execute_input": "2024-05-28T11:14:02.078444Z",
     "iopub.status.busy": "2024-05-28T11:14:02.078235Z",
     "iopub.status.idle": "2024-05-28T11:14:15.266976Z",
     "shell.execute_reply": "2024-05-28T11:14:15.266527Z",
     "shell.execute_reply.started": "2024-05-28T11:14:02.078430Z"
    }
   },
   "outputs": [
    {
     "data": {
      "text/plain": [
       "28599"
      ]
     },
     "execution_count": 75,
     "metadata": {},
     "output_type": "execute_result"
    }
   ],
   "source": [
    "# new_unseen_df_1.to_sql(unseen_table_name,engine,if_exists='append',schema=schema_name, chunksize=10000,index=False,method='multi')"
   ]
  },
  {
   "cell_type": "code",
   "execution_count": null,
   "id": "20e9f2f7-a6a2-43d7-b7ed-e6b3f54b9d57",
   "metadata": {},
   "outputs": [],
   "source": []
  }
 ],
 "metadata": {
  "kernelspec": {
   "display_name": "Python 3 (ipykernel)",
   "language": "python",
   "name": "python3"
  },
  "language_info": {
   "codemirror_mode": {
    "name": "ipython",
    "version": 3
   },
   "file_extension": ".py",
   "mimetype": "text/x-python",
   "name": "python",
   "nbconvert_exporter": "python",
   "pygments_lexer": "ipython3",
   "version": "3.11.8"
  },
  "varInspector": {
   "cols": {
    "lenName": 16,
    "lenType": 16,
    "lenVar": 40
   },
   "kernels_config": {
    "python": {
     "delete_cmd_postfix": "",
     "delete_cmd_prefix": "del ",
     "library": "var_list.py",
     "varRefreshCmd": "print(var_dic_list())"
    },
    "r": {
     "delete_cmd_postfix": ") ",
     "delete_cmd_prefix": "rm(",
     "library": "var_list.r",
     "varRefreshCmd": "cat(var_dic_list()) "
    }
   },
   "types_to_exclude": [
    "module",
    "function",
    "builtin_function_or_method",
    "instance",
    "_Feature"
   ],
   "window_display": false
  },
  "widgets": {
   "application/vnd.jupyter.widget-state+json": {
    "state": {},
    "version_major": 2,
    "version_minor": 0
   }
  }
 },
 "nbformat": 4,
 "nbformat_minor": 5
}
